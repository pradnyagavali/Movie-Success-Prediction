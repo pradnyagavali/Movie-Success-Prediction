{
  "nbformat": 4,
  "nbformat_minor": 0,
  "metadata": {
    "colab": {
      "name": "Movie_Success_prediction.ipynb",
      "provenance": [],
      "collapsed_sections": []
    },
    "kernelspec": {
      "display_name": "Python 3",
      "name": "python3"
    }
  },
  "cells": [
    {
      "cell_type": "markdown",
      "metadata": {
        "id": "GYJUmYdoWkrJ"
      },
      "source": [
        "## **Movie Success Prediction **"
      ]
    },
    {
      "cell_type": "code",
      "metadata": {
        "id": "-Hoi0DDVIzT8"
      },
      "source": [
        "import pandas as pd\n",
        "import numpy as np\n",
        "from sklearn.model_selection import train_test_split\n",
        "from sklearn.preprocessing import StandardScaler\n",
        "from sklearn.neighbors import KNeighborsClassifier\n",
        "from sklearn.metrics import accuracy_score\n",
        "import io\n",
        "import matplotlib.pyplot as plt\n"
      ],
      "execution_count": null,
      "outputs": []
    },
    {
      "cell_type": "code",
      "metadata": {
        "id": "9112Z1MeJE02",
        "colab": {
          "resources": {
            "http://localhost:8080/nbextensions/google.colab/files.js": {
              "data": "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",
              "ok": true,
              "headers": [
                [
                  "content-type",
                  "application/javascript"
                ]
              ],
              "status": 200,
              "status_text": ""
            }
          },
          "base_uri": "https://localhost:8080/",
          "height": 73
        },
        "outputId": "2d72d7d1-77c5-4b79-e606-795f90284cf8"
      },
      "source": [
        "from google.colab import files\n",
        "uploaded = files.upload()"
      ],
      "execution_count": null,
      "outputs": [
        {
          "output_type": "display_data",
          "data": {
            "text/html": [
              "\n",
              "     <input type=\"file\" id=\"files-019dcd2e-e3b1-49dc-baf9-08b6bdf86d6c\" name=\"files[]\" multiple disabled\n",
              "        style=\"border:none\" />\n",
              "     <output id=\"result-019dcd2e-e3b1-49dc-baf9-08b6bdf86d6c\">\n",
              "      Upload widget is only available when the cell has been executed in the\n",
              "      current browser session. Please rerun this cell to enable.\n",
              "      </output>\n",
              "      <script src=\"/nbextensions/google.colab/files.js\"></script> "
            ],
            "text/plain": [
              "<IPython.core.display.HTML object>"
            ]
          },
          "metadata": {
            "tags": []
          }
        },
        {
          "output_type": "stream",
          "text": [
            "Saving IMDB-Movie-Data.csv to IMDB-Movie-Data.csv\n"
          ],
          "name": "stdout"
        }
      ]
    },
    {
      "cell_type": "code",
      "metadata": {
        "id": "Tt2fbvmdJMxv"
      },
      "source": [
        "df = pd.read_csv(io.BytesIO(uploaded['IMDB-Movie-Data.csv']))"
      ],
      "execution_count": null,
      "outputs": []
    },
    {
      "cell_type": "code",
      "metadata": {
        "id": "0Aro2VIpJZEm",
        "colab": {
          "base_uri": "https://localhost:8080/",
          "height": 295
        },
        "outputId": "444472c3-fbb7-403a-f3b2-9bcfbe81cd1d"
      },
      "source": [
        "df.head()"
      ],
      "execution_count": null,
      "outputs": [
        {
          "output_type": "execute_result",
          "data": {
            "text/html": [
              "<div>\n",
              "<style scoped>\n",
              "    .dataframe tbody tr th:only-of-type {\n",
              "        vertical-align: middle;\n",
              "    }\n",
              "\n",
              "    .dataframe tbody tr th {\n",
              "        vertical-align: top;\n",
              "    }\n",
              "\n",
              "    .dataframe thead th {\n",
              "        text-align: right;\n",
              "    }\n",
              "</style>\n",
              "<table border=\"1\" class=\"dataframe\">\n",
              "  <thead>\n",
              "    <tr style=\"text-align: right;\">\n",
              "      <th></th>\n",
              "      <th>Rank</th>\n",
              "      <th>Title</th>\n",
              "      <th>Genre</th>\n",
              "      <th>Description</th>\n",
              "      <th>Director</th>\n",
              "      <th>Actors</th>\n",
              "      <th>Year</th>\n",
              "      <th>Runtime (Minutes)</th>\n",
              "      <th>Rating</th>\n",
              "      <th>Votes</th>\n",
              "      <th>Revenue (Millions)</th>\n",
              "      <th>Metascore</th>\n",
              "      <th>Success</th>\n",
              "    </tr>\n",
              "  </thead>\n",
              "  <tbody>\n",
              "    <tr>\n",
              "      <th>0</th>\n",
              "      <td>1.0</td>\n",
              "      <td>Guardians of the Galaxy</td>\n",
              "      <td>Action,Adventure,Sci-Fi</td>\n",
              "      <td>A group of intergalactic criminals are forced ...</td>\n",
              "      <td>James Gunn</td>\n",
              "      <td>Chris Pratt, Vin Diesel, Bradley Cooper, Zoe S...</td>\n",
              "      <td>2014.0</td>\n",
              "      <td>121.0</td>\n",
              "      <td>8.1</td>\n",
              "      <td>757074.0</td>\n",
              "      <td>333.13</td>\n",
              "      <td>76.0</td>\n",
              "      <td>1.0</td>\n",
              "    </tr>\n",
              "    <tr>\n",
              "      <th>1</th>\n",
              "      <td>2.0</td>\n",
              "      <td>Prometheus</td>\n",
              "      <td>Adventure,Mystery,Sci-Fi</td>\n",
              "      <td>Following clues to the origin of mankind, a te...</td>\n",
              "      <td>Ridley Scott</td>\n",
              "      <td>Noomi Rapace, Logan Marshall-Green, Michael Fa...</td>\n",
              "      <td>2012.0</td>\n",
              "      <td>124.0</td>\n",
              "      <td>7.0</td>\n",
              "      <td>485820.0</td>\n",
              "      <td>126.46</td>\n",
              "      <td>65.0</td>\n",
              "      <td>1.0</td>\n",
              "    </tr>\n",
              "    <tr>\n",
              "      <th>2</th>\n",
              "      <td>3.0</td>\n",
              "      <td>Split</td>\n",
              "      <td>Horror,Thriller</td>\n",
              "      <td>Three girls are kidnapped by a man with a diag...</td>\n",
              "      <td>M. Night Shyamalan</td>\n",
              "      <td>James McAvoy, Anya Taylor-Joy, Haley Lu Richar...</td>\n",
              "      <td>2016.0</td>\n",
              "      <td>117.0</td>\n",
              "      <td>7.3</td>\n",
              "      <td>157606.0</td>\n",
              "      <td>138.12</td>\n",
              "      <td>62.0</td>\n",
              "      <td>0.0</td>\n",
              "    </tr>\n",
              "    <tr>\n",
              "      <th>3</th>\n",
              "      <td>4.0</td>\n",
              "      <td>Sing</td>\n",
              "      <td>Animation,Comedy,Family</td>\n",
              "      <td>In a city of humanoid animals, a hustling thea...</td>\n",
              "      <td>Christophe Lourdelet</td>\n",
              "      <td>Matthew McConaughey,Reese Witherspoon, Seth Ma...</td>\n",
              "      <td>2016.0</td>\n",
              "      <td>108.0</td>\n",
              "      <td>7.2</td>\n",
              "      <td>60545.0</td>\n",
              "      <td>270.32</td>\n",
              "      <td>59.0</td>\n",
              "      <td>0.0</td>\n",
              "    </tr>\n",
              "    <tr>\n",
              "      <th>4</th>\n",
              "      <td>5.0</td>\n",
              "      <td>Suicide Squad</td>\n",
              "      <td>Action,Adventure,Fantasy</td>\n",
              "      <td>A secret government agency recruits some of th...</td>\n",
              "      <td>David Ayer</td>\n",
              "      <td>Will Smith, Jared Leto, Margot Robbie, Viola D...</td>\n",
              "      <td>2016.0</td>\n",
              "      <td>123.0</td>\n",
              "      <td>6.2</td>\n",
              "      <td>393727.0</td>\n",
              "      <td>325.02</td>\n",
              "      <td>40.0</td>\n",
              "      <td>0.0</td>\n",
              "    </tr>\n",
              "  </tbody>\n",
              "</table>\n",
              "</div>"
            ],
            "text/plain": [
              "   Rank                    Title  ... Metascore Success\n",
              "0   1.0  Guardians of the Galaxy  ...      76.0     1.0\n",
              "1   2.0               Prometheus  ...      65.0     1.0\n",
              "2   3.0                    Split  ...      62.0     0.0\n",
              "3   4.0                     Sing  ...      59.0     0.0\n",
              "4   5.0            Suicide Squad  ...      40.0     0.0\n",
              "\n",
              "[5 rows x 13 columns]"
            ]
          },
          "metadata": {
            "tags": []
          },
          "execution_count": 4
        }
      ]
    },
    {
      "cell_type": "markdown",
      "metadata": {
        "id": "3l4-F6bfS1bj"
      },
      "source": [
        "## **Data** **Preprocessing**"
      ]
    },
    {
      "cell_type": "markdown",
      "metadata": {
        "id": "TuX4WSuETJBB"
      },
      "source": [
        "\n",
        "\n",
        "1.   Handling Missing Data\n",
        "2.   Handling Categorical Data\n",
        "\n"
      ]
    },
    {
      "cell_type": "code",
      "metadata": {
        "colab": {
          "base_uri": "https://localhost:8080/",
          "height": 164
        },
        "id": "VCdQbcfkNJ6B",
        "outputId": "cb7a0d94-b20e-417d-b593-03ef819e3827"
      },
      "source": [
        "import numpy as np\n",
        "df.describe(include=np.object)   #get an overview of the values each column contains"
      ],
      "execution_count": null,
      "outputs": [
        {
          "output_type": "execute_result",
          "data": {
            "text/html": [
              "<div>\n",
              "<style scoped>\n",
              "    .dataframe tbody tr th:only-of-type {\n",
              "        vertical-align: middle;\n",
              "    }\n",
              "\n",
              "    .dataframe tbody tr th {\n",
              "        vertical-align: top;\n",
              "    }\n",
              "\n",
              "    .dataframe thead th {\n",
              "        text-align: right;\n",
              "    }\n",
              "</style>\n",
              "<table border=\"1\" class=\"dataframe\">\n",
              "  <thead>\n",
              "    <tr style=\"text-align: right;\">\n",
              "      <th></th>\n",
              "      <th>Title</th>\n",
              "      <th>Genre</th>\n",
              "      <th>Description</th>\n",
              "      <th>Director</th>\n",
              "      <th>Actors</th>\n",
              "    </tr>\n",
              "  </thead>\n",
              "  <tbody>\n",
              "    <tr>\n",
              "      <th>count</th>\n",
              "      <td>838</td>\n",
              "      <td>838</td>\n",
              "      <td>838</td>\n",
              "      <td>838</td>\n",
              "      <td>838</td>\n",
              "    </tr>\n",
              "    <tr>\n",
              "      <th>unique</th>\n",
              "      <td>837</td>\n",
              "      <td>189</td>\n",
              "      <td>838</td>\n",
              "      <td>524</td>\n",
              "      <td>834</td>\n",
              "    </tr>\n",
              "    <tr>\n",
              "      <th>top</th>\n",
              "      <td>The Host</td>\n",
              "      <td>Action,Adventure,Sci-Fi</td>\n",
              "      <td>Two siblings become increasingly frightened by...</td>\n",
              "      <td>Ridley Scott</td>\n",
              "      <td>Shia LaBeouf, Megan Fox, Josh Duhamel, Tyrese ...</td>\n",
              "    </tr>\n",
              "    <tr>\n",
              "      <th>freq</th>\n",
              "      <td>2</td>\n",
              "      <td>50</td>\n",
              "      <td>1</td>\n",
              "      <td>8</td>\n",
              "      <td>2</td>\n",
              "    </tr>\n",
              "  </tbody>\n",
              "</table>\n",
              "</div>"
            ],
            "text/plain": [
              "           Title  ...                                             Actors\n",
              "count        838  ...                                                838\n",
              "unique       837  ...                                                834\n",
              "top     The Host  ...  Shia LaBeouf, Megan Fox, Josh Duhamel, Tyrese ...\n",
              "freq           2  ...                                                  2\n",
              "\n",
              "[4 rows x 5 columns]"
            ]
          },
          "metadata": {
            "tags": []
          },
          "execution_count": 5
        }
      ]
    },
    {
      "cell_type": "code",
      "metadata": {
        "colab": {
          "base_uri": "https://localhost:8080/"
        },
        "id": "Kuair8lyTzGm",
        "outputId": "178ad2a0-0ef3-4375-a8df-2184e9f7b98a"
      },
      "source": [
        "df.duplicated().sum()   #checking duplicated entries."
      ],
      "execution_count": null,
      "outputs": [
        {
          "output_type": "execute_result",
          "data": {
            "text/plain": [
              "0"
            ]
          },
          "metadata": {
            "tags": []
          },
          "execution_count": 6
        }
      ]
    },
    {
      "cell_type": "code",
      "metadata": {
        "id": "NZk-aodcT6r5"
      },
      "source": [
        "df=df.dropna(axis=0, how='any')"
      ],
      "execution_count": null,
      "outputs": []
    },
    {
      "cell_type": "code",
      "metadata": {
        "colab": {
          "base_uri": "https://localhost:8080/"
        },
        "id": "6DclRnAdUE5Z",
        "outputId": "13799ec0-8728-4c9c-f887-fd0ffaace918"
      },
      "source": [
        "df.shape"
      ],
      "execution_count": null,
      "outputs": [
        {
          "output_type": "execute_result",
          "data": {
            "text/plain": [
              "(838, 13)"
            ]
          },
          "metadata": {
            "tags": []
          },
          "execution_count": 8
        }
      ]
    },
    {
      "cell_type": "code",
      "metadata": {
        "colab": {
          "base_uri": "https://localhost:8080/"
        },
        "id": "GPBLUskcUS9M",
        "outputId": "68d2c19e-ddbc-4cdd-9304-f509a46c367e"
      },
      "source": [
        "df.isnull().sum()"
      ],
      "execution_count": null,
      "outputs": [
        {
          "output_type": "execute_result",
          "data": {
            "text/plain": [
              "Rank                  0\n",
              "Title                 0\n",
              "Genre                 0\n",
              "Description           0\n",
              "Director              0\n",
              "Actors                0\n",
              "Year                  0\n",
              "Runtime (Minutes)     0\n",
              "Rating                0\n",
              "Votes                 0\n",
              "Revenue (Millions)    0\n",
              "Metascore             0\n",
              "Success               0\n",
              "dtype: int64"
            ]
          },
          "metadata": {
            "tags": []
          },
          "execution_count": 9
        }
      ]
    },
    {
      "cell_type": "code",
      "metadata": {
        "colab": {
          "base_uri": "https://localhost:8080/"
        },
        "id": "38VJKUZVToNN",
        "outputId": "cfeee76d-41b9-4741-a7b9-3a86fc882630"
      },
      "source": [
        "for col_name in df.columns:\n",
        "  if df[col_name].dtypes == 'object':\n",
        "    unique_cat = len (df[col_name].unique())\n",
        "    print(\"'{col_name}' has {unique_cat} unique categories\".format(\n",
        "        col_name=col_name,unique_cat=unique_cat ))"
      ],
      "execution_count": null,
      "outputs": [
        {
          "output_type": "stream",
          "text": [
            "'Title' has 837 unique categories\n",
            "'Genre' has 189 unique categories\n",
            "'Description' has 838 unique categories\n",
            "'Director' has 524 unique categories\n",
            "'Actors' has 834 unique categories\n"
          ],
          "name": "stdout"
        }
      ]
    },
    {
      "cell_type": "code",
      "metadata": {
        "id": "2Nu_7_ewhf11"
      },
      "source": [
        "def copy_csv(filename):\n",
        "    import pandas as pd\n",
        "    df = pd.read_csv('IMDB-Movie-Data.csv')\n",
        "    df.to_csv('copy_of_' + 'IMDB-Movie-Data.csv')\n",
        "copy_csv('IMDB-Movie-Data.csv')"
      ],
      "execution_count": null,
      "outputs": []
    },
    {
      "cell_type": "code",
      "metadata": {
        "id": "KSdkXyCqoG-V"
      },
      "source": [
        "import csv\n",
        "L = []\n",
        "with open(\"IMDB-Movie-Data (1).csv\") as csv_read_file:\n",
        "    reader = csv.DictReader(csv_read_file)\n",
        "    \n",
        "    with open(\"copy_of_IMDB-Movie-Data.csv\", \"w\") as csv_write_file:\n",
        "        writer = csv.DictWriter(csv_write_file, fieldnames=[\"Rank\", \"Title\", \"Genre\", \"Description\",\"Director\",\"Actors\",\"Year\",\"Runtime(Minutes)\",\"Rating\",\"Votes\",\"Revenue(Millions)\",\"Metascore\"])\n",
        "        writer.writeheader()\n",
        "        for row in df.itertuples():\n",
        "            # row[\"Genre\"] = str(getattr(row, 'Genre').split(',')[0])\n",
        "            # print(getattr(row, 'Genre'))\n",
        "            L.append(str(str(getattr(row, 'Genre')).split(',')[0]))\n",
        "            # writer.writerow(row)\n",
        "        i=0\n",
        "        for row in reader:\n",
        "            # print(row)\n",
        "            # writer.writerow(row+\",\"+L[i])\n",
        "            i+=1"
      ],
      "execution_count": null,
      "outputs": []
    },
    {
      "cell_type": "code",
      "metadata": {
        "id": "fag5KBICCcbd",
        "colab": {
          "base_uri": "https://localhost:8080/"
        },
        "outputId": "b9975dcc-dd6c-42bf-c94d-efd0895768d8"
      },
      "source": [
        "import os\n",
        "import csv\n",
        "\n",
        "\n",
        "def clean(input):\n",
        "    tmpFile = \"Pradnya_1.csv\"\n",
        "    with open(input, \"r\") as file, open(tmpFile, \"w\") as outFile:\n",
        "        reader = csv.reader(file, delimiter=',')\n",
        "        writer = csv.writer(outFile, delimiter=',')\n",
        "        header = next(reader)\n",
        "        writer.writerow(header)\n",
        "        i = 0\n",
        "        for row in reader:\n",
        "            colValues = []\n",
        "            for col in row:\n",
        "                colValues.append(col.lower())\n",
        "            colValues.append(str(L[i]))\n",
        "            writer.writerow(colValues)\n",
        "            print(colValues)\n",
        "            i+=1\n",
        "    #os.rename(tmpFile, input)\n",
        "clean('IMDB-Movie-Data.csv')"
      ],
      "execution_count": null,
      "outputs": [
        {
          "output_type": "stream",
          "text": [
            "['1', 'guardians of the galaxy', 'action,adventure,sci-fi', 'a group of intergalactic criminals are forced to work together to stop a fanatical warrior from taking control of the universe.', 'james gunn', 'chris pratt, vin diesel, bradley cooper, zoe saldana', '2014', '121', '8.1', '757074', '333.13', '76', '1', 'Action']\n",
            "['2', 'prometheus', 'adventure,mystery,sci-fi', 'following clues to the origin of mankind, a team finds a structure on a distant moon, but they soon realize they are not alone.', 'ridley scott', 'noomi rapace, logan marshall-green, michael fassbender, charlize theron', '2012', '124', '7', '485820', '126.46', '65', '1', 'Adventure']\n",
            "['3', 'split', 'horror,thriller', 'three girls are kidnapped by a man with a diagnosed 23 distinct personalities. they must try to escape before the apparent emergence of a frightful new 24th.', 'm. night shyamalan', 'james mcavoy, anya taylor-joy, haley lu richardson, jessica sula', '2016', '117', '7.3', '157606', '138.12', '62', '0', 'Horror']\n",
            "['4', 'sing', 'animation,comedy,family', \"in a city of humanoid animals, a hustling theater impresario's attempt to save his theater with a singing competition becomes grander than he anticipates even as its finalists' find that their lives will never be the same.\", 'christophe lourdelet', 'matthew mcconaughey,reese witherspoon, seth macfarlane, scarlett johansson', '2016', '108', '7.2', '60545', '270.32', '59', '0', 'Animation']\n",
            "['5', 'suicide squad', 'action,adventure,fantasy', 'a secret government agency recruits some of the most dangerous incarcerated super-villains to form a defensive task force. their first mission: save the world from the apocalypse.', 'david ayer', 'will smith, jared leto, margot robbie, viola davis', '2016', '123', '6.2', '393727', '325.02', '40', '0', 'Action']\n",
            "['6', 'the great wall', 'action,adventure,fantasy', 'european mercenaries searching for black powder become embroiled in the defense of the great wall of china against a horde of monstrous creatures.', 'yimou zhang', 'matt damon, tian jing, willem dafoe, andy lau', '2016', '103', '6.1', '56036', '45.13', '42', '0', 'Action']\n",
            "['7', 'la la land', 'comedy,drama,music', 'a jazz pianist falls for an aspiring actress in los angeles.', 'damien chazelle', 'ryan gosling, emma stone, rosemarie dewitt, j.k. simmons', '2016', '128', '8.3', '258682', '151.06', '93', '1', 'Comedy']\n",
            "['9', 'the lost city of z', 'action,adventure,biography', 'a true-life drama, centering on british explorer col. percival fawcett, who disappeared while searching for a mysterious city in the amazon in the 1920s.', 'james gray', 'charlie hunnam, robert pattinson, sienna miller, tom holland', '2016', '141', '7.1', '7188', '8.01', '78', '0', 'Action']\n",
            "['10', 'passengers', 'adventure,drama,romance', 'a spacecraft traveling to a distant colony planet and transporting thousands of people has a malfunction in its sleep chambers. as a result, two passengers are awakened 90 years early.', 'morten tyldum', 'jennifer lawrence, chris pratt, michael sheen,laurence fishburne', '2016', '116', '7', '192177', '100.01', '41', '0', 'Adventure']\n",
            "['11', 'fantastic beasts and where to find them', 'adventure,family,fantasy', \"the adventures of writer newt scamander in new york's secret community of witches and wizards seventy years before harry potter reads his book in school.\", 'david yates', 'eddie redmayne, katherine waterston, alison sudol,dan fogler', '2016', '133', '7.5', '232072', '234.02', '66', '1', 'Adventure']\n",
            "['12', 'hidden figures', 'biography,drama,history', 'the story of a team of female african-american mathematicians who served a vital role in nasa during the early years of the u.s. space program.', 'theodore melfi', 'taraji p. henson, octavia spencer, janelle monáe,kevin costner', '2016', '127', '7.8', '93103', '169.27', '74', '0', 'Biography']\n",
            "['13', 'rogue one', 'action,adventure,sci-fi', 'the rebel alliance makes a risky move to steal the plans for the death star, setting up the epic saga to follow.', 'gareth edwards', 'felicity jones, diego luna, alan tudyk, donnie yen', '2016', '133', '7.9', '323118', '532.17', '65', '1', 'Action']\n",
            "['14', 'moana', 'animation,adventure,comedy', \"in ancient polynesia, when a terrible curse incurred by the demigod maui reaches an impetuous chieftain's daughter's island, she answers the ocean's call to seek out the demigod to set things right.\", 'ron clements', \"auli'i cravalho, dwayne johnson, rachel house, temuera morrison\", '2016', '107', '7.7', '118151', '248.75', '81', '0', 'Animation']\n",
            "['15', 'colossal', 'action,comedy,drama', 'gloria is an out-of-work party girl forced to leave her life in new york city, and move back home. when reports surface that a giant creature is destroying seoul, she gradually comes to the realization that she is somehow connected to this phenomenon.', 'nacho vigalondo', 'anne hathaway, jason sudeikis, austin stowell,tim blake nelson', '2016', '109', '6.4', '8612', '2.87', '70', '0', 'Action']\n",
            "['16', 'the secret life of pets', 'animation,adventure,comedy', 'the quiet life of a terrier named max is upended when his owner takes in duke, a stray whom max instantly dislikes.', 'chris renaud', 'louis c.k., eric stonestreet, kevin hart, lake bell', '2016', '87', '6.6', '120259', '368.31', '61', '0', 'Animation']\n",
            "['17', 'hacksaw ridge', 'biography,drama,history', 'wwii american army medic desmond t. doss, who served during the battle of okinawa, refuses to kill people, and becomes the first man in american history to receive the medal of honor without firing a shot.', 'mel gibson', 'andrew garfield, sam worthington, luke bracey,teresa palmer', '2016', '139', '8.2', '211760', '67.12', '71', '0', 'Biography']\n",
            "['18', 'jason bourne', 'action,thriller', \"the cia's most dangerous former operative is drawn out of hiding to uncover more explosive truths about his past.\", 'paul greengrass', 'matt damon, tommy lee jones, alicia vikander,vincent cassel', '2016', '123', '6.7', '150823', '162.16', '58', '0', 'Action']\n",
            "['19', 'lion', 'biography,drama', 'a five-year-old indian boy gets lost on the streets of calcutta, thousands of kilometers from home. he survives many challenges before being adopted by a couple in australia. 25 years later, he sets out to find his lost family.', 'garth davis', 'dev patel, nicole kidman, rooney mara, sunny pawar', '2016', '118', '8.1', '102061', '51.69', '69', '0', 'Biography']\n",
            "['20', 'arrival', 'drama,mystery,sci-fi', 'when twelve mysterious spacecraft appear around the world, linguistics professor louise banks is tasked with interpreting the language of the apparent alien visitors.', 'denis villeneuve', 'amy adams, jeremy renner, forest whitaker,michael stuhlbarg', '2016', '116', '8', '340798', '100.5', '81', '1', 'Drama']\n",
            "['21', 'gold', 'adventure,drama,thriller', 'kenny wells, a prospector desperate for a lucky break, teams up with a similarly eager geologist and sets off on a journey to find gold in the uncharted jungle of indonesia.', 'stephen gaghan', 'matthew mcconaughey, edgar ramírez, bryce dallas howard, corey stoll', '2016', '120', '6.7', '19053', '7.22', '49', '0', 'Adventure']\n",
            "['22', 'manchester by the sea', 'drama', \"a depressed uncle is asked to take care of his teenage nephew after the boy's father dies.\", 'kenneth lonergan', 'casey affleck, michelle williams, kyle chandler,lucas hedges', '2016', '137', '7.9', '134213', '47.7', '96', '0', 'Drama']\n",
            "['24', 'trolls', 'animation,adventure,comedy', 'after the bergens invade troll village, poppy, the happiest troll ever born, and the curmudgeonly branch set off on a journey to rescue her friends.', 'walt dohrn', 'anna kendrick, justin timberlake,zooey deschanel, christopher mintz-plasse', '2016', '92', '6.5', '38552', '153.69', '56', '0', 'Animation']\n",
            "['25', 'independence day: resurgence', 'action,adventure,sci-fi', \"two decades after the first independence day invasion, earth is faced with a new extra-solar threat. but will mankind's new space defenses be enough?\", 'roland emmerich', 'liam hemsworth, jeff goldblum, bill pullman,maika monroe', '2016', '120', '5.3', '127553', '103.14', '32', '0', 'Action']\n",
            "['29', 'bad moms', 'comedy', 'when three overworked and under-appreciated moms are pushed beyond their limits, they ditch their conventional responsibilities for a jolt of long overdue freedom, fun, and comedic self-indulgence.', 'jon lucas', 'mila kunis, kathryn hahn, kristen bell,christina applegate', '2016', '100', '6.2', '66540', '113.08', '60', '0', 'Comedy']\n",
            "['30', \"assassin's creed\", 'action,adventure,drama', 'when callum lynch explores the memories of his ancestor aguilar and gains the skills of a master assassin, he discovers he is a descendant of the secret assassins society.', 'justin kurzel', 'michael fassbender, marion cotillard, jeremy irons,brendan gleeson', '2016', '115', '5.9', '112813', '54.65', '36', '0', 'Action']\n",
            "['31', 'why him?', 'comedy', \"a holiday gathering threatens to go off the rails when ned fleming realizes that his daughter's silicon valley millionaire boyfriend is about to pop the question.\", 'john hamburg', 'zoey deutch, james franco, tangie ambrose,cedric the entertainer', '2016', '111', '6.3', '48123', '60.31', '39', '0', 'Comedy']\n",
            "['32', 'nocturnal animals', 'drama,thriller', \"a wealthy art gallery owner is haunted by her ex-husband's novel, a violent thriller she interprets as a symbolic revenge tale.\", 'tom ford', 'amy adams, jake gyllenhaal, michael shannon, aaron taylor-johnson', '2016', '116', '7.5', '126030', '10.64', '67', '0', 'Drama']\n",
            "['33', 'x-men: apocalypse', 'action,adventure,sci-fi', \"after the re-emergence of the world's first mutant, world-destroyer apocalypse, the x-men must unite to defeat his extinction level plan.\", 'bryan singer', 'james mcavoy, michael fassbender, jennifer lawrence, nicholas hoult', '2016', '144', '7.1', '275510', '155.33', '52', '1', 'Action']\n",
            "['34', 'deadpool', 'action,adventure,comedy', 'a fast-talking mercenary with a morbid sense of humor is subjected to a rogue experiment that leaves him with accelerated healing powers and a quest for revenge.', 'tim miller', 'ryan reynolds, morena baccarin, t.j. miller, ed skrein', '2016', '108', '8', '627797', '363.02', '65', '1', 'Action']\n",
            "['35', 'resident evil: the final chapter', 'action,horror,sci-fi', 'alice returns to where the nightmare began: the hive in raccoon city, where the umbrella corporation is gathering its forces for a final strike against the only remaining survivors of the apocalypse.', 'paul w.s. anderson', 'milla jovovich, iain glen, ali larter, shawn roberts', '2016', '107', '5.6', '46165', '26.84', '49', '0', 'Action']\n",
            "['36', 'captain america: civil war', 'action,adventure,sci-fi', \"political interference in the avengers' activities causes a rift between former allies captain america and iron man.\", 'anthony russo', 'chris evans, robert downey jr.,scarlett johansson, sebastian stan', '2016', '147', '7.9', '411656', '408.08', '75', '1', 'Action']\n",
            "['37', 'interstellar', 'adventure,drama,sci-fi', \"a team of explorers travel through a wormhole in space in an attempt to ensure humanity's survival.\", 'christopher nolan', 'matthew mcconaughey, anne hathaway, jessica chastain, mackenzie foy', '2014', '169', '8.6', '1047747', '187.99', '74', '1', 'Adventure']\n",
            "['38', 'doctor strange', 'action,adventure,fantasy', 'while on a journey of physical and spiritual healing, a brilliant neurosurgeon is drawn into the world of the mystic arts.', 'scott derrickson', 'benedict cumberbatch, chiwetel ejiofor, rachel mcadams, benedict wong', '2016', '115', '7.6', '293732', '232.6', '72', '1', 'Action']\n",
            "['39', 'the magnificent seven', 'action,adventure,western', 'seven gunmen in the old west gradually come together to help a poor village against savage thieves.', 'antoine fuqua', \"denzel washington, chris pratt, ethan hawke,vincent d'onofrio\", '2016', '132', '6.9', '122853', '93.38', '54', '0', 'Action']\n",
            "['41', 'sausage party', 'animation,adventure,comedy', 'a sausage strives to discover the truth about his existence.', 'greg tiernan', 'seth rogen, kristen wiig, jonah hill, alistair abell', '2016', '89', '6.3', '120690', '97.66', '66', '0', 'Animation']\n",
            "['42', 'moonlight', 'drama', 'a chronicle of the childhood, adolescence and burgeoning adulthood of a young, african-american, gay man growing up in a rough neighborhood of miami.', 'barry jenkins', 'mahershala ali, shariff earp, duan sanderson, alex r. hibbert', '2016', '111', '7.5', '135095', '27.85', '99', '0', 'Drama']\n",
            "['44', 'the founder', 'biography,drama,history', \"the story of ray kroc, a salesman who turned two brothers' innovative fast food eatery, mcdonald's, into one of the biggest restaurant businesses in the world with a combination of ambition, persistence, and ruthlessness.\", 'john lee hancock', 'michael keaton, nick offerman, john carroll lynch, linda cardellini', '2016', '115', '7.2', '37033', '12.79', '66', '0', 'Biography']\n",
            "['45', 'lowriders', 'drama', \"a young street artist in east los angeles is caught between his father's obsession with lowrider car culture, his ex-felon brother and his need for self-expression.\", 'ricardo de montreuil', 'gabriel chavarria, demián bichir, theo rossi,tony revolori', '2016', '99', '6.3', '279', '4.21', '57', '0', 'Drama']\n",
            "['46', 'pirates of the caribbean: on stranger tides', 'action,adventure,fantasy', 'jack sparrow and barbossa embark on a quest to find the elusive fountain of youth, only to discover that blackbeard and his daughter are after it too.', 'rob marshall', 'johnny depp, penélope cruz, ian mcshane, geoffrey rush', '2011', '136', '6.7', '395025', '241.06', '45', '0', 'Action']\n",
            "['47', 'miss sloane', 'drama,thriller', 'in the high-stakes world of political power-brokers, elizabeth sloane is the most sought after and formidable lobbyist in d.c. but when taking on the most powerful opponent of her career, she finds winning may come at too high a price.', 'john madden', 'jessica chastain, mark strong, gugu mbatha-raw,michael stuhlbarg', '2016', '132', '7.3', '17818', '3.44', '64', '0', 'Drama']\n",
            "['49', 'star trek beyond', 'action,adventure,sci-fi', 'the uss enterprise crew explores the furthest reaches of uncharted space, where they encounter a new ruthless enemy who puts them and everything the federation stands for to the test.', 'justin lin', 'chris pine, zachary quinto, karl urban, zoe saldana', '2016', '122', '7.1', '164567', '158.8', '68', '0', 'Action']\n",
            "['51', 'star wars: episode vii - the force awakens', 'action,adventure,fantasy', 'three decades after the defeat of the galactic empire, a new threat arises. the first order attempts to rule the galaxy and only a ragtag group of heroes can stop them, along with the help of the resistance.', 'j.j. abrams', 'daisy ridley, john boyega, oscar isaac, domhnall gleeson', '2015', '136', '8.1', '661608', '936.63', '81', '1', 'Action']\n",
            "['52', 'underworld: blood wars', 'action,adventure,fantasy', 'vampire death dealer, selene (kate beckinsale) fights to end the eternal war between the lycan clan and the vampire faction that betrayed her.', 'anna foerster', 'kate beckinsale, theo james, tobias menzies, lara pulver', '2016', '91', '5.8', '41362', '30.35', '23', '0', 'Action']\n",
            "['53', \"mother's day\", 'comedy,drama', \"three generations come together in the week leading up to mother's day.\", 'garry marshall', 'jennifer aniston, kate hudson, julia roberts, jason sudeikis', '2016', '118', '5.6', '20221', '32.46', '18', '0', 'Comedy']\n",
            "['54', 'john wick', 'action,crime,thriller', 'an ex-hitman comes out of retirement to track down the gangsters that took everything from him.', 'chad stahelski', 'keanu reeves, michael nyqvist, alfie allen, willem dafoe', '2014', '101', '7.2', '321933', '43', '68', '0', 'Action']\n",
            "['55', 'the dark knight', 'action,crime,drama', 'when the menace known as the joker wreaks havoc and chaos on the people of gotham, the dark knight must come to terms with one of the greatest psychological tests of his ability to fight injustice.', 'christopher nolan', 'christian bale, heath ledger, aaron eckhart,michael caine', '2008', '152', '9', '1791916', '533.32', '82', '1', 'Action']\n",
            "['56', 'silence', 'adventure,drama,history', 'in the 17th century, two portuguese jesuit priests travel to japan in an attempt to locate their mentor, who is rumored to have committed apostasy, and to propagate catholicism.', 'martin scorsese', 'andrew garfield, adam driver, liam neeson,tadanobu asano', '2016', '161', '7.3', '49190', '7.08', '79', '0', 'Adventure']\n",
            "['57', \"don't breathe\", 'crime,horror,thriller', \"hoping to walk away with a massive fortune, a trio of thieves break into the house of a blind man who isn't as helpless as he seems.\", 'fede alvarez', 'stephen lang, jane levy, dylan minnette, daniel zovatto', '2016', '88', '7.2', '121103', '89.21', '71', '0', 'Crime']\n",
            "['58', 'me before you', 'drama,romance', \"a girl in a small town forms an unlikely bond with a recently-paralyzed man she's taking care of.\", 'thea sharrock', 'emilia clarke, sam claflin, janet mcteer, charles dance', '2016', '106', '7.4', '113322', '56.23', '51', '0', 'Drama']\n",
            "['59', 'their finest', 'comedy,drama,romance', 'a former secretary, newly appointed as a scriptwriter for propaganda films, joins the cast and crew of a major production while the blitz rages around them.', 'lone scherfig', 'gemma arterton, sam claflin, bill nighy, jack huston', '2016', '117', '7', '3739', '3.18', '76', '0', 'Comedy']\n",
            "['60', 'sully', 'biography,drama', \"the story of chesley sullenberger, an american pilot who became a hero after landing his damaged plane on the hudson river in order to save the flight's passengers and crew.\", 'clint eastwood', 'tom hanks, aaron eckhart, laura linney, valerie mahaffey', '2016', '96', '7.5', '137608', '125.07', '74', '0', 'Biography']\n",
            "['61', 'batman v superman: dawn of justice', 'action,adventure,sci-fi', 'fearing that the actions of superman are left unchecked, batman takes on the man of steel, while the world wrestles with what kind of a hero it really needs.', 'zack snyder', 'ben affleck, henry cavill, amy adams, jesse eisenberg', '2016', '151', '6.7', '472307', '330.25', '44', '0', 'Action']\n",
            "['63', 'the girl on the train', 'crime,drama,mystery', 'a divorcee becomes entangled in a missing persons investigation that promises to send shockwaves throughout her life.', 'tate taylor', 'emily blunt, haley bennett, rebecca ferguson, justin theroux', '2016', '112', '6.5', '102177', '75.31', '48', '0', 'Crime']\n",
            "['64', 'fifty shades of grey', 'drama,romance,thriller', \"literature student anastasia steele's life changes forever when she meets handsome, yet tormented, billionaire christian grey.\", 'sam taylor-johnson', 'dakota johnson, jamie dornan, jennifer ehle,eloise mumford', '2015', '125', '4.1', '244474', '166.15', '46', '0', 'Drama']\n",
            "['65', 'the prestige', 'drama,mystery,sci-fi', 'two stage magicians engage in competitive one-upmanship in an attempt to create the ultimate stage illusion.', 'christopher nolan', 'christian bale, hugh jackman, scarlett johansson, michael caine', '2006', '130', '8.5', '913152', '53.08', '66', '0', 'Drama']\n",
            "['66', 'kingsman: the secret service', 'action,adventure,comedy', \"a spy organization recruits an unrefined, but promising street kid into the agency's ultra-competitive training program, just as a global threat emerges from a twisted tech genius.\", 'matthew vaughn', 'colin firth, taron egerton, samuel l. jackson,michael caine', '2014', '129', '7.7', '440209', '128.25', '58', '1', 'Action']\n",
            "['67', 'patriots day', 'drama,history,thriller', 'the story of the 2013 boston marathon bombing and the aftermath, which includes the city-wide manhunt to find the terrorists responsible.', 'peter berg', 'mark wahlberg, michelle monaghan, j.k. simmons, john goodman', '2016', '133', '7.4', '39784', '31.86', '69', '0', 'Drama']\n",
            "['68', 'mad max: fury road', 'action,adventure,sci-fi', 'a woman rebels against a tyrannical ruler in postapocalyptic australia in search for her home-land with the help of a group of female prisoners, a psychotic worshipper, and a drifter named max.', 'george miller', 'tom hardy, charlize theron, nicholas hoult, zoë kravitz', '2015', '120', '8.1', '632842', '153.63', '90', '1', 'Action']\n",
            "['69', 'wakefield', 'drama', \"a man's nervous breakdown causes him to leave his wife and live in his attic for several months.\", 'robin swicord', \"bryan cranston, jennifer garner, beverly d'angelo,jason o'mara\", '2016', '106', '7.5', '291', '0.01', '61', '0', 'Drama']\n",
            "['70', 'deepwater horizon', 'action,drama,thriller', 'a dramatization of the april 2010 disaster, when the offshore drilling rig deepwater horizon exploded and created the worst oil spill in u.s. history.', 'peter berg', 'mark wahlberg, kurt russell, douglas m. griffin, james dumont', '2016', '107', '7.2', '89849', '61.28', '68', '0', 'Action']\n",
            "['72', 'allied', 'action,drama,romance', 'in 1942, a canadian intelligence officer in north africa encounters a female french resistance fighter on a deadly mission behind enemy lines. when they reunite in london, their relationship is tested by the pressures of war.', 'robert zemeckis', 'brad pitt, marion cotillard, jared harris, vincent ebrahim', '2016', '124', '7.1', '78079', '40.07', '60', '0', 'Action']\n",
            "['73', 'a monster calls', 'drama,fantasy', \"a boy seeks the help of a tree monster to cope with his single mother's terminal illness.\", 'j.a. bayona', 'lewis macdougall, sigourney weaver, felicity jones,toby kebbell', '2016', '108', '7.5', '39134', '3.73', '76', '0', 'Drama']\n",
            "['74', 'collateral beauty', 'drama,romance', 'retreating from life after a tragedy, a man questions the universe by writing to love, time and death. receiving unexpected answers, he begins to see how these things interlock and how even loss can reveal moments of meaning and beauty.', 'david frankel', 'will smith, edward norton, kate winslet, michael peña', '2016', '97', '6.8', '43977', '30.98', '23', '0', 'Drama']\n",
            "['75', 'zootopia', 'animation,adventure,comedy', 'in a city of anthropomorphic animals, a rookie bunny cop and a cynical con artist fox must work together to uncover a conspiracy.', 'byron howard', 'ginnifer goodwin, jason bateman, idris elba, jenny slate', '2016', '108', '8.1', '296853', '341.26', '78', '1', 'Animation']\n",
            "['76', \"pirates of the caribbean: at world's end\", 'action,adventure,fantasy', 'captain barbossa, will turner and elizabeth swann must sail off the edge of the map, navigate treachery and betrayal, find jack sparrow, and make their final alliances for one last decisive battle.', 'gore verbinski', 'johnny depp, orlando bloom, keira knightley,geoffrey rush', '2007', '169', '7.1', '498821', '309.4', '50', '1', 'Action']\n",
            "['77', 'the avengers', 'action,sci-fi', \"earth's mightiest heroes must come together and learn to fight as a team if they are to stop the mischievous loki and his alien army from enslaving humanity.\", 'joss whedon', 'robert downey jr., chris evans, scarlett johansson,jeremy renner', '2012', '143', '8.1', '1045588', '623.28', '69', '1', 'Action']\n",
            "['78', 'inglourious basterds', 'adventure,drama,war', \"in nazi-occupied france during world war ii, a plan to assassinate nazi leaders by a group of jewish u.s. soldiers coincides with a theatre owner's vengeful plans for the same.\", 'quentin tarantino', 'brad pitt, diane kruger, eli roth,mélanie laurent', '2009', '153', '8.3', '959065', '120.52', '69', '1', 'Adventure']\n",
            "['79', \"pirates of the caribbean: dead man's chest\", 'action,adventure,fantasy', \"jack sparrow races to recover the heart of davy jones to avoid enslaving his soul to jones' service, as other friends and foes seek the heart for their own agenda as well.\", 'gore verbinski', 'johnny depp, orlando bloom, keira knightley, jack davenport', '2006', '151', '7.3', '552027', '423.03', '53', '1', 'Action']\n",
            "['80', 'ghostbusters', 'action,comedy,fantasy', 'following a ghost invasion of manhattan, paranormal enthusiasts erin gilbert and abby yates, nuclear engineer jillian holtzmann, and subway worker patty tolan band together to stop the otherworldly threat.', 'paul feig', 'melissa mccarthy, kristen wiig, kate mckinnon, leslie jones', '2016', '116', '5.3', '147717', '128.34', '60', '0', 'Action']\n",
            "['81', 'inception', 'action,adventure,sci-fi', 'a thief, who steals corporate secrets through use of dream-sharing technology, is given the inverse task of planting an idea into the mind of a ceo.', 'christopher nolan', 'leonardo dicaprio, joseph gordon-levitt, ellen page, ken watanabe', '2010', '148', '8.8', '1583625', '292.57', '74', '1', 'Action']\n",
            "['82', 'captain fantastic', 'comedy,drama', 'in the forests of the pacific northwest, a father devoted to raising his six kids with a rigorous physical and intellectual education is forced to leave his paradise and enter the world, challenging his idea of what it means to be a parent.', 'matt ross', 'viggo mortensen, george mackay, samantha isler,annalise basso', '2016', '118', '7.9', '105081', '5.88', '72', '0', 'Comedy']\n",
            "['83', 'the wolf of wall street', 'biography,comedy,crime', 'based on the true story of jordan belfort, from his rise to a wealthy stock-broker living the high life to his fall involving crime, corruption and the federal government.', 'martin scorsese', 'leonardo dicaprio, jonah hill, margot robbie,matthew mcconaughey', '2013', '180', '8.2', '865134', '116.87', '75', '1', 'Biography']\n",
            "['84', 'gone girl', 'crime,drama,mystery', \"with his wife's disappearance having become the focus of an intense media circus, a man sees the spotlight turned on him when it's suspected that he may not be innocent.\", 'david fincher', 'ben affleck, rosamund pike, neil patrick harris,tyler perry', '2014', '149', '8.1', '636243', '167.74', '79', '1', 'Crime']\n",
            "['85', 'furious seven', 'action,crime,thriller', 'deckard shaw seeks revenge against dominic toretto and his family for his comatose brother.', 'james wan', 'vin diesel, paul walker, dwayne johnson, jason statham', '2015', '137', '7.2', '301249', '350.03', '67', '1', 'Action']\n",
            "['86', 'jurassic world', 'action,adventure,sci-fi', 'a new theme park, built on the original site of jurassic park, creates a genetically modified hybrid dinosaur, which escapes containment and goes on a killing spree.', 'colin trevorrow', 'chris pratt, bryce dallas howard, ty simpkins,judy greer', '2015', '124', '7', '455169', '652.18', '59', '1', 'Action']\n",
            "['87', 'live by night', 'crime,drama', 'a group of boston-bred gangsters set up shop in balmy florida during the prohibition era, facing off against the competition and the ku klux klan.', 'ben affleck', 'ben affleck, elle fanning, brendan gleeson, chris messina', '2016', '129', '6.4', '27869', '10.38', '49', '0', 'Crime']\n",
            "['88', 'avatar', 'action,adventure,fantasy', 'a paraplegic marine dispatched to the moon pandora on a unique mission becomes torn between following his orders and protecting the world he feels is his home.', 'james cameron', 'sam worthington, zoe saldana, sigourney weaver, michelle rodriguez', '2009', '162', '7.8', '935408', '760.51', '83', '1', 'Action']\n",
            "['89', 'the hateful eight', 'crime,drama,mystery', 'in the dead of a wyoming winter, a bounty hunter and his prisoner find shelter in a cabin currently inhabited by a collection of nefarious characters.', 'quentin tarantino', 'samuel l. jackson, kurt russell, jennifer jason leigh, walton goggins', '2015', '187', '7.8', '341170', '54.12', '68', '0', 'Crime']\n",
            "['90', 'the accountant', 'action,crime,drama', 'as a math savant uncooks the books for a new client, the treasury department closes in on his activities and the body count starts to rise.', \"gavin o'connor\", 'ben affleck, anna kendrick, j.k. simmons, jon bernthal', '2016', '128', '7.4', '162122', '86.2', '51', '0', 'Action']\n",
            "['91', 'prisoners', 'crime,drama,mystery', \"when keller dover's daughter and her friend go missing, he takes matters into his own hands as the police pursue multiple leads and the pressure mounts.\", 'denis villeneuve', 'hugh jackman, jake gyllenhaal, viola davis,melissa leo', '2013', '153', '8.1', '431185', '60.96', '74', '0', 'Crime']\n",
            "['92', 'warcraft', 'action,adventure,fantasy', 'as an orc horde invades the planet azeroth using a magic portal, a few human heroes and dissenting orcs must attempt to stop the true evil behind this war.', 'duncan jones', 'travis fimmel, paula patton, ben foster, dominic cooper', '2016', '123', '7', '187547', '47.17', '32', '0', 'Action']\n",
            "['93', 'the help', 'drama', \"an aspiring author during the civil rights movement of the 1960s decides to write a book detailing the african american maids' point of view on the white families for which they work, and the hardships they go through on a daily basis.\", 'tate taylor', 'emma stone, viola davis, octavia spencer, bryce dallas howard', '2011', '146', '8.1', '342429', '169.71', '62', '1', 'Drama']\n",
            "['94', 'war dogs', 'comedy,crime,drama', \"based on the true story of two young men, david packouz and efraim diveroli, who won a $300 million contract from the pentagon to arm america's allies in afghanistan.\", 'todd phillips', 'jonah hill, miles teller, steve lantz, gregg weiner', '2016', '114', '7.1', '106463', '43.02', '57', '0', 'Comedy']\n",
            "['95', 'avengers: age of ultron', 'action,adventure,sci-fi', \"when tony stark and bruce banner try to jump-start a dormant peacekeeping program called ultron, things go horribly wrong and it's up to earth's mightiest heroes to stop the villainous ultron from enacting his terrible plan.\", 'joss whedon', 'robert downey jr., chris evans, mark ruffalo, chris hemsworth', '2015', '141', '7.4', '516895', '458.99', '66', '1', 'Action']\n",
            "['96', 'the nice guys', 'action,comedy,crime', 'in 1970s los angeles, a mismatched pair of private eyes investigate a missing girl and the mysterious death of a porn star.', 'shane black', 'russell crowe, ryan gosling, angourie rice, matt bomer', '2016', '116', '7.4', '175067', '36.25', '70', '0', 'Action']\n",
            "['97', 'kimi no na wa', 'animation,drama,fantasy', 'two strangers find themselves linked in a bizarre way. when a connection forms, will distance be the only thing to keep them apart?', 'makoto shinkai', 'ryûnosuke kamiki, mone kamishiraishi, ryô narita, aoi yuki', '2016', '106', '8.6', '34110', '4.68', '79', '0', 'Animation']\n",
            "['98', 'the void', 'horror,mystery,sci-fi', 'shortly after delivering a patient to an understaffed hospital, a police officer experiences strange and violent occurrences seemingly linked to a group of mysterious hooded figures.', 'jeremy gillespie', 'aaron poole, kenneth welsh,daniel fathers, kathleen munroe', '2016', '90', '5.8', '9247', '0.15', '62', '0', 'Horror']\n",
            "['99', 'personal shopper', 'drama,mystery,thriller', 'a personal shopper in paris refuses to leave the city until she makes contact with her twin brother who previously died there. her life becomes more complicated when a mysterious person contacts her via text message.', 'olivier assayas', 'kristen stewart, lars eidinger, sigrid bouaziz,anders danielsen lie', '2016', '105', '6.3', '10181', '1.29', '77', '0', 'Drama']\n",
            "['100', 'the departed', 'crime,drama,thriller', 'an undercover cop and a mole in the police attempt to identify each other while infiltrating an irish gang in south boston.', 'martin scorsese', 'leonardo dicaprio, matt damon, jack nicholson, mark wahlberg', '2006', '151', '8.5', '937414', '132.37', '85', '1', 'Crime']\n",
            "['101', 'legend', 'biography,crime,drama', 'identical twin gangsters ronald and reginald kray terrorize london during the 1960s.', 'brian helgeland', 'tom hardy, emily browning, taron egerton, paul anderson', '2015', '132', '7', '108836', '1.87', '55', '0', 'Biography']\n",
            "['102', 'thor', 'action,adventure,fantasy', 'the powerful but arrogant god thor is cast out of asgard to live amongst humans in midgard (earth), where he soon becomes one of their finest defenders.', 'kenneth branagh', 'chris hemsworth, anthony hopkins, natalie portman, tom hiddleston', '2011', '115', '7', '570814', '181.02', '57', '1', 'Action']\n",
            "['103', 'the martian', 'adventure,drama,sci-fi', 'an astronaut becomes stranded on mars after his team assume him dead, and must rely on his ingenuity to find a way to signal to earth that he is alive.', 'ridley scott', 'matt damon, jessica chastain, kristen wiig, kate mara', '2015', '144', '8', '556097', '228.43', '80', '1', 'Adventure']\n",
            "['105', 'the man from u.n.c.l.e.', 'action,adventure,comedy', 'in the early 1960s, cia agent napoleon solo and kgb operative illya kuryakin participate in a joint mission against a mysterious criminal organization, which is working to proliferate nuclear weapons.', 'guy ritchie', 'henry cavill, armie hammer, alicia vikander, elizabeth debicki', '2015', '116', '7.3', '202973', '45.43', '56', '0', 'Action']\n",
            "['106', 'hell or high water', 'crime,drama,thriller', \"a divorced father and his ex-con older brother resort to a desperate scheme in order to save their family's ranch in west texas.\", 'david mackenzie', 'chris pine, ben foster, jeff bridges, gil birmingham', '2016', '102', '7.7', '115546', '26.86', '88', '0', 'Crime']\n",
            "['107', 'the comedian', 'comedy', 'a look at the life of an aging insult comic named jack burke.', 'taylor hackford', 'robert de niro, leslie mann, danny devito, edie falco', '2016', '120', '5.4', '1954', '1.66', '40', '0', 'Comedy']\n",
            "['108', 'the legend of tarzan', 'action,adventure,drama', 'tarzan, having acclimated to life in london, is called back to his former home in the jungle to investigate the activities at a mining encampment.', 'david yates', 'alexander skarsgård, rory j. saper, christian stevens, christoph waltz', '2016', '110', '6.3', '117590', '126.59', '44', '0', 'Action']\n",
            "['110', 'ex machina', 'drama,mystery,sci-fi', 'a young programmer is selected to participate in a ground-breaking experiment in synthetic intelligence by evaluating the human qualities of a breath-taking humanoid a.i.', 'alex garland', 'alicia vikander, domhnall gleeson, oscar isaac,sonoya mizuno', '2014', '108', '7.7', '339797', '25.44', '78', '0', 'Drama']\n",
            "['111', 'the belko experiment', 'action,horror,thriller', \"in a twisted social experiment, 80 americans are locked in their high-rise corporate office in bogotá, colombia and ordered by an unknown voice coming from the company's intercom system to participate in a deadly game of kill or be killed.\", 'greg mclean', 'john gallagher jr., tony goldwyn, adria arjona, john c. mcginley', '2016', '89', '6.3', '3712', '10.16', '44', '0', 'Action']\n",
            "['112', '12 years a slave', 'biography,drama,history', 'in the antebellum united states, solomon northup, a free black man from upstate new york, is abducted and sold into slavery.', 'steve mcqueen', 'chiwetel ejiofor, michael kenneth williams, michael fassbender, brad pitt', '2013', '134', '8.1', '486338', '56.67', '96', '0', 'Biography']\n",
            "['114', '300', 'action,fantasy,war', 'king leonidas of sparta and a force of 300 men fight the persians at thermopylae in 480 b.c.', 'zack snyder', 'gerard butler, lena headey, david wenham, dominic west', '2006', '117', '7.7', '637104', '210.59', '52', '1', 'Action']\n",
            "['115', 'harry potter and the deathly hallows: part 2', 'adventure,drama,fantasy', \"harry, ron and hermione search for voldemort's remaining horcruxes in their effort to destroy the dark lord as the final battle rages on at hogwarts.\", 'david yates', 'daniel radcliffe, emma watson, rupert grint, michael gambon', '2011', '130', '8.1', '590595', '380.96', '87', '1', 'Adventure']\n",
            "['116', 'office christmas party', 'comedy', 'when his uptight ceo sister threatens to shut down his branch, the branch manager throws an epic christmas party in order to land a big client and save the day, but the party gets way out of hand...', 'josh gordon', 'jason bateman, olivia munn, t.j. miller,jennifer aniston', '2016', '105', '5.8', '30761', '54.73', '42', '0', 'Comedy']\n",
            "['117', 'the neon demon', 'horror,thriller', 'when aspiring model jesse moves to los angeles, her youth and vitality are devoured by a group of beauty-obsessed women who will take any means necessary to get what she has.', 'nicolas winding refn', 'elle fanning, christina hendricks, keanu reeves, karl glusman', '2016', '118', '6.2', '50359', '1.33', '51', '0', 'Horror']\n",
            "['119', '10 cloverfield lane', 'drama,horror,mystery', 'after getting in a car accident, a woman is held in a shelter with two men, who claim the outside world is affected by a widespread chemical attack.', 'dan trachtenberg', 'john goodman, mary elizabeth winstead, john gallagher jr., douglas m. griffin', '2016', '104', '7.2', '192968', '71.9', '76', '0', 'Drama']\n",
            "['120', 'finding dory', 'animation,adventure,comedy', 'the friendly but forgetful blue tang fish, dory, begins a search for her long-lost parents, and everyone learns a few things about the real meaning of family along the way.', 'andrew stanton', \"ellen degeneres, albert brooks,ed o'neill, kaitlin olson\", '2016', '97', '7.4', '157026', '486.29', '77', '0', 'Animation']\n",
            "['121', \"miss peregrine's home for peculiar children\", 'adventure,drama,family', \"when jacob discovers clues to a mystery that stretches across time, he finds miss peregrine's home for peculiar children. but the danger deepens after he gets to know the residents and learns about their special powers.\", 'tim burton', 'eva green, asa butterfield, samuel l. jackson, judi dench', '2016', '127', '6.7', '101058', '87.24', '57', '0', 'Adventure']\n",
            "['122', 'divergent', 'adventure,mystery,sci-fi', \"in a world divided by factions based on virtues, tris learns she's divergent and won't fit in. when she discovers a plot to destroy divergents, tris and the mysterious four must find out what makes divergents dangerous before it's too late.\", 'neil burger', 'shailene woodley, theo james, kate winslet, jai courtney', '2014', '139', '6.7', '362093', '150.83', '48', '0', 'Adventure']\n",
            "['123', 'mike and dave need wedding dates', 'adventure,comedy,romance', \"two hard-partying brothers place an online ad to find the perfect dates for their sister's hawaiian wedding. hoping for a wild getaway, the boys instead find themselves out-hustled by an uncontrollable duo.\", 'jake szymanski', 'zac efron, adam devine, anna kendrick, aubrey plaza', '2016', '98', '6', '53183', '46.01', '51', '0', 'Adventure']\n",
            "['125', 'the dark knight rises', 'action,thriller', \"eight years after the joker's reign of anarchy, the dark knight, with the help of the enigmatic selina, is forced from his imposed exile to save gotham city, now on the edge of total annihilation, from the brutal guerrilla terrorist bane.\", 'christopher nolan', 'christian bale, tom hardy, anne hathaway,gary oldman', '2012', '164', '8.5', '1222645', '448.13', '78', '1', 'Action']\n",
            "['126', 'the jungle book', 'adventure,drama,family', 'after a threat from the tiger shere khan forces him to flee the jungle, a man-cub named mowgli embarks on a journey of self discovery with the help of panther, bagheera, and free spirited bear, baloo.', 'jon favreau', 'neel sethi, bill murray, ben kingsley, idris elba', '2016', '106', '7.5', '198243', '364', '77', '1', 'Adventure']\n",
            "['127', 'transformers: age of extinction', 'action,adventure,sci-fi', 'autobots must escape sight from a bounty hunter who has taken control of the human serendipity: unexpectedly, optimus prime and his remaining gang turn to a mechanic, his daughter, and her back street racing boyfriend for help.', 'michael bay', 'mark wahlberg, nicola peltz, jack reynor, stanley tucci', '2014', '165', '5.7', '255483', '245.43', '32', '0', 'Action']\n",
            "['128', 'nerve', 'adventure,crime,mystery', 'a high school senior finds herself immersed in an online game of truth or dare, where her every move starts to become manipulated by an anonymous community of \"watchers.\"', 'henry joost', 'emma roberts, dave franco, emily meade, miles heizer', '2016', '96', '6.6', '69651', '38.56', '58', '0', 'Adventure']\n",
            "['129', 'mamma mia!', 'comedy,family,musical', \"the story of a bride-to-be trying to find her real father told using hit songs by the popular '70s group abba.\", 'phyllida lloyd', 'meryl streep, pierce brosnan, amanda seyfried,stellan skarsgård', '2008', '108', '6.4', '153481', '143.7', '51', '0', 'Comedy']\n",
            "['130', 'the revenant', 'adventure,drama,thriller', 'a frontiersman on a fur trading expedition in the 1820s fights for survival after being mauled by a bear and left for dead by members of his own hunting team.', 'alejandro gonzález iñárritu', 'leonardo dicaprio, tom hardy, will poulter, domhnall gleeson', '2015', '156', '8', '499424', '183.64', '76', '1', 'Adventure']\n",
            "['131', 'fences', 'drama', 'a working-class african-american father tries to raise his family in the 1950s, while coming to terms with the events of his life.', 'denzel washington', 'denzel washington, viola davis, stephen henderson, jovan adepo', '2016', '139', '7.3', '50953', '57.64', '79', '0', 'Drama']\n",
            "['132', 'into the woods', 'adventure,comedy,drama', 'a witch tasks a childless baker and his wife with procuring magical items from classic fairy tales to reverse the curse put on their family tree.', 'rob marshall', 'anna kendrick, meryl streep, chris pine, emily blunt', '2014', '125', '6', '109756', '128', '69', '0', 'Adventure']\n",
            "['133', 'the shallows', 'drama,horror,thriller', 'a mere 200 yards from shore, surfer nancy is attacked by a great white shark, with her short journey to safety becoming the ultimate contest of wills.', 'jaume collet-serra', 'blake lively, óscar jaenada, angelo josue lozano corzo, brett cullen', '2016', '86', '6.4', '78328', '55.12', '59', '0', 'Drama']\n",
            "['134', 'whiplash', 'drama,music', \"a promising young drummer enrolls at a cut-throat music conservatory where his dreams of greatness are mentored by an instructor who will stop at nothing to realize a student's potential.\", 'damien chazelle', 'miles teller, j.k. simmons, melissa benoist, paul reiser', '2014', '107', '8.5', '477276', '13.09', '88', '0', 'Drama']\n",
            "['135', 'furious 6', 'action,crime,thriller', 'hobbs has dominic and brian reassemble their crew to take down a team of mercenaries: dominic unexpectedly gets convoluted also facing his presumed deceased girlfriend, letty.', 'justin lin', 'vin diesel, paul walker, dwayne johnson, michelle rodriguez', '2013', '130', '7.1', '318051', '238.67', '61', '1', 'Action']\n",
            "['136', 'the place beyond the pines', 'crime,drama,thriller', 'a motorcycle stunt rider turns to robbing banks as a way to provide for his lover and their newborn child, a decision that puts him on a collision course with an ambitious rookie cop navigating a department ruled by a corrupt detective.', 'derek cianfrance', 'ryan gosling, bradley cooper, eva mendes,craig van hook', '2012', '140', '7.3', '200090', '21.38', '68', '0', 'Crime']\n",
            "['137', 'no country for old men', 'crime,drama,thriller', 'violence and mayhem ensue after a hunter stumbles upon a drug deal gone wrong and more than two million dollars in cash near the rio grande.', 'ethan coen', 'tommy lee jones, javier bardem, josh brolin, woody harrelson', '2007', '122', '8.1', '660286', '74.27', '91', '0', 'Crime']\n",
            "['138', 'the great gatsby', 'drama,romance', 'a writer and wall street trader, nick, finds himself drawn to the past and lifestyle of his millionaire neighbor, jay gatsby.', 'baz luhrmann', 'leonardo dicaprio, carey mulligan, joel edgerton,tobey maguire', '2013', '143', '7.3', '386102', '144.81', '55', '1', 'Drama']\n",
            "['139', 'shutter island', 'mystery,thriller', 'in 1954, a u.s. marshal investigates the disappearance of a murderess who escaped from a hospital for the criminally insane.', 'martin scorsese', 'leonardo dicaprio, emily mortimer, mark ruffalo,ben kingsley', '2010', '138', '8.1', '855604', '127.97', '63', '1', 'Mystery']\n",
            "['141', 'star trek', 'action,adventure,sci-fi', \"the brash james t. kirk tries to live up to his father's legacy with mr. spock keeping him in check as a vengeful romulan from the future creates black holes to destroy the federation one planet at a time.\", 'j.j. abrams', 'chris pine, zachary quinto, simon pegg, leonard nimoy', '2009', '127', '8', '526324', '257.7', '82', '1', 'Action']\n",
            "['142', 'diary of a wimpy kid', 'comedy,family', 'the adventures of a teenager who is fresh out of elementary and transitions to middle school, where he has to learn the consequences and responsibility to survive the year.', 'thor freudenthal', 'zachary gordon, robert capron, rachael harris,steve zahn', '2010', '94', '6.2', '34184', '64', '56', '0', 'Comedy']\n",
            "['143', 'the big short', 'biography,comedy,drama', 'four denizens in the world of high-finance predict the credit and housing bubble collapse of the mid-2000s, and decide to take on the big banks for their greed and lack of foresight.', 'adam mckay', 'christian bale, steve carell, ryan gosling, brad pitt', '2015', '130', '7.8', '246360', '70.24', '81', '0', 'Biography']\n",
            "['144', 'room', 'drama', 'a young boy is raised within the confines of a small shed.', 'lenny abrahamson', 'brie larson, jacob tremblay, sean bridgers,wendy crewson', '2015', '118', '8.2', '224132', '14.68', '86', '0', 'Drama']\n",
            "['145', 'django unchained', 'drama,western', 'with the help of a german bounty hunter , a freed slave sets out to rescue his wife from a brutal mississippi plantation owner.', 'quentin tarantino', 'jamie foxx, christoph waltz, leonardo dicaprio,kerry washington', '2012', '165', '8.4', '1039115', '162.8', '81', '1', 'Drama']\n",
            "['146', 'ah-ga-ssi', 'drama,mystery,romance', 'a woman is hired as a handmaiden to a japanese heiress, but secretly she is involved in a plot to defraud her.', 'chan-wook park', 'min-hee kim, jung-woo ha, jin-woong jo, so-ri moon', '2016', '144', '8.1', '33418', '2.01', '84', '0', 'Drama']\n",
            "['147', 'the edge of seventeen', 'comedy,drama', 'high-school life gets even more unbearable for nadine when her best friend, krista, starts dating her older brother.', 'kelly fremon craig', 'hailee steinfeld, haley lu richardson, blake jenner, kyra sedgwick', '2016', '104', '7.4', '47694', '14.26', '77', '0', 'Comedy']\n",
            "['148', 'watchmen', 'action,drama,mystery', 'in 1985 where former superheroes exist, the murder of a colleague sends active vigilante rorschach into his own sprawling investigation, uncovering something that could completely change the course of history as we know it.', 'zack snyder', 'jackie earle haley, patrick wilson, carla gugino,malin akerman', '2009', '162', '7.6', '410249', '107.5', '56', '1', 'Action']\n",
            "['149', 'superbad', 'comedy', 'two co-dependent high school seniors are forced to deal with separation anxiety after their plan to stage a booze-soaked party goes awry.', 'greg mottola', 'michael cera, jonah hill, christopher mintz-plasse, bill hader', '2007', '113', '7.6', '442082', '121.46', '76', '1', 'Comedy']\n",
            "['150', 'inferno', 'action,adventure,crime', 'when robert langdon wakes up in an italian hospital with amnesia, he teams up with dr. sienna brooks, and together they must race across europe against the clock to foil a deadly global plot.', 'ron howard', 'tom hanks, felicity jones, irrfan khan, ben foster', '2016', '121', '6.2', '97623', '34.26', '42', '0', 'Action']\n",
            "['151', 'the bfg', 'adventure,family,fantasy', 'an orphan little girl befriends a benevolent giant who takes her to giant country, where they attempt to stop the man-eating giants that are invading the human world.', 'steven spielberg', 'mark rylance, ruby barnhill, penelope wilton,jemaine clement', '2016', '117', '6.4', '50853', '55.47', '66', '0', 'Adventure']\n",
            "['152', 'the hunger games', 'adventure,sci-fi,thriller', \"katniss everdeen voluntarily takes her younger sister's place in the hunger games: a televised competition in which two teenagers from each of the twelve districts of panem are chosen at random to fight to the death.\", 'gary ross', 'jennifer lawrence, josh hutcherson, liam hemsworth,stanley tucci', '2012', '142', '7.2', '735604', '408', '68', '1', 'Adventure']\n",
            "['153', 'white girl', 'drama', 'summer, new york city. a college girl falls hard for a guy she just met. after a night of partying goes wrong, she goes to wild extremes to get him back.', 'elizabeth wood', 'morgan saylor, brian marc, justin bartha, adrian martinez', '2016', '88', '5.8', '4299', '0.2', '65', '0', 'Drama']\n",
            "['154', 'sicario', 'action,crime,drama', 'an idealistic fbi agent is enlisted by a government task force to aid in the escalating war against drugs at the border area between the u.s. and mexico.', 'denis villeneuve', 'emily blunt, josh brolin, benicio del toro, jon bernthal', '2015', '121', '7.6', '243230', '46.88', '82', '0', 'Action']\n",
            "['156', 'aliens vs predator - requiem', 'action,horror,sci-fi', 'warring alien and predator races descend on a rural us town, where unsuspecting residents must band together for any chance of survival.', 'colin strause', 'reiko aylesworth, steven pasquale,shareeka epps, john ortiz', '2007', '94', '4.7', '97618', '41.8', '29', '0', 'Action']\n",
            "['157', 'pacific rim', 'action,adventure,sci-fi', 'as a war between humankind and monstrous sea creatures wages on, a former pilot and a trainee are paired up to drive a seemingly obsolete special weapon in a desperate effort to save the world from the apocalypse.', 'guillermo del toro', 'idris elba, charlie hunnam, rinko kikuchi,charlie day', '2013', '131', '7', '400519', '101.79', '64', '1', 'Action']\n",
            "['158', 'crazy, stupid, love.', 'comedy,drama,romance', \"a middle-aged husband's life changes dramatically when his wife asks him for a divorce. he seeks to rediscover his manhood with the help of a newfound friend, jacob, learning to pick up girls at bars.\", 'glenn ficarra', 'steve carell, ryan gosling, julianne moore, emma stone', '2011', '118', '7.4', '396714', '84.24', '68', '0', 'Comedy']\n",
            "['159', 'scott pilgrim vs. the world', 'action,comedy,fantasy', \"scott pilgrim must defeat his new girlfriend's seven evil exes in order to win her heart.\", 'edgar wright', 'michael cera, mary elizabeth winstead, kieran culkin, alison pill', '2010', '112', '7.5', '291457', '31.49', '69', '0', 'Action']\n",
            "['160', 'hot fuzz', 'action,comedy,mystery', 'exceptional london cop nicholas angel is involuntarily transferred to a quaint english village and paired with a witless new partner. while on the beat, nicholas suspects a sinister conspiracy is afoot with the residents.', 'edgar wright', 'simon pegg, nick frost, martin freeman, bill nighy', '2007', '121', '7.9', '373244', '23.62', '81', '0', 'Action']\n",
            "['162', 'free fire', 'action,comedy,crime', 'set in boston in 1978, a meeting in a deserted warehouse between two gangs turns into a shootout and a game of survival.', 'ben wheatley', 'sharlto copley, brie larson, armie hammer, cillian murphy', '2016', '90', '7', '6946', '1.8', '63', '0', 'Action']\n",
            "['163', 'x-men: days of future past', 'action,adventure,sci-fi', 'the x-men send wolverine to the past in a desperate effort to change history and prevent an event that results in doom for both humans and mutants.', 'bryan singer', 'patrick stewart, ian mckellen, hugh jackman, james mcavoy', '2014', '132', '8', '552298', '233.91', '74', '1', 'Action']\n",
            "['164', 'jack reacher: never go back', 'action,adventure,crime', 'jack reacher must uncover the truth behind a major government conspiracy in order to clear his name. on the run as a fugitive from the law, reacher uncovers a potential secret from his past that could change his life forever.', 'edward zwick', 'tom cruise, cobie smulders, aldis hodge, robert knepper', '2016', '118', '6.1', '78043', '58.4', '47', '0', 'Action']\n",
            "['165', 'casino royale', 'action,adventure,thriller', 'armed with a licence to kill, secret agent james bond sets out on his first mission as 007 and must defeat a weapons dealer in a high stakes game of poker at casino royale, but things are not what they seem.', 'martin campbell', 'daniel craig, eva green, judi dench, jeffrey wright', '2006', '144', '8', '495106', '167.01', '80', '1', 'Action']\n",
            "['166', 'twilight', 'drama,fantasy,romance', 'a teenage girl risks everything when she falls in love with a vampire.', 'catherine hardwicke', 'kristen stewart, robert pattinson, billy burke,sarah clarke', '2008', '122', '5.2', '361449', '191.45', '56', '0', 'Drama']\n",
            "['167', 'now you see me 2', 'action,adventure,comedy', 'the four horsemen resurface and are forcibly recruited by a tech genius to pull off their most impossible heist yet.', 'jon m. chu', 'jesse eisenberg, mark ruffalo, woody harrelson, dave franco', '2016', '129', '6.5', '156567', '65.03', '46', '0', 'Action']\n",
            "['168', 'woman in gold', 'biography,drama,history', 'maria altmann, an octogenarian jewish refugee, takes on the austrian government to recover artwork she believes rightfully belongs to her family.', 'simon curtis', 'helen mirren, ryan reynolds, daniel brühl, katie holmes', '2015', '109', '7.3', '39723', '33.31', '51', '0', 'Biography']\n",
            "['169', '13 hours', 'action,drama,history', 'during an attack on a u.s. compound in libya, a security team struggles to make sense out of the chaos.', 'michael bay', 'john krasinski, pablo schreiber, james badge dale,david denman', '2016', '144', '7.3', '76935', '52.82', '48', '0', 'Action']\n",
            "['170', 'spectre', 'action,adventure,thriller', \"a cryptic message from bond's past sends him on a trail to uncover a sinister organization. while m battles political forces to keep the secret service alive, bond peels back the layers of deceit to reveal the terrible truth behind spectre.\", 'sam mendes', 'daniel craig, christoph waltz, léa seydoux, ralph fiennes', '2015', '148', '6.8', '308981', '200.07', '60', '0', 'Action']\n",
            "['171', 'nightcrawler', 'crime,drama,thriller', 'when louis bloom, a con man desperate for work, muscles into the world of l.a. crime journalism, he blurs the line between observer and participant to become the star of his own story.', 'dan gilroy', 'jake gyllenhaal, rene russo, bill paxton, riz ahmed', '2014', '118', '7.9', '332476', '32.28', '76', '0', 'Crime']\n",
            "['172', 'kubo and the two strings', 'animation,adventure,family', 'a young boy named kubo must locate a magical suit of armour worn by his late father in order to defeat a vengeful spirit from the past.', 'travis knight', 'charlize theron, art parkinson, matthew mcconaughey, ralph fiennes', '2016', '101', '7.9', '72778', '48.02', '84', '0', 'Animation']\n",
            "['174', 'her', 'drama,romance,sci-fi', 'a lonely writer develops an unlikely relationship with an operating system designed to meet his every need.', 'spike jonze', 'joaquin phoenix, amy adams, scarlett johansson,rooney mara', '2013', '126', '8', '390531', '25.56', '90', '0', 'Drama']\n",
            "['175', 'frozen', 'animation,adventure,comedy', 'when the newly crowned queen elsa accidentally uses her power to turn things into ice to curse her home in infinite winter, her sister, anna, teams up with a mountain man, his playful reindeer, and a snowman to change the weather condition.', 'chris buck', 'kristen bell, idina menzel, jonathan groff, josh gad', '2013', '102', '7.5', '451894', '400.74', '74', '1', 'Animation']\n",
            "['176', 'tomorrowland', 'action,adventure,family', 'bound by a shared destiny, a teen bursting with scientific curiosity and a former boy-genius inventor embark on a mission to unearth the secrets of a place somewhere in time and space that exists in their collective memory.', 'brad bird', 'george clooney, britt robertson, hugh laurie, raffey cassidy', '2015', '130', '6.5', '143069', '93.42', '60', '0', 'Action']\n",
            "['177', 'dawn of the planet of the apes', 'action,adventure,drama', 'a growing nation of genetically evolved apes led by caesar is threatened by a band of human survivors of the devastating virus unleashed a decade earlier.', 'matt reeves', 'gary oldman, keri russell, andy serkis, kodi smit-mcphee', '2014', '130', '7.6', '337777', '208.54', '79', '1', 'Action']\n",
            "['178', 'tropic thunder', 'action,comedy', 'through a series of freak occurrences, a group of actors shooting a big-budget war movie are forced to become the soldiers they are portraying.', 'ben stiller', 'ben stiller, jack black, robert downey jr., jeff kahn', '2008', '107', '7', '321442', '110.42', '71', '1', 'Action']\n",
            "['179', 'the conjuring 2', 'horror,mystery,thriller', 'lorraine and ed warren travel to north london to help a single mother raising four children alone in a house plagued by a malicious spirit.', 'james wan', \"vera farmiga, patrick wilson, madison wolfe, frances o'connor\", '2016', '134', '7.4', '137203', '102.46', '65', '0', 'Horror']\n",
            "['180', 'ant-man', 'action,adventure,comedy', 'armed with a super-suit with the astonishing ability to shrink in scale but increase in strength, cat burglar scott lang must embrace his inner hero and help his mentor, dr. hank pym, plan and pull off a heist that will save the world.', 'peyton reed', 'paul rudd, michael douglas, corey stoll, evangeline lilly', '2015', '117', '7.3', '368912', '180.19', '64', '1', 'Action']\n",
            "['181', \"bridget jones's baby\", 'comedy,romance', \"bridget's focus on single life and her career is interrupted when she finds herself pregnant, but with one hitch ... she can only be fifty percent sure of the identity of her baby's father.\", 'sharon maguire', 'renée zellweger, gemma jones, jim broadbent,sally phillips', '2016', '118', '6.7', '43086', '24.09', '59', '0', 'Comedy']\n",
            "['182', 'the vvitch: a new-england folktale', 'horror,mystery', 'a family in 1630s new england is torn apart by the forces of witchcraft, black magic and possession.', 'robert eggers', 'anya taylor-joy, ralph ineson, kate dickie, julian richings', '2015', '92', '6.8', '101781', '25.14', '83', '0', 'Horror']\n",
            "['183', 'cinderella', 'drama,family,fantasy', \"when her father unexpectedly passes away, young ella finds herself at the mercy of her cruel stepmother and her scheming step-sisters. never one to give up hope, ella's fortunes begin to change after meeting a dashing stranger.\", 'kenneth branagh', 'lily james, cate blanchett, richard madden,helena bonham carter', '2015', '105', '7', '117018', '201.15', '67', '0', 'Drama']\n",
            "['185', 'forushande', 'drama,thriller', 'while both participating in a production of \"death of a salesman,\" a teacher\\'s wife is assaulted in her new home, which leaves him determined to find the perpetrator over his wife\\'s traumatized objections.', 'asghar farhadi', 'taraneh alidoosti, shahab hosseini, babak karimi,farid sajjadi hosseini', '2016', '124', '8', '22389', '3.4', '85', '0', 'Drama']\n",
            "['187', \"billy lynn's long halftime walk\", 'drama,war', \"19-year-old billy lynn is brought home for a victory tour after a harrowing iraq battle. through flashbacks the film shows what really happened to his squad - contrasting the realities of war with america's perceptions.\", 'ang lee', 'joe alwyn, garrett hedlund, arturo castro, mason lee', '2016', '113', '6.3', '11944', '1.72', '53', '0', 'Drama']\n",
            "['188', 'crimson peak', 'drama,fantasy,horror', 'in the aftermath of a family tragedy, an aspiring author is torn between love for her childhood friend and the temptation of a mysterious outsider. trying to escape the ghosts of her past, she is swept away to a house that breathes, bleeds - and remembers.', 'guillermo del toro', 'mia wasikowska, jessica chastain, tom hiddleston, charlie hunnam', '2015', '119', '6.6', '97454', '31.06', '66', '0', 'Drama']\n",
            "['189', 'drive', 'crime,drama', 'a mysterious hollywood stuntman and mechanic moonlights as a getaway driver and finds himself in trouble when he helps out his neighbor.', 'nicolas winding refn', 'ryan gosling, carey mulligan, bryan cranston, albert brooks', '2011', '100', '7.8', '461509', '35.05', '78', '0', 'Crime']\n",
            "['190', 'trainwreck', 'comedy,drama,romance', 'having thought that monogamy was never possible, a commitment-phobic career woman may have to face her fears when she meets a good guy.', 'judd apatow', 'amy schumer, bill hader, brie larson, colin quinn', '2015', '125', '6.3', '106364', '110.01', '75', '0', 'Comedy']\n",
            "['191', 'the light between oceans', 'drama,romance', 'a lighthouse keeper and his wife living off the coast of western australia raise a baby they rescue from a drifting rowing boat.', 'derek cianfrance', 'michael fassbender, alicia vikander, rachel weisz, florence clery', '2016', '133', '7.2', '27382', '12.53', '60', '0', 'Drama']\n",
            "['193', 'spotlight', 'crime,drama,history', 'the true story of how the boston globe uncovered the massive scandal of child molestation and cover-up within the local catholic archdiocese, shaking the entire catholic church to its core.', 'tom mccarthy', 'mark ruffalo, michael keaton, rachel mcadams, liev schreiber', '2015', '128', '8.1', '268282', '44.99', '93', '0', 'Crime']\n",
            "['194', 'morgan', 'horror,sci-fi,thriller', 'a corporate risk-management consultant must decide whether or not to terminate an artificially created humanoid being.', 'luke scott', 'kate mara, anya taylor-joy, rose leslie, michael yare', '2016', '92', '5.8', '22107', '3.91', '48', '0', 'Horror']\n",
            "['195', 'warrior', 'action,drama,sport', \"the youngest son of an alcoholic former boxer returns home, where he's trained by his father for competition in a mixed martial arts tournament - a path that puts the fighter on a collision course with his estranged, older brother.\", \"gavin o'connor\", 'tom hardy, nick nolte, joel edgerton, jennifer morrison', '2011', '140', '8.2', '355722', '13.65', '71', '0', 'Action']\n",
            "['196', 'captain america: the first avenger', 'action,adventure,sci-fi', 'steve rogers, a rejected military soldier transforms into captain america after taking a dose of a \"super-soldier serum\". but being captain america comes at a price as he attempts to take down a war monger and a terrorist organization.', 'joe johnston', 'chris evans, hugo weaving, samuel l. jackson,hayley atwell', '2011', '124', '6.9', '547368', '176.64', '66', '1', 'Action']\n",
            "['198', 'into the wild', 'adventure,biography,drama', 'after graduating from emory university, top student and athlete christopher mccandless abandons his possessions, gives his entire $24,000 savings account to charity and hitchhikes to alaska to live in the wilderness. along the way, christopher encounters a series of characters that shape his life.', 'sean penn', 'emile hirsch, vince vaughn, catherine keener, marcia gay harden', '2007', '148', '8.1', '459304', '18.35', '73', '0', 'Adventure']\n",
            "['199', 'the imitation game', 'biography,drama,thriller', 'during world war ii, mathematician alan turing tries to crack the enigma code with help from fellow mathematicians.', 'morten tyldum', 'benedict cumberbatch, keira knightley, matthew goode, allen leech', '2014', '114', '8.1', '532353', '91.12', '73', '1', 'Biography']\n",
            "['200', 'central intelligence', 'action,comedy,crime', 'after he reconnects with an awkward pal from high school through facebook, a mild-mannered accountant is lured into the world of international espionage.', 'rawson marshall thurber', 'dwayne johnson, kevin hart, danielle nicolet, amy ryan', '2016', '107', '6.3', '97082', '127.38', '52', '0', 'Action']\n",
            "['201', 'edge of tomorrow', 'action,adventure,sci-fi', 'a soldier fighting aliens gets to relive the same day over and over again, the day restarting every time he dies.', 'doug liman', 'tom cruise, emily blunt, bill paxton, brendan gleeson', '2014', '113', '7.9', '471815', '100.19', '71', '1', 'Action']\n",
            "['202', 'a cure for wellness', 'drama,fantasy,horror', 'an ambitious young executive is sent to retrieve his company\\'s ceo from an idyllic but mysterious \"wellness center\" at a remote location in the swiss alps, but soon suspects that the spa\\'s treatments are not what they seem.', 'gore verbinski', 'dane dehaan, jason isaacs, mia goth, ivo nandi', '2016', '146', '6.5', '12193', '8.1', '47', '0', 'Drama']\n",
            "['203', 'snowden', 'biography,drama,thriller', \"the nsa's illegal surveillance techniques are leaked to the public by one of the agency's employees, edward snowden, in the form of thousands of classified documents distributed to the press.\", 'oliver stone', 'joseph gordon-levitt, shailene woodley, melissa leo,zachary quinto', '2016', '134', '7.3', '79855', '21.48', '58', '0', 'Biography']\n",
            "['204', 'iron man', 'action,adventure,sci-fi', 'after being held captive in an afghan cave, billionaire engineer tony stark creates a unique weaponized suit of armor to fight evil.', 'jon favreau', 'robert downey jr., gwyneth paltrow, terrence howard, jeff bridges', '2008', '126', '7.9', '737719', '318.3', '79', '1', 'Action']\n",
            "['205', 'allegiant', 'action,adventure,mystery', 'after the earth-shattering revelations of insurgent, tris must escape with four beyond the wall that encircles chicago, to finally discover the shocking truth of the world around them.', 'robert schwentke', 'shailene woodley, theo james, jeff daniels,naomi watts', '2016', '120', '5.7', '70504', '66', '33', '0', 'Action']\n",
            "['206', 'x: first class', 'action,adventure,sci-fi', 'in 1962, the united states government enlists the help of mutants with superhuman abilities to stop a malicious dictator who is determined to start world war iii.', 'matthew vaughn', 'james mcavoy, michael fassbender, jennifer lawrence, kevin bacon', '2011', '132', '7.8', '550011', '146.41', '65', '1', 'Action']\n",
            "['207', 'raw (ii)', 'drama,horror', 'when a young vegetarian undergoes a carnivorous hazing ritual at vet school, an unbidden taste for meat begins to grow in her.', 'julia ducournau', 'garance marillier, ella rumpf, rabah nait oufella,laurent lucas', '2016', '99', '7.5', '5435', '0.51', '81', '0', 'Drama']\n",
            "['208', 'paterson', 'comedy,drama,romance', 'a quiet observation of the triumphs and defeats of daily life, along with the poetry evident in its smallest details.', 'jim jarmusch', 'adam driver, golshifteh farahani, nellie, rizwan manji', '2016', '118', '7.5', '26089', '2.14', '90', '0', 'Comedy']\n",
            "['209', 'bridesmaids', 'comedy,romance', \"competition between the maid of honor and a bridesmaid, over who is the bride's best friend, threatens to upend the life of an out-of-work pastry chef.\", 'paul feig', 'kristen wiig, maya rudolph, rose byrne, terry crews', '2011', '125', '6.8', '227912', '169.08', '75', '0', 'Comedy']\n",
            "['211', 'san andreas', 'action,adventure,drama', 'in the aftermath of a massive earthquake in california, a rescue-chopper pilot makes a dangerous journey with his ex-wife across the state in order to rescue his daughter.', 'brad peyton', 'dwayne johnson, carla gugino, alexandra daddario,colton haynes', '2015', '114', '6.1', '161396', '155.18', '43', '0', 'Action']\n",
            "['212', 'spring breakers', 'drama', 'four college girls hold up a restaurant in order to fund their spring break vacation. while partying, drinking, and taking drugs, they are arrested, only to be bailed out by a drug and arms dealer.', 'harmony korine', 'vanessa hudgens, selena gomez, ashley benson,rachel korine', '2012', '94', '5.3', '114290', '14.12', '63', '0', 'Drama']\n",
            "['213', 'transformers', 'action,adventure,sci-fi', 'an ancient struggle between two cybertronian races, the heroic autobots and the evil decepticons, comes to earth, with a clue to the ultimate power held by a teenager.', 'michael bay', 'shia labeouf, megan fox, josh duhamel, tyrese gibson', '2007', '144', '7.1', '531112', '318.76', '61', '1', 'Action']\n",
            "['215', 'thor: the dark world', 'action,adventure,fantasy', 'when dr. jane foster gets cursed with a powerful entity known as the aether, thor is heralded of the cosmic event known as the convergence and the genocidal dark elves.', 'alan taylor', 'chris hemsworth, natalie portman, tom hiddleston,stellan skarsgård', '2013', '112', '7', '443584', '206.36', '54', '1', 'Action']\n",
            "['216', 'gods of egypt', 'action,adventure,fantasy', \"mortal hero bek teams with the god horus in an alliance against set, the merciless god of darkness, who has usurped egypt's throne, plunging the once peaceful and prosperous empire into chaos and conflict.\", 'alex proyas', 'brenton thwaites, nikolaj coster-waldau, gerard butler, chadwick boseman', '2016', '126', '5.5', '73568', '31.14', '25', '0', 'Action']\n",
            "['217', 'captain america: the winter soldier', 'action,adventure,sci-fi', 'as steve rogers struggles to embrace his role in the modern world, he teams up with a fellow avenger and s.h.i.e.l.d agent, black widow, to battle a new threat from history: an assassin known as the winter soldier.', 'anthony russo', 'chris evans, samuel l. jackson,scarlett johansson, robert redford', '2014', '136', '7.8', '542362', '259.75', '70', '1', 'Action']\n",
            "['218', 'monster trucks', 'action,adventure,comedy', 'a young man working at a small town junkyard discovers and befriends a creature which feeds on oil being sought by a fracking company.', 'chris wedge', 'lucas till, jane levy, thomas lennon, barry pepper', '2016', '104', '5.7', '7044', '33.04', '41', '0', 'Action']\n",
            "['220', 'kick-ass', 'action,comedy', 'dave lizewski is an unnoticed high school student and comic book fan who one day decides to become a superhero, even though he has no powers, training or meaningful reason to do so.', 'matthew vaughn', 'aaron taylor-johnson, nicolas cage, chloë grace moretz, garrett m. brown', '2010', '117', '7.7', '456749', '48.04', '66', '0', 'Action']\n",
            "['221', 'hardcore henry', 'action,adventure,sci-fi', 'henry is resurrected from death with no memory, and he must save his wife from a telekinetic warlord with a plan to bio-engineer soldiers.', 'ilya naishuller', 'sharlto copley, tim roth, haley bennett, danila kozlovsky', '2015', '96', '6.7', '61098', '9.24', '51', '0', 'Action']\n",
            "['222', 'cars', 'animation,adventure,comedy', 'a hot-shot race-car named lightning mcqueen gets waylaid in radiator springs, where he finds the true meaning of friendship and family.', 'john lasseter', 'owen wilson, bonnie hunt, paul newman, larry the cable guy', '2006', '117', '7.1', '283445', '244.05', '73', '1', 'Animation']\n",
            "['223', 'it follows', 'horror,mystery', 'a young woman is followed by an unknown supernatural force after a sexual encounter.', 'david robert mitchell', 'maika monroe, keir gilchrist, olivia luccardi,lili sepe', '2014', '100', '6.9', '136399', '14.67', '83', '0', 'Horror']\n",
            "['224', 'the girl with the dragon tattoo', 'crime,drama,mystery', 'journalist mikael blomkvist is aided in his search for a woman who has been missing for forty years by lisbeth salander, a young computer hacker.', 'david fincher', 'daniel craig, rooney mara, christopher plummer,stellan skarsgård', '2011', '158', '7.8', '348551', '102.52', '71', '1', 'Crime']\n",
            "['225', \"we're the millers\", 'comedy,crime', 'a veteran pot dealer creates a fake family as part of his plan to move a huge shipment of weed into the u.s. from mexico.', 'rawson marshall thurber', 'jason sudeikis, jennifer aniston, emma roberts, ed helms', '2013', '110', '7', '334867', '150.37', '44', '1', 'Comedy']\n",
            "['226', 'american honey', 'drama', 'a teenage girl with nothing to lose joins a traveling magazine sales crew, and gets caught up in a whirlwind of hard partying, law bending and young love as she criss-crosses the midwest with a band of misfits.', 'andrea arnold', 'sasha lane, shia labeouf, riley keough, mccaul lombardi', '2016', '163', '7', '19660', '0.66', '79', '0', 'Drama']\n",
            "['227', 'the lobster', 'comedy,drama,romance', 'in a dystopian near future, single people, according to the laws of the city, are taken to the hotel, where they are obliged to find a romantic partner in forty-five days or are transformed into beasts and sent off into the woods.', 'yorgos lanthimos', 'colin farrell, rachel weisz, jessica barden,olivia colman', '2015', '119', '7.1', '121313', '8.7', '82', '0', 'Comedy']\n",
            "['228', 'predators', 'action,adventure,sci-fi', 'a group of elite warriors parachute into an unfamiliar jungle and are hunted by members of a merciless alien race.', 'nimród antal', 'adrien brody, laurence fishburne, topher grace,alice braga', '2010', '107', '6.4', '179450', '52', '51', '0', 'Action']\n",
            "['229', 'maleficent', 'action,adventure,family', 'a vengeful fairy is driven to curse an infant princess, only to discover that the child may be the one person who can restore peace to their troubled land.', 'robert stromberg', 'angelina jolie, elle fanning, sharlto copley,lesley manville', '2014', '97', '7', '268877', '241.41', '56', '1', 'Action']\n",
            "['231', \"pan's labyrinth\", 'drama,fantasy,war', 'in the falangist spain of 1944, the bookish young stepdaughter of a sadistic army officer escapes into an eerie but captivating fantasy world.', 'guillermo del toro', 'ivana baquero, ariadna gil, sergi lópez,maribel verdú', '2006', '118', '8.2', '498879', '37.62', '98', '0', 'Drama']\n",
            "['232', 'a kind of murder', 'crime,drama,thriller', 'in 1960s new york, walter stackhouse is a successful architect married to the beautiful clara who leads a seemingly perfect life. but his fascination with an unsolved murder leads him into a spiral of chaos as he is forced to play cat-and-mouse with a clever killer and an overambitious detective, while at the same time lusting after another woman.', 'andy goddard', 'patrick wilson, jessica biel, haley bennett, vincent kartheiser', '2016', '95', '5.2', '3305', '0', '50', '0', 'Crime']\n",
            "['233', 'apocalypto', 'action,adventure,drama', 'as the mayan kingdom faces its decline, the rulers insist the key to prosperity is to build more temples and offer human sacrifices. jaguar paw, a young man captured for sacrifice, flees to avoid his fate.', 'mel gibson', 'gerardo taracena, raoul max trujillo, dalia hernández,rudy youngblood', '2006', '139', '7.8', '247926', '50.86', '68', '0', 'Action']\n",
            "['234', 'mission: impossible - rogue nation', 'action,adventure,thriller', 'ethan and team take on their most impossible mission yet, eradicating the syndicate - an international rogue organization as highly skilled as they are, committed to destroying the imf.', 'christopher mcquarrie', 'tom cruise, rebecca ferguson, jeremy renner, simon pegg', '2015', '131', '7.4', '257472', '195', '75', '1', 'Action']\n",
            "['235', \"the huntsman: winter's war\", 'action,adventure,drama', \"eric and fellow warrior sara, raised as members of ice queen freya's army, try to conceal their forbidden love as they fight to survive the wicked intentions of both freya and her sister ravenna.\", 'cedric nicolas-troyan', 'chris hemsworth, jessica chastain, charlize theron, emily blunt', '2016', '114', '6.1', '66766', '47.95', '35', '0', 'Action']\n",
            "['236', 'the perks of being a wallflower', 'drama,romance', 'an introvert freshman is taken under the wings of two seniors who welcome him to the real world.', 'stephen chbosky', 'logan lerman, emma watson, ezra miller, paul rudd', '2012', '102', '8', '377336', '17.74', '67', '0', 'Drama']\n",
            "['237', 'jackie', 'biography,drama,history', \"following the assassination of president john f. kennedy, first lady jacqueline kennedy fights through grief and trauma to regain her faith, console her children, and define her husband's historic legacy.\", 'pablo larraín', 'natalie portman, peter sarsgaard, greta gerwig,billy crudup', '2016', '100', '6.8', '41446', '13.96', '81', '0', 'Biography']\n",
            "['238', 'the disappointments room', 'drama,horror,thriller', 'a mother and her young son release unimaginable horrors from the attic of their rural dream home.', 'd.j. caruso', 'kate beckinsale, mel raido, duncan joiner, lucas till', '2016', '85', '3.9', '4895', '2.41', '31', '0', 'Drama']\n",
            "['239', 'the grand budapest hotel', 'adventure,comedy,drama', 'the adventures of gustave h, a legendary concierge at a famous hotel from the fictional republic of zubrowka between the first and second world wars, and zero moustafa, the lobby boy who becomes his most trusted friend.', 'wes anderson', 'ralph fiennes, f. murray abraham, mathieu amalric,adrien brody', '2014', '99', '8.1', '530881', '59.07', '88', '0', 'Adventure']\n",
            "['240', 'the host', 'action,adventure,romance', 'when an unseen enemy threatens mankind by taking over their bodies and erasing their memories, melanie will risk everything to protect the people she cares most about, proving that love can conquer all in a dangerous new world.', 'andrew niccol', 'saoirse ronan, max irons, jake abel, diane kruger', '2013', '125', '5.9', '96852', '26.62', '35', '0', 'Action']\n",
            "['241', 'fury', 'action,drama,war', 'a grizzled tank commander makes tough decisions as he and his crew fight their way across germany in april, 1945.', 'david ayer', 'brad pitt, shia labeouf, logan lerman, michael peña', '2014', '134', '7.6', '332234', '85.71', '64', '1', 'Action']\n",
            "['242', 'inside out', 'animation,adventure,comedy', 'after young riley is uprooted from her midwest life and moved to san francisco, her emotions - joy, fear, anger, disgust and sadness - conflict on how best to navigate a new city, house, and school.', 'pete docter', 'amy poehler, bill hader, lewis black, mindy kaling', '2015', '95', '8.2', '416689', '356.45', '94', '1', 'Animation']\n",
            "['243', 'rock dog', 'animation,adventure,comedy', 'when a radio falls from the sky into the hands of a wide-eyed tibetan mastiff, he leaves home to fulfill his dream of becoming a musician, setting into motion a series of completely unexpected events.', 'ash brannon', 'luke wilson, eddie izzard, j.k. simmons, lewis black', '2016', '90', '5.8', '1109', '9.4', '48', '0', 'Animation']\n",
            "['244', 'terminator genisys', 'action,adventure,sci-fi', 'when john connor, leader of the human resistance, sends sgt. kyle reese back to 1984 to protect sarah connor and safeguard the future, an unexpected turn of events creates a fractured timeline.', 'alan taylor', 'arnold schwarzenegger, jason clarke, emilia clarke,jai courtney', '2015', '126', '6.5', '205365', '89.73', '38', '0', 'Action']\n",
            "['245', 'percy jackson & the olympians: the lightning thief', 'adventure,family,fantasy', \"a teenager discovers he's the descendant of a greek god and sets out on an adventure to settle an on-going battle between the gods.\", 'chris columbus', 'logan lerman, kevin mckidd, steve coogan,brandon t. jackson', '2010', '118', '5.9', '148949', '88.76', '47', '0', 'Adventure']\n",
            "['246', 'les misérables', 'drama,musical,romance', \"in 19th-century france, jean valjean, who for decades has been hunted by the ruthless policeman javert after breaking parole, agrees to care for a factory worker's daughter. the decision changes their lives forever.\", 'tom hooper', 'hugh jackman, russell crowe, anne hathaway,amanda seyfried', '2012', '158', '7.6', '257426', '148.78', '63', '1', 'Drama']\n",
            "['247', 'children of men', 'drama,sci-fi,thriller', 'in 2027, in a chaotic world in which women have become somehow infertile, a former activist agrees to help transport a miraculously pregnant woman to a sanctuary at sea.', 'alfonso cuarón', 'julianne moore, clive owen, chiwetel ejiofor,michael caine', '2006', '109', '7.9', '382910', '35.29', '84', '0', 'Drama']\n",
            "['248', '20th century women', 'comedy,drama', 'the story of a teenage boy, his mother, and two other women who help raise him among the love and freedom of southern california of 1979.', 'mike mills', 'annette bening, elle fanning, greta gerwig, billy crudup', '2016', '119', '7.4', '14708', '5.66', '83', '0', 'Comedy']\n",
            "['249', 'spy', 'action,comedy,crime', 'a desk-bound cia analyst volunteers to go undercover to infiltrate the world of a deadly arms dealer, and prevent diabolical global disaster.', 'paul feig', 'melissa mccarthy, rose byrne, jude law, jason statham', '2015', '119', '7.1', '188017', '110.82', '75', '0', 'Action']\n",
            "['250', 'the intouchables', 'biography,comedy,drama', 'after he becomes a quadriplegic from a paragliding accident, an aristocrat hires a young man from the projects to be his caregiver.', 'olivier nakache', 'françois cluzet, omar sy, anne le ny, audrey fleurot', '2011', '112', '8.6', '557965', '13.18', '57', '0', 'Biography']\n",
            "['251', 'bonjour anne', 'comedy,drama,romance', 'anne is at a crossroads in her life. long married to a successful, driven but inattentive movie producer, she unexpectedly finds herself taking a car trip from cannes to paris with a ... see full summary »', 'eleanor coppola', 'diane lane, alec baldwin, arnaud viard, linda gegusch', '2016', '92', '4.9', '178', '0.32', '50', '0', 'Comedy']\n",
            "['252', 'kynodontas', 'drama,thriller', 'three teenagers live isolated, without leaving their house, because their over-protective parents say they can only leave when their dogtooth falls out.', 'yorgos lanthimos', 'christos stergioglou, michele valley, angeliki papoulia, hristos passalis', '2009', '94', '7.3', '50946', '0.11', '73', '0', 'Drama']\n",
            "['253', 'straight outta compton', 'biography,drama,history', 'the group nwa emerges from the mean streets of compton in los angeles, california, in the mid-1980s and revolutionizes hip hop culture with their music and tales about life in the hood.', 'f. gary gray', \"o'shea jackson jr., corey hawkins, jason mitchell,neil brown jr.\", '2015', '147', '7.9', '139831', '161.03', '72', '0', 'Biography']\n",
            "['254', 'the amazing spider-man 2', 'action,adventure,sci-fi', 'when new york is put under siege by oscorp, it is up to spider-man to save the city he swore to protect as well as his loved ones.', 'marc webb', 'andrew garfield, emma stone, jamie foxx, paul giamatti', '2014', '142', '6.7', '342183', '202.85', '53', '0', 'Action']\n",
            "['255', 'the conjuring', 'horror,mystery,thriller', 'paranormal investigators ed and lorraine warren work to help a family terrorized by a dark presence in their farmhouse.', 'james wan', 'patrick wilson, vera farmiga, ron livingston, lili taylor', '2013', '112', '7.5', '330305', '137.39', '68', '1', 'Horror']\n",
            "['256', 'the hangover', 'comedy', 'three buddies wake up from a bachelor party in las vegas, with no memory of the previous night and the bachelor missing. they make their way around the city in order to find their friend before his wedding.', 'todd phillips', 'zach galifianakis, bradley cooper, justin bartha, ed helms', '2009', '100', '7.8', '611563', '277.31', '73', '1', 'Comedy']\n",
            "['257', 'battleship', 'action,adventure,sci-fi', 'a fleet of ships is forced to do battle with an armada of unknown origins in order to discover and thwart their destructive goals.', 'peter berg', 'alexander skarsgård, brooklyn decker, liam neeson,rihanna', '2012', '131', '5.8', '210349', '65.17', '41', '0', 'Action']\n",
            "['258', 'rise of the planet of the apes', 'action,drama,sci-fi', 'a substance, designed to help the brain repair itself, gives rise to a super-intelligent chimp who leads an ape uprising.', 'rupert wyatt', 'james franco, andy serkis, freida pinto, karin konoval', '2011', '105', '7.6', '422290', '176.74', '68', '1', 'Action']\n",
            "['259', 'lights out', 'horror', \"rebecca must unlock the terror behind her little brother's experiences that once tested her sanity, bringing her face to face with an entity attached to their mother.\", 'david f. sandberg', 'teresa palmer, gabriel bateman, maria bello,billy burke', '2016', '81', '6.4', '69823', '67.24', '58', '0', 'Horror']\n",
            "['260', 'norman: the moderate rise and tragic fall of a new york fixer', 'drama,thriller', \"norman oppenheimer is a small time operator who befriends a young politician at a low point in his life. three years later, when the politician becomes an influential world leader, norman's life dramatically changes for better and worse.\", 'joseph cedar', 'richard gere, lior ashkenazi, michael sheen,charlotte gainsbourg', '2016', '118', '7.1', '664', '2.27', '76', '0', 'Drama']\n",
            "['261', 'birdman or (the unexpected virtue of ignorance)', 'comedy,drama,romance', \"illustrated upon the progress of his latest broadway play, a former popular actor's struggle to cope with his current life as a wasted actor is shown.\", 'alejandro gonzález iñárritu', 'michael keaton, zach galifianakis,edward norton, andrea riseborough', '2014', '119', '7.8', '440299', '42.34', '88', '0', 'Comedy']\n",
            "['262', 'black swan', 'drama,thriller', 'a committed dancer wins the lead role in a production of tchaikovsky\\'s \"swan lake\" only to find herself struggling to maintain her sanity.', 'darren aronofsky', 'natalie portman, mila kunis, vincent cassel,winona ryder', '2010', '108', '8', '581518', '106.95', '79', '1', 'Drama']\n",
            "['263', 'dear white people', 'comedy,drama', 'the lives of four black students at an ivy league college.', 'justin simien', 'tyler james williams, tessa thompson, kyle gallner,teyonah parris', '2014', '108', '6.2', '21715', '4.4', '79', '0', 'Comedy']\n",
            "['264', 'nymphomaniac: vol. i', 'drama', 'a self-diagnosed nymphomaniac recounts her erotic experiences to the man who saved her after a beating.', 'lars von trier', 'charlotte gainsbourg, stellan skarsgård, stacy martin, shia labeouf', '2013', '117', '7', '90556', '0.79', '64', '0', 'Drama']\n",
            "['265', 'teenage mutant ninja turtles: out of the shadows', 'action,adventure,comedy', 'after facing shredder, who has joined forces with mad scientist baxter stockman and henchmen bebop and rocksteady to take over the world, the turtles must confront an even greater nemesis: the notorious krang.', 'dave green', 'megan fox, will arnett, tyler perry, laura linney', '2016', '112', '6', '59312', '0.54', '40', '0', 'Action']\n",
            "['266', 'knock knock', 'drama,horror,thriller', 'a devoted father helps two stranded young women who knock on his door, but his kind gesture turns into a dangerous seduction and a deadly game of cat and mouse.', 'eli roth', 'keanu reeves, lorenza izzo, ana de armas, aaron burns', '2015', '99', '4.9', '53441', '0.03', '53', '0', 'Drama']\n",
            "['267', 'dirty grandpa', 'comedy', 'right before his wedding, an uptight guy is tricked into driving his grandfather, a lecherous former army lieutenant-colonel, to florida for spring break.', 'dan mazer', 'robert de niro, zac efron, zoey deutch, aubrey plaza', '2016', '102', '6', '75137', '35.54', '18', '0', 'Comedy']\n",
            "['268', 'cloud atlas', 'drama,sci-fi', 'an exploration of how the actions of individual lives impact one another in the past, present and future, as one soul is shaped from a killer into a hero, and an act of kindness ripples across centuries to inspire a revolution.', 'tom tykwer', 'tom hanks, halle berry, hugh grant, hugo weaving', '2012', '172', '7.5', '298651', '27.1', '55', '0', 'Drama']\n",
            "['269', 'x-men origins: wolverine', 'action,adventure,sci-fi', \"a look at wolverine's early life, in particular his time with the government squad team x and the impact it will have on his later years.\", 'gavin hood', 'hugh jackman, liev schreiber, ryan reynolds, danny huston', '2009', '107', '6.7', '388447', '179.88', '40', '0', 'Action']\n",
            "['271', 'skyfall', 'action,adventure,thriller', \"bond's loyalty to m is tested when her past comes back to haunt her. whilst mi6 comes under attack, 007 must track down and destroy the threat, no matter how personal the cost.\", 'sam mendes', 'daniel craig, javier bardem, naomie harris, judi dench', '2012', '143', '7.8', '547386', '304.36', '81', '1', 'Action']\n",
            "['272', 'the hobbit: an unexpected journey', 'adventure,fantasy', 'a reluctant hobbit, bilbo baggins, sets out to the lonely mountain with a spirited group of dwarves to reclaim their mountain home - and the gold within it - from the dragon smaug.', 'peter jackson', 'martin freeman, ian mckellen, richard armitage,andy serkis', '2012', '169', '7.9', '668651', '303', '58', '1', 'Adventure']\n",
            "['273', '21 jump street', 'action,comedy,crime', 'a pair of underachieving cops are sent back to a local high school to blend in and bring down a synthetic drug ring.', 'phil lord', 'jonah hill, channing tatum, ice cube,brie larson', '2012', '110', '7.2', '432046', '138.45', '69', '1', 'Action']\n",
            "['274', 'sing street', 'comedy,drama,music', 'a boy growing up in dublin during the 1980s escapes his strained family life by starting a band to impress the mysterious girl he likes.', 'john carney', 'ferdia walsh-peelo, aidan gillen, maria doyle kennedy, jack reynor', '2016', '106', '8', '52144', '3.23', '79', '0', 'Comedy']\n",
            "['276', 'oblivion', 'action,adventure,mystery', \"a veteran assigned to extract earth's remaining resources begins to question what he knows about his mission and himself.\", 'joseph kosinski', 'tom cruise, morgan freeman, andrea riseborough, olga kurylenko', '2013', '124', '7', '410125', '89.02', '54', '1', 'Action']\n",
            "['277', '22 jump street', 'action,comedy,crime', 'after making their way through high school (twice), big changes are in store for officers schmidt and jenko when they go deep undercover at a local college.', 'phil lord', 'channing tatum, jonah hill, ice cube,nick offerman', '2014', '112', '7.1', '280110', '191.62', '71', '1', 'Action']\n",
            "['278', 'zodiac', 'crime,drama,history', 'in the late 1960s/early 1970s, a san francisco cartoonist becomes an amateur detective obsessed with tracking down the zodiac killer, an unidentified individual who terrorizes northern california with a killing spree.', 'david fincher', 'jake gyllenhaal, robert downey jr., mark ruffalo,anthony edwards', '2007', '157', '7.7', '329683', '33.05', '78', '0', 'Crime']\n",
            "['279', 'everybody wants some!!', 'comedy', 'in 1980, a group of college baseball players navigate their way through the freedoms and responsibilities of unsupervised adulthood.', 'richard linklater', 'blake jenner, tyler hoechlin, ryan guzman,zoey deutch', '2016', '117', '7', '36312', '3.37', '83', '0', 'Comedy']\n",
            "['280', 'iron man three', 'action,adventure,sci-fi', \"when tony stark's world is torn apart by a formidable terrorist called the mandarin, he starts an odyssey of rebuilding and retribution.\", 'shane black', 'robert downey jr., guy pearce, gwyneth paltrow,don cheadle', '2013', '130', '7.2', '591023', '408.99', '62', '1', 'Action']\n",
            "['281', 'now you see me', 'crime,mystery,thriller', 'an fbi agent and an interpol detective track a team of illusionists who pull off bank heists during their performances and reward their audiences with the money.', 'louis leterrier', 'jesse eisenberg, common, mark ruffalo, woody harrelson', '2013', '115', '7.3', '492324', '117.7', '50', '1', 'Crime']\n",
            "['282', 'sherlock holmes', 'action,adventure,crime', 'detective sherlock holmes and his stalwart partner watson engage in a battle of wits and brawn with a nemesis whose plot is a threat to all of england.', 'guy ritchie', 'robert downey jr., jude law, rachel mcadams, mark strong', '2009', '128', '7.6', '501769', '209.02', '57', '1', 'Action']\n",
            "['284', 'the danish girl', 'biography,drama,romance', \"a fictitious love story loosely inspired by the lives of danish artists lili elbe and gerda wegener. lili and gerda's marriage and work evolve as they navigate lili's groundbreaking journey as a transgender pioneer.\", 'tom hooper', 'eddie redmayne, alicia vikander, amber heard, ben whishaw', '2015', '119', '7', '110773', '12.71', '66', '0', 'Biography']\n",
            "['285', 'hercules', 'action,adventure', 'having endured his legendary twelve labors, hercules, the greek demigod, has his life as a sword-for-hire tested when the king of thrace and his daughter seek his aid in defeating a tyrannical warlord.', 'brett ratner', 'dwayne johnson, john hurt, ian mcshane, joseph fiennes', '2014', '98', '6', '122838', '72.66', '47', '0', 'Action']\n",
            "['286', 'sucker punch', 'action,fantasy', 'a young girl is institutionalized by her abusive stepfather, retreating to an alternative reality as a coping strategy, envisioning a plan to help her escape.', 'zack snyder', 'emily browning, vanessa hudgens, abbie cornish,jena malone', '2011', '110', '6.1', '204874', '36.38', '33', '0', 'Action']\n",
            "['287', 'keeping up with the joneses', 'action,comedy', 'a suburban couple becomes embroiled in an international espionage plot when they discover that their seemingly perfect new neighbors are government spies.', 'greg mottola', 'zach galifianakis, isla fisher, jon hamm, gal gadot', '2016', '105', '5.8', '30405', '14.9', '34', '0', 'Action']\n",
            "['288', 'jupiter ascending', 'action,adventure,sci-fi', 'a young woman discovers her destiny as an heiress of intergalactic nobility and must fight to protect the inhabitants of earth from an ancient and destructive industry.', 'lana wachowski', 'channing tatum, mila kunis,eddie redmayne, sean bean', '2015', '127', '5.3', '150121', '47.38', '40', '0', 'Action']\n",
            "['289', 'masterminds', 'action,comedy,crime', 'a guard at an armored car company in the southern u.s. organizes one of the biggest bank heists in american history. based on the october 1997 loomis fargo robbery.', 'jared hess', 'zach galifianakis, kristen wiig, owen wilson, ross kimball', '2016', '95', '5.8', '26508', '17.36', '47', '0', 'Action']\n",
            "['291', 'busanhaeng', 'action,drama,horror', 'while a zombie virus breaks out in south korea, passengers struggle to survive on the train from seoul to busan.', 'sang-ho yeon', 'yoo gong, soo-an kim, yu-mi jung, dong-seok ma', '2016', '118', '7.5', '58782', '2.13', '72', '0', 'Action']\n",
            "['292', 'pitch perfect', 'comedy,music,romance', \"beca, a freshman at barden university, is cajoled into joining the bellas, her school's all-girls singing group. injecting some much needed energy into their repertoire, the bellas take on their male rivals in a campus competition.\", 'jason moore', 'anna kendrick, brittany snow, rebel wilson, anna camp', '2012', '112', '7.2', '226631', '65', '66', '0', 'Comedy']\n",
            "['293', 'neighbors 2: sorority rising', 'comedy', 'when their new next-door neighbors turn out to be a sorority even more debaucherous than the fraternity previously living there, mac and kelly team with their former enemy, teddy, to bring the girls down.', 'nicholas stoller', 'seth rogen, rose byrne, zac efron, chloë grace moretz', '2016', '92', '5.7', '76327', '55.29', '58', '0', 'Comedy']\n",
            "['295', 'man of steel', 'action,adventure,fantasy', 'clark kent, one of the last of an extinguished race disguised as an unremarkable human, is forced to reveal his identity when earth is invaded by an army of survivors who threaten to bring the planet to the brink of destruction.', 'zack snyder', 'henry cavill, amy adams, michael shannon, diane lane', '2013', '143', '7.1', '577010', '291.02', '55', '1', 'Action']\n",
            "['296', 'the choice', 'drama,romance', \"travis and gabby first meet as neighbors in a small coastal town and wind up in a relationship that is tested by life's most defining events.\", 'ross katz', 'benjamin walker, teresa palmer, alexandra daddario,maggie grace', '2016', '111', '6.6', '20514', '18.71', '26', '0', 'Drama']\n",
            "['297', 'ice age: collision course', 'animation,adventure,comedy', 'manny, diego, and sid join up with buck to fend off a meteor strike that would destroy the world.', 'mike thurmeier', 'ray romano, denis leary, john leguizamo, chris wedge', '2016', '94', '5.7', '34523', '64.06', '34', '0', 'Animation']\n",
            "['298', 'the devil wears prada', 'comedy,drama', 'a smart but sensible new graduate lands a job as an assistant to miranda priestly, the demanding editor-in-chief of a high fashion magazine.', 'david frankel', 'anne hathaway, meryl streep, adrian grenier, emily blunt', '2006', '109', '6.8', '302268', '124.73', '62', '0', 'Comedy']\n",
            "['299', 'the infiltrator', 'biography,crime,drama', 'a u.s. customs official uncovers a money laundering scheme involving colombian drug lord pablo escobar.', 'brad furman', 'bryan cranston, john leguizamo, diane kruger, amy ryan', '2016', '127', '7.1', '43929', '15.43', '66', '0', 'Biography']\n",
            "['300', 'there will be blood', 'drama,history', 'a story of family, religion, hatred, oil and madness, focusing on a turn-of-the-century prospector in the early days of the business.', 'paul thomas anderson', 'daniel day-lewis, paul dano, ciarán hinds,martin stringer', '2007', '158', '8.1', '400682', '40.22', '92', '0', 'Drama']\n",
            "['301', 'the equalizer', 'action,crime,thriller', \"a man believes he has put his mysterious past behind him and has dedicated himself to beginning a new, quiet life. but when he meets a young girl under the control of ultra-violent russian gangsters, he can't stand idly by - he has to help her.\", 'antoine fuqua', 'denzel washington, marton csokas, chloë grace moretz, david harbour', '2014', '132', '7.2', '249425', '101.53', '57', '1', 'Action']\n",
            "['302', 'lone survivor', 'action,biography,drama', 'marcus luttrell and his team set out on a mission to capture or kill notorious taliban leader ahmad shah, in late june 2005. marcus and his team are left to fight for their lives in one of the most valiant efforts of modern warfare.', 'peter berg', 'mark wahlberg, taylor kitsch, emile hirsch, ben foster', '2013', '121', '7.5', '218996', '125.07', '60', '1', 'Action']\n",
            "['303', 'the cabin in the woods', 'horror', 'five friends go for a break at a remote cabin, where they get more than they bargained for, discovering the truth behind the cabin in the woods.', 'drew goddard', 'kristen connolly, chris hemsworth, anna hutchison,fran kranz', '2012', '95', '7', '295554', '42.04', '72', '0', 'Horror']\n",
            "['304', 'the house bunny', 'comedy,romance', 'after playboy bunny shelley is kicked out of the playboy mansion, she finds a job as the house mother for a sorority full of socially awkward girls.', 'fred wolf', 'anna faris, colin hanks, emma stone, kat dennings', '2008', '97', '5.5', '67033', '48.24', '55', '0', 'Comedy']\n",
            "['305', \"she's out of my league\", 'comedy,romance', 'an average joe meets the perfect woman, but his lack of confidence and the influence of his friends and family begin to pick away at the relationship.', 'jim field smith', 'jay baruchel, alice eve, t.j. miller, mike vogel', '2010', '104', '6.4', '105619', '31.58', '46', '0', 'Comedy']\n",
            "['306', 'inherent vice', 'comedy,crime,drama', 'in 1970, drug-fueled los angeles private investigator larry \"doc\" sportello investigates the disappearance of a former girlfriend.', 'paul thomas anderson', 'joaquin phoenix, josh brolin, owen wilson,katherine waterston', '2014', '148', '6.7', '69509', '8.09', '81', '0', 'Comedy']\n",
            "['307', 'alice through the looking glass', 'adventure,family,fantasy', 'alice returns to the whimsical world of wonderland and travels back in time to help the mad hatter.', 'james bobin', 'mia wasikowska, johnny depp, helena bonham carter, anne hathaway', '2016', '113', '6.2', '57207', '77.04', '34', '0', 'Adventure']\n",
            "['309', 'the fast and the furious: tokyo drift', 'action,crime,thriller', 'a teenager becomes a major competitor in the world of drift racing after moving in with his father in tokyo to avoid a jail sentence in america.', 'justin lin', 'lucas black, zachery ty bryan, shad moss, damien marzette', '2006', '104', '6', '193479', '62.49', '45', '0', 'Action']\n",
            "['310', 'how to be single', 'comedy,romance', 'a group of young adults navigate love and relationships in new york city.', 'christian ditter', 'dakota johnson, rebel wilson, leslie mann, alison brie', '2016', '110', '6.1', '59886', '46.81', '51', '0', 'Comedy']\n",
            "['311', 'the blind side', 'biography,drama,sport', 'the story of michael oher, a homeless and traumatized boy who became an all american football player and first round nfl draft pick with the help of a caring woman and her family.', 'john lee hancock', 'quinton aaron, sandra bullock, tim mcgraw,jae head', '2009', '129', '7.7', '237221', '255.95', '53', '1', 'Biography']\n",
            "['312', \"la vie d'adèle\", 'drama,romance', \"adèle's life is changed when she meets emma, a young woman with blue hair, who will allow her to discover desire and to assert herself as a woman and as an adult. in front of others, adèle grows, seeks herself, loses herself, and ultimately finds herself through love and loss.\", 'abdellatif kechiche', 'léa seydoux, adèle exarchopoulos, salim kechiouche, aurélien recoing', '2013', '180', '7.8', '103150', '2.2', '88', '0', 'Drama']\n",
            "['313', 'the babadook', 'drama,horror', \"a single mother, plagued by the violent death of her husband, battles with her son's fear of a monster lurking in the house, but soon discovers a sinister presence all around her.\", 'jennifer kent', 'essie davis, noah wiseman, daniel henshall, hayley mcelhinney', '2014', '93', '6.8', '132580', '0.92', '86', '0', 'Drama']\n",
            "['314', 'the hobbit: the battle of the five armies', 'adventure,fantasy', 'bilbo and company are forced to engage in a war against an array of combatants and keep the lonely mountain from falling into the hands of a rising darkness.', 'peter jackson', 'ian mckellen, martin freeman, richard armitage,cate blanchett', '2014', '144', '7.4', '385598', '255.11', '59', '1', 'Adventure']\n",
            "['315', 'harry potter and the order of the phoenix', 'adventure,family,fantasy', \"with their warning about lord voldemort's return scoffed at, harry and dumbledore are targeted by the wizard authorities as an authoritarian bureaucrat slowly seizes power at hogwarts.\", 'david yates', 'daniel radcliffe, emma watson, rupert grint, brendan gleeson', '2007', '138', '7.5', '385325', '292', '71', '1', 'Adventure']\n",
            "['316', 'snowpiercer', 'action,drama,sci-fi', 'set in a future where a failed climate-change experiment kills all life on the planet except for a lucky few who boarded the snowpiercer, a train that travels around the globe, where a class system emerges.', 'bong joon ho', 'chris evans, jamie bell, tilda swinton, ed harris', '2013', '126', '7', '199048', '4.56', '84', '0', 'Action']\n",
            "['317', 'the 5th wave', 'action,adventure,sci-fi', 'four waves of increasingly deadly alien attacks have left most of earth decimated. cassie is on the run, desperately trying to save her younger brother.', 'j blakeson', 'chloë grace moretz, matthew zuk, gabriela lopez,bailey anne borders', '2016', '112', '5.2', '73093', '34.91', '33', '0', 'Action']\n",
            "['319', 'the visit', 'comedy,horror,thriller', \"two siblings become increasingly frightened by their grandparents' disturbing behavior while visiting them on vacation.\", 'm. night shyamalan', 'olivia dejonge, ed oxenbould, deanna dunagan, peter mcrobbie', '2015', '94', '6.2', '81429', '65.07', '55', '0', 'Comedy']\n",
            "['320', 'fast five', 'action,crime,thriller', 'dominic toretto and his crew of street racers plan a massive heist to buy their freedom while in the sights of a powerful brazilian drug lord and a dangerous federal agent.', 'justin lin', 'vin diesel, paul walker, dwayne johnson, jordana brewster', '2011', '131', '7.3', '300803', '209.81', '66', '1', 'Action']\n",
            "['321', 'step up', 'crime,drama,music', 'tyler gage receives the opportunity of a lifetime after vandalizing a performing arts school, gaining him the chance to earn a scholarship and dance with an up and coming dancer, nora.', 'anne fletcher', \"channing tatum, jenna dewan tatum, damaine radcliff, de'shawn washington\", '2006', '104', '6.5', '95960', '65.27', '48', '0', 'Crime']\n",
            "['322', 'lovesong', 'drama', 'the relationship between two friends deepens during an impromptu road trip.', 'so yong kim', 'riley keough, jena malone, jessie ok gray, cary joji fukunaga', '2016', '84', '6.4', '616', '0.01', '74', '0', 'Drama']\n",
            "['323', 'rocknrolla', 'action,crime,thriller', \"in london, a real-estate scam puts millions of pounds up for grabs, attracting some of the city's scrappiest tough guys and its more established underworld types, all of whom are looking to get rich quick. while the city's seasoned criminals vie for the cash, an unexpected player -- a drugged-out rock 'n' roller presumed to be dead but very much alive -- has a multi-million-dollar prize fall into... see full summary »\", 'guy ritchie', 'gerard butler, tom wilkinson, idris elba, thandie newton', '2008', '114', '7.3', '203096', '5.69', '53', '0', 'Action']\n",
            "['324', 'in time', 'action,sci-fi,thriller', 'in a future where people stop aging at 25, but are engineered to live only one more year, having the means to buy your way out of the situation is a shot at immortal youth. here, will salas finds himself accused of murder and on the run with a hostage - a connection that becomes an important part of the way against the system.', 'andrew niccol', 'justin timberlake, amanda seyfried, cillian murphy,olivia wilde', '2011', '109', '6.7', '319025', '37.55', '53', '0', 'Action']\n",
            "['325', 'the social network', 'biography,drama', 'harvard student mark zuckerberg creates the social networking site that would become known as facebook, but is later sued by two brothers who claimed he stole their idea, and the co-founder who was later squeezed out of the business.', 'david fincher', 'jesse eisenberg, andrew garfield, justin timberlake,rooney mara', '2010', '120', '7.7', '510100', '96.92', '95', '1', 'Biography']\n",
            "['326', 'the last witch hunter', 'action,adventure,fantasy', 'the last witch hunter is all that stands between humanity and the combined forces of the most horrifying witches in history.', 'breck eisner', 'vin diesel, rose leslie, elijah wood, ólafur darri ólafsson', '2015', '106', '6', '71149', '27.36', '34', '0', 'Action']\n",
            "['327', 'victor frankenstein', 'drama,horror,sci-fi', \"told from igor's perspective, we see the troubled young assistant's dark origins, his redemptive friendship with the young medical student viktor von frankenstein, and become eyewitnesses to the emergence of how frankenstein became the man - and the legend - we know today.\", 'paul mcguigan', 'daniel radcliffe, james mcavoy, jessica brown findlay, andrew scott', '2015', '110', '6', '37975', '5.77', '36', '0', 'Drama']\n",
            "['328', 'a street cat named bob', 'biography,comedy,drama', 'based on the international best selling book. the true feel good story of how james bowen, a busker and recovering drug addict, had his life transformed when he met a stray ginger cat.', 'roger spottiswoode', 'luke treadaway, bob the cat, ruta gedmintas, joanne froggatt', '2016', '103', '7.4', '12643', '0.04', '54', '0', 'Biography']\n",
            "['329', 'green room', 'crime,horror,thriller', 'a punk rock band is forced to fight for survival after witnessing a murder at a neo-nazi skinhead bar.', 'jeremy saulnier', 'anton yelchin, imogen poots, alia shawkat,patrick stewart', '2015', '95', '7', '62885', '3.22', '79', '0', 'Crime']\n",
            "['330', 'blackhat', 'crime,drama,mystery', 'a furloughed convict and his american and chinese partners hunt a high-level cybercrime network from chicago to los angeles to hong kong to jakarta.', 'michael mann', 'chris hemsworth, viola davis, wei tang, leehom wang', '2015', '133', '5.4', '43085', '7.1', '51', '0', 'Crime']\n",
            "['331', 'storks', 'animation,adventure,comedy', 'storks have moved on from delivering babies to packages. but when an order for a baby appears, the best delivery stork must scramble to fix the error by delivering the baby.', 'nicholas stoller', 'andy samberg, katie crown,kelsey grammer, jennifer aniston', '2016', '87', '6.9', '34248', '72.66', '56', '0', 'Animation']\n",
            "['332', 'american sniper', 'action,biography,drama', \"navy s.e.a.l. sniper chris kyle's pinpoint accuracy saves countless lives on the battlefield and turns him into a legend. back home to his wife and kids after four tours of duty, however, chris finds that it is the war he can't leave behind.\", 'clint eastwood', 'bradley cooper, sienna miller, kyle gallner, cole konis', '2014', '133', '7.3', '353305', '350.12', '72', '1', 'Action']\n",
            "['333', 'dallas buyers club', 'biography,drama', 'in 1985 dallas, electrician and hustler ron woodroof works around the system to help aids patients get the medication they need after he is diagnosed with the disease.', 'jean-marc vallée', 'matthew mcconaughey, jennifer garner, jared leto, steve zahn', '2013', '117', '8', '352801', '27.3', '84', '0', 'Biography']\n",
            "['334', 'lincoln', 'biography,drama,history', \"as the war continues to rage, america's president struggles with continuing carnage on the battlefield as he fights with many inside his own cabinet on the decision to emancipate the slaves.\", 'steven spielberg', 'daniel day-lewis, sally field, david strathairn,joseph gordon-levitt', '2012', '150', '7.4', '207497', '182.2', '86', '1', 'Biography']\n",
            "['335', 'rush', 'action,biography,drama', 'the merciless 1970s rivalry between formula one rivals james hunt and niki lauda.', 'ron howard', 'daniel brühl, chris hemsworth, olivia wilde,alexandra maria lara', '2013', '123', '8.1', '339722', '26.9', '75', '0', 'Action']\n",
            "['337', 'silver linings playbook', 'comedy,drama,romance', 'after a stint in a mental institution, former teacher pat solitano moves back in with his parents and tries to reconcile with his ex-wife. things get more challenging when pat meets tiffany, a mysterious girl with problems of her own.', 'david o. russell', 'bradley cooper, jennifer lawrence, robert de niro, jacki weaver', '2012', '122', '7.8', '564364', '132.09', '81', '1', 'Comedy']\n",
            "['339', 'the fault in our stars', 'drama,romance', 'two teenage cancer patients begin a life-affirming journey to visit a reclusive author in amsterdam.', 'josh boone', 'shailene woodley, ansel elgort, nat wolff, laura dern', '2014', '126', '7.8', '271301', '124.87', '69', '1', 'Drama']\n",
            "['340', 'blended', 'comedy,romance', 'after a bad blind date, a man and woman find themselves stuck together at a resort for families, where their attraction grows as their respective kids benefit from the burgeoning relationship.', 'frank coraci', 'adam sandler, drew barrymore, wendi mclendon-covey, kevin nealon', '2014', '117', '6.5', '93764', '46.28', '31', '0', 'Comedy']\n",
            "['341', 'fast & furious', 'action,crime,thriller', \"brian o'conner, back working for the fbi in los angeles, teams up with dominic toretto to bring down a heroin importer by infiltrating his operation.\", 'justin lin', 'vin diesel, paul walker, michelle rodriguez, jordana brewster', '2009', '107', '6.6', '217464', '155.02', '46', '0', 'Action']\n",
            "['342', 'looper', 'action,crime,drama', \"in 2074, when the mob wants to get rid of someone, the target is sent into the past, where a hired gun awaits - someone like joe - who one day learns the mob wants to 'close the loop' by sending back joe's future self for assassination.\", 'rian johnson', 'joseph gordon-levitt, bruce willis, emily blunt, paul dano', '2012', '119', '7.4', '452369', '66.47', '84', '0', 'Action']\n",
            "['343', 'white house down', 'action,drama,thriller', 'while on a tour of the white house with his young daughter, a capitol policeman springs into action to save his child and protect the president from a heavily armed group of paramilitary invaders.', 'roland emmerich', 'channing tatum, jamie foxx, maggie gyllenhaal,jason clarke', '2013', '131', '6.4', '173320', '73.1', '52', '0', 'Action']\n",
            "['344', \"pete's dragon\", 'adventure,family,fantasy', 'the adventures of an orphaned boy named pete and his best friend elliot, who just so happens to be a dragon.', 'david lowery', 'bryce dallas howard, robert redford, oakes fegley,oona laurence', '2016', '102', '6.8', '36322', '76.2', '71', '0', 'Adventure']\n",
            "['345', 'spider-man 3', 'action,adventure', 'a strange black entity from another world bonds with peter parker and causes inner turmoil as he contends with new villains, temptations, and revenge.', 'sam raimi', 'tobey maguire, kirsten dunst, topher grace, thomas haden church', '2007', '139', '6.2', '406219', '336.53', '59', '0', 'Action']\n",
            "['346', 'the three musketeers', 'action,adventure,romance', \"the hot-headed young d'artagnan along with three former legendary but now down on their luck musketeers must unite and defeat a beautiful double agent and her villainous employer from seizing the french throne and engulfing europe in war.\", 'paul w.s. anderson', 'logan lerman, matthew macfadyen, ray stevenson, milla jovovich', '2011', '110', '5.8', '92329', '20.32', '35', '0', 'Action']\n",
            "['347', 'stardust', 'adventure,family,fantasy', \"in a countryside town bordering on a magical land, a young man makes a promise to his beloved that he'll retrieve a fallen star by venturing into the magical realm.\", 'matthew vaughn', 'charlie cox, claire danes, sienna miller, ian mckellen', '2007', '127', '7.7', '220664', '38.35', '66', '0', 'Adventure']\n",
            "['348', 'american hustle', 'crime,drama', 'a con man, irving rosenfeld, along with his seductive partner sydney prosser, is forced to work for a wild fbi agent, richie dimaso, who pushes them into a world of jersey powerbrokers and mafia.', 'david o. russell', 'christian bale, amy adams, bradley cooper,jennifer lawrence', '2013', '138', '7.3', '379088', '150.12', '90', '1', 'Crime']\n",
            "['349', \"jennifer's body\", 'comedy,horror', 'a newly possessed high school cheerleader turns into a succubus who specializes in killing her male classmates. can her best friend put an end to the horror?', 'karyn kusama', 'megan fox, amanda seyfried, adam brody, johnny simmons', '2009', '102', '5.1', '96617', '16.2', '47', '0', 'Comedy']\n",
            "['350', 'midnight in paris', 'comedy,fantasy,romance', \"while on a trip to paris with his fiancée's family, a nostalgic screenwriter finds himself mysteriously going back to the 1920s everyday at midnight.\", 'woody allen', 'owen wilson, rachel mcadams, kathy bates, kurt fuller', '2011', '94', '7.7', '320323', '56.82', '81', '0', 'Comedy']\n",
            "['352', 'joy', 'drama', 'joy is the story of the title character, who rose to become founder and matriarch of a powerful family business dynasty.', 'david o. russell', 'jennifer lawrence, robert de niro, bradley cooper, edgar ramírez', '2015', '124', '6.6', '97679', '56.44', '56', '0', 'Drama']\n",
            "['353', 'the dressmaker', 'comedy,drama', 'a glamorous woman returns to her small town in rural australia. with her sewing machine and haute couture style, she transforms the women and exacts sweet revenge on those who did her wrong.', 'jocelyn moorhouse', 'kate winslet, judy davis, liam hemsworth,hugo weaving', '2015', '119', '7.1', '33352', '2.02', '47', '0', 'Comedy']\n",
            "['354', 'café society', 'comedy,drama,romance', 'in the 1930s, a bronx native moves to hollywood and falls in love with a young woman who is seeing a married man.', 'woody allen', 'jesse eisenberg, kristen stewart, steve carell, blake lively', '2016', '96', '6.7', '45579', '11.08', '64', '0', 'Comedy']\n",
            "['355', 'insurgent', 'adventure,sci-fi,thriller', 'beatrice prior must confront her inner demons and continue her fight against a powerful alliance which threatens to tear her society apart with the help from others on her side.', 'robert schwentke', 'shailene woodley, ansel elgort, theo james,kate winslet', '2015', '119', '6.3', '171970', '130', '42', '0', 'Adventure']\n",
            "['356', 'seventh son', 'action,adventure,fantasy', 'when mother malkin, the queen of evil witches, escapes the pit she was imprisoned in by professional monster hunter spook decades ago and kills his apprentice, he recruits young tom, the seventh son of the seventh son, to help him.', 'sergei bodrov', 'ben barnes, julianne moore, jeff bridges, alicia vikander', '2014', '102', '5.5', '59958', '17.18', '30', '0', 'Action']\n",
            "['358', 'the theory of everything', 'biography,drama,romance', 'a look at the relationship between the famous physicist stephen hawking and his wife.', 'james marsh', 'eddie redmayne, felicity jones, tom prior, sophie perry', '2014', '123', '7.7', '299718', '35.89', '72', '0', 'Biography']\n",
            "['359', 'this is the end', 'comedy,fantasy', \"while attending a party at james franco's house, seth rogen, jay baruchel and many other celebrities are faced with the biblical apocalypse.\", 'evan goldberg', 'james franco, jonah hill, seth rogen,jay baruchel', '2013', '107', '6.6', '327838', '101.47', '67', '0', 'Comedy']\n",
            "['360', 'about time', 'comedy,drama,fantasy', 'at the age of 21, tim discovers he can travel in time and change what happens and has happened in his own life. his decision to make his world a better place by getting a girlfriend turns out not to be as easy as you might think.', 'richard curtis', 'domhnall gleeson, rachel mcadams, bill nighy,lydia wilson', '2013', '123', '7.8', '221600', '15.29', '55', '0', 'Comedy']\n",
            "['361', 'step brothers', 'comedy', 'two aimless middle-aged losers still living at home are forced against their will to become roommates when their parents marry.', 'adam mckay', 'will ferrell, john c. reilly, mary steenburgen,richard jenkins', '2008', '98', '6.9', '223065', '100.47', '51', '1', 'Comedy']\n",
            "['362', 'clown', 'horror,thriller', \"a loving father finds a clown suit for his son's birthday party, only to realize that it is not a suit at all.\", 'jon watts', 'andy powers, laura allen, peter stormare, christian distefano', '2014', '100', '5.7', '14248', '0.05', '42', '0', 'Horror']\n",
            "['363', 'star trek into darkness', 'action,adventure,sci-fi', 'after the crew of the enterprise find an unstoppable force of terror from within their own organization, captain kirk leads a manhunt to a war-zone world to capture a one-man weapon of mass destruction.', 'j.j. abrams', 'chris pine, zachary quinto, zoe saldana, benedict cumberbatch', '2013', '132', '7.8', '417663', '228.76', '72', '1', 'Action']\n",
            "['364', 'zombieland', 'adventure,comedy,horror', 'a shy student trying to reach his family in ohio, a gun-toting tough guy trying to find the last twinkie, and a pair of sisters trying to get to an amusement park join forces to travel across a zombie-filled america.', 'ruben fleischer', 'jesse eisenberg, emma stone, woody harrelson,abigail breslin', '2009', '88', '7.7', '409403', '75.59', '73', '0', 'Adventure']\n",
            "['365', 'hail, caesar!', 'comedy,mystery', \"a hollywood fixer in the 1950s works to keep the studio's stars in line.\", 'ethan coen', 'josh brolin, george clooney, alden ehrenreich, ralph fiennes', '2016', '106', '6.3', '89059', '30', '72', '0', 'Comedy']\n",
            "['366', 'slumdog millionaire', 'drama', 'a mumbai teen reflects on his upbringing in the slums when he is accused of cheating on the indian version of \"who wants to be a millionaire?\"', 'danny boyle', 'dev patel, freida pinto, saurabh shukla, anil kapoor', '2008', '120', '8', '677044', '141.32', '86', '1', 'Drama']\n",
            "['367', 'the twilight saga: breaking dawn - part 2', 'adventure,drama,fantasy', 'after the birth of renesmee, the cullens gather other vampire clans in order to protect the child from a false allegation that puts the family in front of the volturi.', 'bill condon', 'kristen stewart, robert pattinson, taylor lautner, peter facinelli', '2012', '115', '5.5', '194329', '292.3', '52', '0', 'Adventure']\n",
            "['369', 'the amazing spider-man', 'action,adventure', \"after peter parker is bitten by a genetically altered spider, he gains newfound, spider-like powers and ventures out to solve the mystery of his parent's mysterious death.\", 'marc webb', 'andrew garfield, emma stone, rhys ifans, irrfan khan', '2012', '136', '7', '474320', '262.03', '66', '1', 'Action']\n",
            "['370', 'ben-hur', 'action,adventure,drama', 'judah ben-hur, a prince falsely accused of treason by his adopted brother, an officer in the roman army, returns to his homeland after years at sea to seek revenge, but finds redemption.', 'timur bekmambetov', 'jack huston, toby kebbell, rodrigo santoro,nazanin boniadi', '2016', '123', '5.7', '28326', '26.38', '38', '0', 'Action']\n",
            "['371', 'sleight', 'action,drama,sci-fi', 'a young street magician (jacob latimore) is left to care for his little sister after their parents passing, and turns to illegal activities to keep a roof over their heads. when he gets in ... see full summary »', 'j.d. dillard', 'jacob latimore, seychelle gabriel, dulé hill, storm reid', '2016', '89', '6', '702', '3.85', '62', '0', 'Action']\n",
            "['372', 'the maze runner', 'action,mystery,sci-fi', 'thomas is deposited in a community of boys after his memory is erased, soon learning they\\'re all trapped in a maze that will require him to join forces with fellow \"runners\" for a shot at escape.', 'wes ball', \"dylan o'brien, kaya scodelario, will poulter, thomas brodie-sangster\", '2014', '113', '6.8', '335531', '102.41', '57', '0', 'Action']\n",
            "['373', 'criminal', 'action,crime,drama', \"in a last-ditch effort to stop a diabolical plot, a dead cia operative's memories, secrets, and skills are implanted into a death-row inmate in hopes that he will complete the operative's mission.\", 'ariel vromen', 'kevin costner, ryan reynolds, gal gadot, gary oldman', '2016', '113', '6.3', '38430', '14.27', '36', '0', 'Action']\n",
            "['374', 'wanted', 'action,crime,fantasy', \"a frustrated office worker learns that he is the son of a professional assassin, and that he shares his father's superhuman killing abilities.\", 'timur bekmambetov', 'angelina jolie, james mcavoy, morgan freeman, terence stamp', '2008', '110', '6.7', '312495', '134.57', '64', '0', 'Action']\n",
            "['375', 'florence foster jenkins', 'biography,comedy,drama', 'the story of florence foster jenkins, a new york heiress who dreamed of becoming an opera singer, despite having a terrible singing voice.', 'stephen frears', 'meryl streep, hugh grant, simon helberg, rebecca ferguson', '2016', '111', '6.9', '31776', '27.37', '71', '0', 'Biography']\n",
            "['376', 'collide', 'action,crime,thriller', 'an american backpacker gets involved with a ring of drug smugglers as their driver, though he winds up on the run from his employers across cologne high-speed autobahn.', 'eran creevy', 'nicholas hoult, felicity jones, anthony hopkins, ben kingsley', '2016', '99', '5.7', '7583', '2.2', '33', '0', 'Action']\n",
            "['377', 'black mass', 'biography,crime,drama', 'the true story of whitey bulger, the brother of a state senator and the most infamous violent criminal in the history of south boston, who became an fbi informant to take down a mafia family invading his turf.', 'scott cooper', 'johnny depp, benedict cumberbatch, dakota johnson, joel edgerton', '2015', '123', '6.9', '135706', '62.56', '68', '0', 'Biography']\n",
            "['378', 'creed', 'drama,sport', 'the former world heavyweight champion rocky balboa serves as a trainer and mentor to adonis johnson, the son of his late friend and former rival apollo creed.', 'ryan coogler', 'michael b. jordan, sylvester stallone, tessa thompson, phylicia rashad', '2015', '133', '7.6', '175673', '109.71', '82', '0', 'Drama']\n",
            "['379', 'swiss army man', 'adventure,comedy,drama', 'a hopeless man stranded on a deserted island befriends a dead body and together they go on a surreal journey to get home.', 'dan kwan', 'paul dano, daniel radcliffe, mary elizabeth winstead, antonia ribero', '2016', '97', '7.1', '61812', '4.21', '64', '0', 'Adventure']\n",
            "['380', 'the expendables 3', 'action,adventure,thriller', 'barney augments his team with new blood for a personal battle: to take down conrad stonebanks, the expendables co-founder and notorious arms trader who is hell bent on wiping out barney and every single one of his associates.', 'patrick hughes', 'sylvester stallone, jason statham, jet li, antonio banderas', '2014', '126', '6.1', '137568', '39.29', '35', '0', 'Action']\n",
            "['381', 'what we do in the shadows', 'comedy,fantasy,horror', 'a documentary team films the lives of a group of vampires for a few months. the vampires share a house in wellington, new zealand. turns out vampires have their own domestic problems too.', 'jemaine clement', 'jemaine clement, taika waititi,cori gonzalez-macuer, jonny brugh', '2014', '86', '7.6', '84016', '3.33', '76', '0', 'Comedy']\n",
            "['382', 'southpaw', 'drama,sport', 'boxer billy hope turns to trainer tick wills to help him get his life back on track after losing his wife in a tragic accident and his daughter to child protection services.', 'antoine fuqua', 'jake gyllenhaal, rachel mcadams, oona laurence,forest whitaker', '2015', '124', '7.4', '169083', '52.42', '57', '0', 'Drama']\n",
            "['384', 'bridge of spies', 'drama,history,thriller', 'during the cold war, an american lawyer is recruited to defend an arrested soviet spy in court, and then help the cia facilitate an exchange of the spy for the soviet captured american u2 spy plane pilot, francis gary powers.', 'steven spielberg', 'tom hanks, mark rylance, alan alda, amy ryan', '2015', '142', '7.6', '217938', '72.31', '81', '0', 'Drama']\n",
            "['385', 'the lego movie', 'animation,action,adventure', \"an ordinary lego construction worker, thought to be the prophesied 'special', is recruited to join a quest to stop an evil tyrant from gluing the lego universe into eternal stasis.\", 'phil lord', 'chris pratt, will ferrell, elizabeth banks, will arnett', '2014', '100', '7.8', '266508', '257.76', '83', '1', 'Animation']\n",
            "['386', 'everest', 'action,adventure,drama', 'the story of new zealand\\'s robert \"rob\" edwin hall, who on may 10, 1996, together with scott fischer, teamed up on a joint expedition to ascend mount everest.', 'baltasar kormákur', 'jason clarke, ang phula sherpa, thomas m. wright, martin henderson', '2015', '121', '7.1', '154647', '43.25', '64', '0', 'Action']\n",
            "['387', 'pixels', 'action,comedy,family', 'when aliens misinterpret video feeds of classic arcade games as a declaration of war, they attack the earth in the form of the video games.', 'chris columbus', 'adam sandler, kevin james, michelle monaghan,peter dinklage', '2015', '105', '5.6', '101092', '78.75', '27', '0', 'Action']\n",
            "['388', 'robin hood', 'action,adventure,drama', 'in 12th century england, robin and his band of marauders confront corruption in a local village and lead an uprising against the crown that will forever alter the balance of world power.', 'ridley scott', 'russell crowe, cate blanchett, matthew macfadyen,max von sydow', '2010', '140', '6.7', '221117', '105.22', '53', '0', 'Action']\n",
            "['389', 'the wolverine', 'action,adventure,sci-fi', 'when wolverine is summoned to japan by an old acquaintance, he is embroiled in a conflict that forces him to confront his own demons.', 'james mangold', 'hugh jackman, will yun lee, tao okamoto, rila fukushima', '2013', '126', '6.7', '355362', '132.55', '60', '0', 'Action']\n",
            "['390', 'john carter', 'action,adventure,sci-fi', 'transported to barsoom, a civil war vet discovers a barren planet seemingly inhabited by 12-foot tall barbarians. finding himself prisoner of these creatures, he escapes, only to encounter woola and a princess in desperate need of a savior.', 'andrew stanton', 'taylor kitsch, lynn collins, willem dafoe,samantha morton', '2012', '132', '6.6', '220667', '73.06', '51', '0', 'Action']\n",
            "['391', 'keanu', 'action,comedy', \"when an l.a. drug kingpin's kitten unexpectedly enters the life of two cousins, they will have to go through gangs, hitmen and drug dealers who claim him in order to get him back.\", 'peter atencio', 'keegan-michael key, jordan peele, tiffany haddish,method man', '2016', '100', '6.3', '31913', '20.57', '63', '0', 'Action']\n",
            "['392', 'the gunman', 'action,crime,drama', \"a sniper on a mercenary assassination team, kills the minister of mines of the congo. terrier's successful kill shot forces him into hiding. returning to the congo years later, he becomes the target of a hit squad himself.\", 'pierre morel', 'sean penn, idris elba, jasmine trinca, javier bardem', '2015', '115', '5.8', '31194', '10.64', '39', '0', 'Action']\n",
            "['393', 'steve jobs', 'biography,drama', 'steve jobs takes us behind the scenes of the digital revolution, to paint a portrait of the man at its epicenter. the story unfolds backstage at three iconic product launches, ending in 1998 with the unveiling of the imac.', 'danny boyle', 'michael fassbender, kate winslet, seth rogen, jeff daniels', '2015', '122', '7.2', '116112', '17.75', '82', '0', 'Biography']\n",
            "['395', 'grown ups 2', 'comedy', 'after moving his family back to his hometown to be with his friends and their kids, lenny finds out that between old bullies, new bullies, schizo bus drivers, drunk cops on skis, and 400 costumed party crashers sometimes crazy follows you.', 'dennis dugan', 'adam sandler, kevin james, chris rock, david spade', '2013', '101', '5.4', '114482', '133.67', '19', '0', 'Comedy']\n",
            "['396', 'the age of adaline', 'drama,fantasy,romance', 'a young woman, born at the turn of the 20th century, is rendered ageless after an accident. after many solitary years, she meets a man who complicates the eternal life she has settled into.', 'lee toland krieger', 'blake lively, michiel huisman, harrison ford,kathy baker', '2015', '112', '7.2', '112288', '42.48', '51', '0', 'Drama']\n",
            "['397', 'the incredible hulk', 'action,adventure,sci-fi', 'bruce banner, a scientist on the run from the u.s. government, must find a cure for the monster he emerges whenever he loses his temper.', 'louis leterrier', 'edward norton, liv tyler, tim roth, william hurt', '2008', '112', '6.8', '342355', '134.52', '61', '0', 'Action']\n",
            "['398', 'couples retreat', 'comedy', \"a comedy centered around four couples who settle into a tropical-island resort for a vacation. while one of the couples is there to work on the marriage, the others fail to realize that participation in the resort's therapy sessions is not optional.\", 'peter billingsley', 'vince vaughn, malin akerman, jon favreau, jason bateman', '2009', '113', '5.5', '86417', '109.18', '23', '0', 'Comedy']\n",
            "['400', 'magic mike', 'comedy,drama', 'a male stripper teaches a younger performer how to party, pick up women, and make easy money.', 'steven soderbergh', 'channing tatum, alex pettyfer, olivia munn,matthew mcconaughey', '2012', '110', '6.1', '113686', '113.71', '72', '0', 'Comedy']\n",
            "['401', 'minions', 'animation,action,adventure', 'minions stuart, kevin and bob are recruited by scarlet overkill, a super-villain who, alongside her inventor husband herb, hatches a plot to take over the world.', 'kyle balda', 'sandra bullock, jon hamm, michael keaton, pierre coffin', '2015', '91', '6.4', '159830', '336.03', '56', '0', 'Animation']\n",
            "['404', 'despicable me', 'animation,adventure,comedy', 'when a criminal mastermind uses a trio of orphan girls as pawns for a grand scheme, he finds their love is profoundly changing him for the better.', 'pierre coffin', 'steve carell, jason segel, russell brand, julie andrews', '2010', '95', '7.7', '410607', '251.5', '72', '1', 'Animation']\n",
            "['405', 'the best of me', 'drama,romance', 'a pair of former high school sweethearts reunite after many years when they return to visit their small hometown.', 'michael hoffman', 'james marsden, michelle monaghan, luke bracey,liana liberato', '2014', '118', '6.7', '49041', '26.76', '29', '0', 'Drama']\n",
            "['406', 'the invitation', 'drama,mystery,thriller', 'while attending a dinner party at his former home, a man thinks his ex-wife and her new husband have sinister intentions for their guests.', 'karyn kusama', 'logan marshall-green, emayatzy corinealdi, michiel huisman, tammy blanchard', '2015', '100', '6.7', '40529', '0.23', '74', '0', 'Drama']\n",
            "['407', 'zero dark thirty', 'drama,history,thriller', 'a chronicle of the decade-long hunt for al-qaeda terrorist leader osama bin laden after the september 2001 attacks, and his death at the hands of the navy s.e.a.l.s team 6 in may 2011.', 'kathryn bigelow', 'jessica chastain, joel edgerton, chris pratt, mark strong', '2012', '157', '7.4', '226661', '95.72', '95', '1', 'Drama']\n",
            "['408', 'tangled', 'animation,adventure,comedy', 'the magically long-haired rapunzel has spent her entire life in a tower, but now that a runaway thief has stumbled upon her, she is about to discover the world for the first time, and who she really is.', 'nathan greno', 'mandy moore, zachary levi, donna murphy, ron perlman', '2010', '100', '7.8', '316459', '200.81', '71', '1', 'Animation']\n",
            "['409', 'the hunger games: mockingjay - part 2', 'action,adventure,sci-fi', 'as the war of panem escalates to the destruction of other districts, katniss everdeen, the reluctant leader of the rebellion, must bring together an army against president snow, while all she holds dear hangs in the balance.', 'francis lawrence', 'jennifer lawrence, josh hutcherson, liam hemsworth, woody harrelson', '2015', '137', '6.6', '202380', '281.67', '65', '0', 'Action']\n",
            "['410', 'vacation', 'adventure,comedy', 'rusty griswold takes his own family on a road trip to \"walley world\" in order to spice things up with his wife and reconnect with his sons.', 'john francis daley', 'ed helms, christina applegate, skyler gisondo, steele stebbins', '2015', '99', '6.1', '74589', '58.88', '34', '0', 'Adventure']\n",
            "['411', 'taken', 'action,thriller', 'a retired cia agent travels across europe and relies on his old skills to save his estranged daughter, who has been kidnapped while on a trip to paris.', 'pierre morel', 'liam neeson, maggie grace, famke janssen, leland orser', '2008', '93', '7.8', '502961', '145', '50', '1', 'Action']\n",
            "['412', 'pitch perfect 2', 'comedy,music', 'after a humiliating command performance at the kennedy center, the barden bellas enter an international competition that no american group has ever won in order to regain their status and right to perform.', 'elizabeth banks', 'anna kendrick, rebel wilson, hailee steinfeld,brittany snow', '2015', '115', '6.5', '108306', '183.44', '63', '0', 'Comedy']\n",
            "['413', 'monsters university', 'animation,adventure,comedy', \"a look at the relationship between mike and sulley during their days at monsters university -- when they weren't necessarily the best of friends.\", 'dan scanlon', 'billy crystal, john goodman, steve buscemi, helen mirren', '2013', '104', '7.3', '252119', '268.49', '65', '1', 'Animation']\n",
            "['415', 'mechanic: resurrection', 'action,adventure,crime', 'arthur bishop thought he had put his murderous past behind him, until his most formidable foe kidnaps the love of his life. now he is forced to travel the globe to complete three impossible assassinations, and do what he does best: make them look like accidents.', 'dennis gansel', 'jason statham, jessica alba, tommy lee jones,michelle yeoh', '2016', '98', '5.6', '48161', '21.2', '38', '0', 'Action']\n",
            "['416', 'tusk', 'comedy,drama,horror', 'when podcaster wallace bryton goes missing in the backwoods of manitoba while interviewing a mysterious seafarer named howard howe, his best friend teddy and girlfriend allison team with an ex-cop to look for him.', 'kevin smith', 'justin long, michael parks, haley joel osment,genesis rodriguez', '2014', '102', '5.4', '34546', '1.82', '55', '0', 'Comedy']\n",
            "['419', 'harry potter and the deathly hallows: part 1', 'adventure,family,fantasy', 'as harry races against time and evil to destroy the horcruxes, he uncovers the existence of three most powerful objects in the wizarding world: the deathly hallows.', 'david yates', 'daniel radcliffe, emma watson, rupert grint, bill nighy', '2010', '146', '7.7', '357213', '294.98', '65', '1', 'Adventure']\n",
            "['420', 'shame', 'drama', \"a man's carefully cultivated private life is disrupted when his sister arrives for an indefinite stay.\", 'steve mcqueen', 'michael fassbender, carey mulligan, james badge dale, lucy walters', '2011', '101', '7.2', '155010', '4', '72', '0', 'Drama']\n",
            "['421', 'hanna', 'action,drama,thriller', 'a sixteen-year-old girl who was raised by her father to be the perfect assassin is dispatched on a mission across europe, tracked by a ruthless intelligence agent and her operatives.', 'joe wright', 'saoirse ronan, cate blanchett, eric bana, vicky krieps', '2011', '111', '6.8', '164208', '40.25', '65', '0', 'Action']\n",
            "['422', 'the babysitters', 'drama', 'a teenager turns her babysitting service into a call-girl service for married guys after fooling around with one of her customers.', 'david ross', 'lauren birkell, paul borghese, chira cassel, anthony cirillo', '2007', '88', '5.7', '8914', '0.04', '35', '0', 'Drama']\n",
            "['423', 'pride and prejudice and zombies', 'action,horror,romance', 'five sisters in 19th century england must cope with the pressures to marry while protecting themselves from a growing population of zombies.', 'burr steers', 'lily james, sam riley, jack huston, bella heathcote', '2016', '108', '5.8', '35003', '10.91', '45', '0', 'Action']\n",
            "['424', '300: rise of an empire', 'action,drama,fantasy', 'greek general themistokles leads the charge against invading persian forces led by mortal-turned-god xerxes and artemisia, vengeful commander of the persian navy.', 'noam murro', 'sullivan stapleton, eva green, lena headey, hans matheson', '2014', '102', '6.2', '237887', '106.37', '48', '0', 'Action']\n",
            "['425', 'london has fallen', 'action,crime,drama', \"in london for the prime minister's funeral, mike banning discovers a plot to assassinate all the attending world leaders.\", 'babak najafi', 'gerard butler, aaron eckhart, morgan freeman,angela bassett', '2016', '99', '5.9', '100702', '62.4', '28', '0', 'Action']\n",
            "['426', 'the curious case of benjamin button', 'drama,fantasy,romance', 'tells the story of benjamin button, a man who starts aging backwards with bizarre consequences.', 'david fincher', 'brad pitt, cate blanchett, tilda swinton, julia ormond', '2008', '166', '7.8', '485075', '127.49', '70', '1', 'Drama']\n",
            "['427', 'sin city: a dame to kill for', 'action,crime,thriller', \"some of sin city's most hard-boiled citizens cross paths with a few of its more reviled inhabitants.\", 'frank miller', 'mickey rourke, jessica alba, josh brolin, joseph gordon-levitt', '2014', '102', '6.5', '122185', '13.75', '46', '0', 'Action']\n",
            "['428', 'the bourne ultimatum', 'action,mystery,thriller', 'jason bourne dodges a ruthless cia official and his agents from a new assassination program while searching for the origins of his life as a trained killer.', 'paul greengrass', 'matt damon, edgar ramírez, joan allen, julia stiles', '2007', '115', '8.1', '525700', '227.14', '85', '1', 'Action']\n",
            "['431', '3 idiots', 'comedy,drama', 'two friends are searching for their long lost companion. they revisit their college days and recall the memories of their friend who inspired them to think differently, even as the rest of the world called them \"idiots\".', 'rajkumar hirani', 'aamir khan, madhavan, mona singh, sharman joshi', '2009', '170', '8.4', '238789', '6.52', '67', '0', 'Comedy']\n",
            "['432', 'zoolander 2', 'comedy', 'derek and hansel are lured into modeling again, in rome, where they find themselves the target of a sinister conspiracy.', 'ben stiller', 'ben stiller, owen wilson, penélope cruz, will ferrell', '2016', '102', '4.7', '48297', '28.84', '34', '0', 'Comedy']\n",
            "['433', 'world war z', 'action,adventure,horror', 'former united nations employee gerry lane traverses the world in a race against time to stop the zombie pandemic that is toppling armies and governments, and threatening to destroy humanity itself.', 'marc forster', 'brad pitt, mireille enos, daniella kertesz, james badge dale', '2013', '116', '7', '494819', '202.35', '63', '1', 'Action']\n",
            "['434', 'mission: impossible - ghost protocol', 'action,adventure,thriller', \"the imf is shut down when it's implicated in the bombing of the kremlin, causing ethan hunt and his new team to go rogue to clear their organization's name.\", 'brad bird', 'tom cruise, jeremy renner, simon pegg, paula patton', '2011', '132', '7.4', '382459', '209.36', '73', '1', 'Action']\n",
            "['437', 'the longest ride', 'drama,romance', 'the lives of a young couple intertwine with a much older man, as he reflects back on a past love.', 'george tillman jr.', 'scott eastwood, britt robertson, alan alda, jack huston', '2015', '123', '7.1', '58421', '37.43', '33', '0', 'Drama']\n",
            "['438', 'the imposible', 'drama,thriller', 'the story of a tourist family in thailand caught in the destruction and chaotic aftermath of the 2004 indian ocean tsunami.', 'j.a. bayona', 'naomi watts, ewan mcgregor, tom holland, oaklee pendergast', '2012', '114', '7.6', '156189', '19', '73', '0', 'Drama']\n",
            "['439', 'kick-ass 2', 'action,comedy,crime', \"following kick-ass' heroics, other citizens are inspired to become masked crusaders. but the red mist leads his own group of evil supervillains to kill kick-ass and destroy everything for which he stands.\", 'jeff wadlow', 'aaron taylor-johnson, chloë grace moretz,christopher mintz-plasse, jim carrey', '2013', '103', '6.6', '214825', '28.75', '41', '0', 'Action']\n",
            "['441', 'oz the great and powerful', 'adventure,family,fantasy', 'a frustrated circus magician from kansas is transported to a magical land called oz, where he will have to fulfill a prophecy to become the king, and release the land from the wicked witches using his great (but fake) powers.', 'sam raimi', 'james franco, michelle williams, rachel weisz, mila kunis', '2013', '130', '6.3', '181521', '234.9', '44', '0', 'Adventure']\n",
            "['442', 'brooklyn', 'drama,romance', 'an irish immigrant lands in 1950s brooklyn, where she quickly falls into a romance with a local. when her past catches up with her, however, she must choose between two countries and the lives that exist within.', 'john crowley', 'saoirse ronan, emory cohen, domhnall gleeson,jim broadbent', '2015', '117', '7.5', '94977', '38.32', '87', '0', 'Drama']\n",
            "['443', 'coraline', 'animation,family,fantasy', 'an adventurous girl finds another world that is a strangely idealized version of her frustrating home, but it has sinister secrets.', 'henry selick', 'dakota fanning, teri hatcher, john hodgman, jennifer saunders', '2009', '100', '7.7', '156620', '75.28', '80', '0', 'Animation']\n",
            "['444', 'blue valentine', 'drama,romance', 'the relationship of a contemporary married couple, charting their evolution over a span of years by cross-cutting between time periods.', 'derek cianfrance', 'ryan gosling, michelle williams, john doman,faith wladyka', '2010', '112', '7.4', '151409', '9.7', '81', '0', 'Drama']\n",
            "['447', 'dredd', 'action,sci-fi', 'in a violent, futuristic city where the police have the authority to act as judge, jury and executioner, a cop teams with a trainee to take down a gang that deals the reality-altering drug, slo-mo.', 'pete travis', 'karl urban, olivia thirlby, lena headey, rachel wood', '2012', '95', '7.1', '213764', '13.4', '59', '0', 'Action']\n",
            "['448', 'hunt for the wilderpeople', 'adventure,comedy,drama', 'a national manhunt is ordered for a rebellious kid and his foster uncle who go missing in the wild new zealand bush.', 'taika waititi', 'sam neill, julian dennison, rima te wiata, rachel house', '2016', '101', '7.9', '52331', '5.2', '81', '0', 'Adventure']\n",
            "['449', 'big hero 6', 'animation,action,adventure', 'the special bond that develops between plus-sized inflatable robot baymax, and prodigy hiro hamada, who team up with a group of friends to form a band of high-tech heroes.', 'don hall', 'ryan potter, scott adsit, jamie chung,t.j. miller', '2014', '102', '7.8', '309186', '222.49', '74', '1', 'Animation']\n",
            "['450', 'carrie', 'drama,horror', 'a shy girl, outcasted by her peers and sheltered by her religious mother, unleashes telekinetic terror on her small town after being pushed too far at her senior prom.', 'kimberly peirce', 'chloë grace moretz, julianne moore, gabriella wilde, portia doubleday', '2013', '100', '5.9', '113272', '35.27', '53', '0', 'Drama']\n",
            "['451', 'iron man 2', 'action,adventure,sci-fi', \"with the world now aware of his identity as iron man, tony stark must contend with both his declining health and a vengeful mad man with ties to his father's legacy.\", 'jon favreau', 'robert downey jr., mickey rourke, gwyneth paltrow,don cheadle', '2010', '124', '7', '556666', '312.06', '57', '1', 'Action']\n",
            "['452', 'demolition', 'comedy,drama', 'a successful investment banker struggles after losing his wife in a tragic car crash. with the help of a customer service rep and her young son, he starts to rebuild, beginning with the demolition of the life he once knew.', 'jean-marc vallée', 'jake gyllenhaal, naomi watts, chris cooper,judah lewis', '2015', '101', '7', '58720', '1.82', '49', '0', 'Comedy']\n",
            "['453', 'pandorum', 'action,horror,mystery', 'a pair of crew members aboard a spaceship wake up with no knowledge of their mission or their identities.', 'christian alvart', 'dennis quaid, ben foster, cam gigandet, antje traue', '2009', '108', '6.8', '126656', '10.33', '28', '0', 'Action']\n",
            "['454', 'olympus has fallen', 'action,thriller', 'disgraced secret service agent (and former presidential guard) mike banning finds himself trapped inside the white house in the wake of a terrorist attack; using his inside knowledge, banning works with national security to rescue the president from his kidnappers.', 'antoine fuqua', 'gerard butler, aaron eckhart, morgan freeman,angela bassett', '2013', '119', '6.5', '214994', '98.9', '41', '0', 'Action']\n",
            "['455', 'i am number four', 'action,adventure,sci-fi', 'aliens and their guardians are hiding on earth from intergalactic bounty hunters. they can only be killed in numerical order, and number four is next on the list. this is his story.', 'd.j. caruso', 'alex pettyfer, timothy olyphant, dianna agron, teresa palmer', '2011', '109', '6.1', '202682', '55.09', '36', '0', 'Action']\n",
            "['456', 'jagten', 'drama', \"a teacher lives a lonely life, all the while struggling over his son's custody. his life slowly gets better as he finds love and receives good news from his son, but his new luck is about to be brutally shattered by an innocent little lie.\", 'thomas vinterberg', 'mads mikkelsen, thomas bo larsen, annika wedderkopp, lasse fogelstrøm', '2012', '115', '8.3', '192263', '0.61', '76', '0', 'Drama']\n",
            "['457', 'the proposal', 'comedy,drama,romance', 'a pushy boss forces her young assistant to marry her in order to keep her visa status in the u.s. and avoid deportation to canada.', 'anne fletcher', 'sandra bullock, ryan reynolds, mary steenburgen,craig t. nelson', '2009', '108', '6.7', '241709', '163.95', '48', '0', 'Comedy']\n",
            "['458', 'get hard', 'comedy,crime', 'when millionaire james king is jailed for fraud and bound for san quentin, he turns to darnell lewis to prep him to go behind bars.', 'etan cohen', 'will ferrell, kevin hart, alison brie, t.i.', '2015', '100', '6', '95119', '90.35', '34', '0', 'Comedy']\n",
            "['459', 'just go with it', 'comedy,romance', 'on a weekend trip to hawaii, a plastic surgeon convinces his loyal assistant to pose as his soon-to-be-divorced wife in order to cover up a careless lie he told to his much-younger girlfriend.', 'dennis dugan', 'adam sandler, jennifer aniston, brooklyn decker,nicole kidman', '2011', '117', '6.4', '182069', '103.03', '33', '0', 'Comedy']\n",
            "['460', 'revolutionary road', 'drama,romance', 'a young couple living in a connecticut suburb during the mid-1950s struggle to come to terms with their personal problems while trying to raise their two children.', 'sam mendes', 'leonardo dicaprio, kate winslet, christopher fitzgerald, jonathan roumie', '2008', '119', '7.3', '159736', '22.88', '69', '0', 'Drama']\n",
            "['461', 'the town', 'crime,drama,thriller', 'as he plans his next job, a longtime thief tries to balance his feelings for a bank manager connected to one of his earlier heists, as well as the fbi agent looking to bring him and his crew down.', 'ben affleck', 'ben affleck, rebecca hall, jon hamm, jeremy renner', '2010', '125', '7.6', '294553', '92.17', '74', '1', 'Crime']\n",
            "['462', 'the boy', 'horror,mystery,thriller', \"an american nanny is shocked that her new english family's boy is actually a life-sized doll. after she violates a list of strict rules, disturbing events make her believe that the doll is really alive.\", 'william brent bell', 'lauren cohan, rupert evans, james russell, jim norton', '2016', '97', '6', '51235', '35.79', '42', '0', 'Horror']\n",
            "['463', 'denial', 'biography,drama', 'acclaimed writer and historian deborah e. lipstadt must battle for historical truth to prove the holocaust actually occurred when david irving, a renowned denier, sues her for libel.', 'mick jackson', 'rachel weisz, tom wilkinson, timothy spall, andrew scott', '2016', '109', '6.6', '8229', '4.07', '63', '0', 'Biography']\n",
            "['465', 'goosebumps', 'adventure,comedy,family', \"a teenager teams up with the daughter of young adult horror author r. l. stine after the writer's imaginary demons are set free on the town of madison, delaware.\", 'rob letterman', 'jack black, dylan minnette, odeya rush, ryan lee', '2015', '103', '6.3', '57602', '80.02', '60', '0', 'Adventure']\n",
            "['466', 'sherlock holmes: a game of shadows', 'action,adventure,crime', 'sherlock holmes and his sidekick dr. watson join forces to outwit and bring down their fiercest adversary, professor moriarty.', 'guy ritchie', 'robert downey jr., jude law, jared harris, rachel mcadams', '2011', '129', '7.5', '357436', '186.83', '48', '1', 'Action']\n",
            "['467', 'salt', 'action,crime,mystery', 'a cia agent goes on the run after a defector accuses her of being a russian spy.', 'phillip noyce', 'angelina jolie, liev schreiber, chiwetel ejiofor, daniel olbrychski', '2010', '100', '6.4', '255813', '118.31', '65', '0', 'Action']\n",
            "['468', 'enemy', 'mystery,thriller', 'a man seeks out his exact look-alike after spotting him in a movie.', 'denis villeneuve', 'jake gyllenhaal, mélanie laurent, sarah gadon,isabella rossellini', '2013', '91', '6.9', '111558', '1.01', '61', '0', 'Mystery']\n",
            "['469', 'district 9', 'action,sci-fi,thriller', 'an extraterrestrial race forced to live in slum-like conditions on earth suddenly finds a kindred spirit in a government agent who is exposed to their biotechnology.', 'neill blomkamp', 'sharlto copley, david james, jason cope, nathalie boltt', '2009', '112', '8', '556794', '115.65', '81', '1', 'Action']\n",
            "['470', 'the other guys', 'action,comedy,crime', \"two mismatched new york city detectives seize an opportunity to step up like the city's top cops whom they idolize -- only things don't quite go as planned.\", 'adam mckay', 'will ferrell, mark wahlberg, derek jeter, eva mendes', '2010', '107', '6.7', '199900', '119.22', '64', '0', 'Action']\n",
            "['471', 'american gangster', 'biography,crime,drama', 'in 1970s america, a detective works to bring down the drug empire of frank lucas, a heroin kingpin from manhattan, who is smuggling the drug into the country from the far east.', 'ridley scott', 'denzel washington, russell crowe, chiwetel ejiofor,josh brolin', '2007', '157', '7.8', '337835', '130.13', '76', '1', 'Biography']\n",
            "['472', 'marie antoinette', 'biography,drama,history', \"the retelling of france's iconic but ill-fated queen, marie antoinette. from her betrothal and marriage to louis xvi at 15 to her reign as queen at 19 and to the end of her reign as queen, and ultimately the fall of versailles.\", 'sofia coppola', 'kirsten dunst, jason schwartzman, rip torn, judy davis', '2006', '123', '6.4', '83941', '15.96', '65', '0', 'Biography']\n",
            "['473', '2012', 'action,adventure,sci-fi', 'a frustrated writer struggles to keep his family alive when a series of global catastrophes threatens to annihilate mankind.', 'roland emmerich', 'john cusack, thandie newton, chiwetel ejiofor,amanda peet', '2009', '158', '5.8', '297984', '166.11', '49', '0', 'Action']\n",
            "['474', 'harry potter and the half-blood prince', 'adventure,family,fantasy', 'as harry potter begins his sixth year at hogwarts, he discovers an old book marked as \"the property of the half-blood prince\" and begins to learn more about lord voldemort\\'s dark past.', 'david yates', 'daniel radcliffe, emma watson, rupert grint, michael gambon', '2009', '153', '7.5', '351059', '301.96', '78', '1', 'Adventure']\n",
            "['475', 'argo', 'biography,drama,history', 'acting under the cover of a hollywood producer scouting a location for a science fiction film, a cia agent launches a dangerous operation to rescue six americans in tehran during the u.s. hostage crisis in iran in 1980.', 'ben affleck', 'ben affleck, bryan cranston, john goodman, alan arkin', '2012', '120', '7.7', '481274', '136.02', '86', '1', 'Biography']\n",
            "['476', 'eddie the eagle', 'biography,comedy,drama', 'the story of eddie edwards, the notoriously tenacious british underdog ski jumper who charmed the world at the 1988 winter olympics.', 'dexter fletcher', 'taron egerton, hugh jackman, tom costello, jo hartley', '2016', '106', '7.4', '56332', '15.79', '54', '0', 'Biography']\n",
            "['477', 'the lives of others', 'drama,thriller', 'in 1984 east berlin, an agent of the secret police, conducting surveillance on a writer and his lover, finds himself becoming increasingly absorbed by their lives.', 'florian henckel von donnersmarck', 'ulrich mühe, martina gedeck,sebastian koch, ulrich tukur', '2006', '137', '8.5', '278103', '11.28', '89', '0', 'Drama']\n",
            "['481', 'forgetting sarah marshall', 'comedy,drama,romance', \"devastated peter takes a hawaiian vacation in order to deal with the recent break-up with his tv star girlfriend, sarah. little does he know, sarah's traveling to the same resort as her ex - and she's bringing along her new boyfriend.\", 'nicholas stoller', 'kristen bell, jason segel, paul rudd, mila kunis', '2008', '111', '7.2', '226619', '62.88', '67', '0', 'Comedy']\n",
            "['482', 'the giver', 'drama,romance,sci-fi', 'in a seemingly perfect community, without war, pain, suffering, differences or choice, a young boy is chosen to learn from an elderly man about the true pain and pleasure of the \"real\" world.', 'phillip noyce', 'brenton thwaites, jeff bridges, meryl streep, taylor swift', '2014', '97', '6.5', '93799', '45.09', '47', '0', 'Drama']\n",
            "['483', 'triple 9', 'action,crime,drama', 'a gang of criminals and corrupt cops plan the murder of a police officer in order to pull off their biggest heist yet across town.', 'john hillcoat', 'casey affleck, chiwetel ejiofor, anthony mackie,aaron paul', '2016', '115', '6.3', '48400', '12.63', '52', '0', 'Action']\n",
            "['486', 'moonrise kingdom', 'adventure,comedy,drama', 'a pair of young lovers flee their new england town, which causes a local search party to fan out to find them.', 'wes anderson', 'jared gilman, kara hayward, bruce willis, bill murray', '2012', '94', '7.8', '254446', '45.51', '84', '0', 'Adventure']\n",
            "['487', 'hairspray', 'comedy,drama,family', 'pleasantly plump teenager tracy turnblad teaches 1962 baltimore a thing or two about integration after landing a spot on a local tv dance show.', 'adam shankman', 'john travolta, queen latifah, nikki blonsky,michelle pfeiffer', '2007', '117', '6.7', '102954', '118.82', '81', '0', 'Comedy']\n",
            "['488', 'safe haven', 'drama,romance,thriller', 'a young woman with a mysterious past lands in southport, north carolina where her bond with a widower forces her to confront the dark secret that haunts her.', 'lasse hallström', 'julianne hough, josh duhamel, cobie smulders,david lyons', '2013', '115', '6.7', '84765', '71.35', '34', '0', 'Drama']\n",
            "['489', 'focus', 'comedy,crime,drama', \"in the midst of veteran con man nicky's latest scheme, a woman from his past - now an accomplished femme fatale - shows up and throws his plans for a loop.\", 'glenn ficarra', 'will smith, margot robbie, rodrigo santoro, adrian martinez', '2015', '105', '6.6', '166489', '53.85', '56', '0', 'Comedy']\n",
            "['490', 'ratatouille', 'animation,comedy,family', 'a rat who can cook makes an unusual alliance with a young kitchen worker at a famous restaurant.', 'brad bird', 'brad garrett, lou romano, patton oswalt,ian holm', '2007', '111', '8', '504039', '206.44', '96', '1', 'Animation']\n",
            "['491', 'stake land', 'drama,horror,sci-fi', \"martin was a normal teenage boy before the country collapsed in an empty pit of economic and political disaster. a vampire epidemic has swept across what is left of the nation's abandoned ... see full summary »\", 'jim mickle', 'connor paolo, nick damici, kelly mcgillis, gregory jones', '2010', '98', '6.5', '36091', '0.02', '66', '0', 'Drama']\n",
            "['492', 'the book of eli', 'action,adventure,drama', 'a post-apocalyptic tale, in which a lone man fights his way across america in order to protect a sacred book that holds the secrets to saving humankind.', 'albert hughes', 'denzel washington, mila kunis, ray stevenson, gary oldman', '2010', '118', '6.9', '241359', '94.82', '53', '1', 'Action']\n",
            "['493', 'cloverfield', 'action,horror,sci-fi', 'a group of friends venture deep into the streets of new york on a rescue mission during a rampaging monster attack.', 'matt reeves', 'mike vogel, jessica lucas, lizzy caplan, t.j. miller', '2008', '85', '7', '313803', '80.03', '64', '0', 'Action']\n",
            "['494', 'point break', 'action,crime,sport', 'a young fbi agent infiltrates an extraordinary team of extreme sports athletes he suspects of masterminding a string of unprecedented, sophisticated corporate heists.', 'ericson core', 'edgar ramírez, luke bracey, ray winstone, teresa palmer', '2015', '114', '5.3', '44553', '28.77', '34', '0', 'Action']\n",
            "['495', 'under the skin', 'drama,horror,sci-fi', 'a mysterious young woman seduces lonely men in the evening hours in scotland. however, events lead her to begin a process of self-discovery.', 'jonathan glazer', 'scarlett johansson, jeremy mcwilliams, lynsey taylor mackay, dougie mcconnell', '2013', '108', '6.3', '94707', '2.61', '78', '0', 'Drama']\n",
            "['496', 'i am legend', 'drama,horror,sci-fi', 'years after a plague kills most of humanity and transforms the rest into monsters, the sole survivor in new york city struggles valiantly to find a cure.', 'francis lawrence', 'will smith, alice braga, charlie tahan, salli richardson-whitfield', '2007', '101', '7.2', '565721', '256.39', '65', '1', 'Drama']\n",
            "['497', 'men in black 3', 'action,adventure,comedy', \"agent j travels in time to m.i.b.'s early days in 1969 to stop an alien from assassinating his friend agent k and changing history.\", 'barry sonnenfeld', 'will smith, tommy lee jones, josh brolin,jemaine clement', '2012', '106', '6.8', '278379', '179.02', '58', '0', 'Action']\n",
            "['498', 'super 8', 'mystery,sci-fi,thriller', 'during the summer of 1979, a group of friends witness a train crash and investigate subsequent unexplained events in their small town.', 'j.j. abrams', 'elle fanning, aj michalka, kyle chandler, joel courtney', '2011', '112', '7.1', '298913', '126.98', '72', '1', 'Mystery']\n",
            "['499', 'law abiding citizen', 'crime,drama,thriller', \"a frustrated man decides to take justice into his own hands after a plea bargain sets one of his family's killers free. he targets not only the killer but also the district attorney and others involved in the deal.\", 'f. gary gray', 'gerard butler, jamie foxx, leslie bibb, colm meaney', '2009', '109', '7.4', '228339', '73.34', '34', '0', 'Crime']\n",
            "['500', 'up', 'animation,adventure,comedy', 'seventy-eight year old carl fredricksen travels to paradise falls in his home equipped with balloons, inadvertently taking a young stowaway.', 'pete docter', 'edward asner, jordan nagai, john ratzenberger, christopher plummer', '2009', '96', '8.3', '722203', '292.98', '88', '1', 'Animation']\n",
            "['501', 'maze runner: the scorch trials', 'action,sci-fi,thriller', 'after having escaped the maze, the gladers now face a new set of challenges on the open roads of a desolate landscape filled with unimaginable obstacles.', 'wes ball', \"dylan o'brien, kaya scodelario, thomas brodie-sangster,giancarlo esposito\", '2015', '131', '6.3', '159364', '81.69', '43', '0', 'Action']\n",
            "['502', 'carol', 'drama,romance', 'an aspiring photographer develops an intimate relationship with an older woman in 1950s new york.', 'todd haynes', 'cate blanchett, rooney mara, sarah paulson, kyle chandler', '2015', '118', '7.2', '77995', '0.25', '95', '0', 'Drama']\n",
            "['504', 'youth', 'comedy,drama,music', \"a retired orchestra conductor is on holiday with his daughter and his film director best friend in the alps when he receives an invitation from queen elizabeth ii to perform for prince philip's birthday.\", 'paolo sorrentino', 'michael caine, harvey keitel, rachel weisz, jane fonda', '2015', '124', '7.3', '52636', '2.7', '64', '0', 'Comedy']\n",
            "['507', 'savages', 'crime,drama,thriller', 'pot growers ben and chon face off against the mexican drug cartel who kidnapped their shared girlfriend.', 'oliver stone', 'aaron taylor-johnson, taylor kitsch, blake lively,benicio del toro', '2012', '131', '6.5', '107960', '47.31', '59', '0', 'Crime']\n",
            "['508', '(500) days of summer', 'comedy,drama,romance', \"an offbeat romantic comedy about a woman who doesn't believe true love exists, and the young man who falls for her.\", 'marc webb', 'zooey deschanel, joseph gordon-levitt, geoffrey arend, chloë grace moretz', '2009', '95', '7.7', '398972', '32.39', '76', '0', 'Comedy']\n",
            "['509', 'movie 43', 'comedy,romance', 'a series of interconnected short films follows a washed-up producer as he pitches insane story lines featuring some of the biggest stars in hollywood.', 'elizabeth banks', 'emma stone, stephen merchant, richard gere, liev schreiber', '2013', '94', '4.3', '83625', '8.83', '18', '0', 'Comedy']\n",
            "['510', 'gravity', 'drama,sci-fi,thriller', 'two astronauts work together to survive after an accident which leaves them alone in space.', 'alfonso cuarón', 'sandra bullock, george clooney, ed harris, orto ignatiussen', '2013', '91', '7.8', '622089', '274.08', '96', '1', 'Drama']\n",
            "['511', 'the boy in the striped pyjamas', 'drama,war', 'set during wwii, a story seen through the innocent eyes of bruno, the eight-year-old son of the commandant at a german concentration camp, whose forbidden friendship with a jewish boy on the other side of the camp fence has startling and unexpected consequences.', 'mark herman', \"asa butterfield, david thewlis, rupert friend, zac mattoon o'brien\", '2008', '94', '7.8', '144614', '9.03', '55', '0', 'Drama']\n",
            "['512', 'shooter', 'action,crime,drama', 'a marksman living in exile is coaxed back into action after learning of a plot to kill the president. ultimately double-crossed and framed for the attempt, he goes on the run to find the real killer and the reason he was set up.', 'antoine fuqua', 'mark wahlberg, michael peña, rhona mitra, danny glover', '2007', '124', '7.2', '267820', '46.98', '53', '0', 'Action']\n",
            "['513', 'the happening', 'sci-fi,thriller', 'a science teacher, his wife, and a young girl struggle to survive a plague that causes those infected to commit suicide.', 'm. night shyamalan', 'mark wahlberg, zooey deschanel, john leguizamo, ashlyn sanchez', '2008', '91', '5', '170897', '64.51', '34', '0', 'Sci-Fi']\n",
            "['514', 'bone tomahawk', 'adventure,drama,horror', 'four men set out in the wild west to rescue a group of captives from cannibalistic cave dwellers.', 's. craig zahler', 'kurt russell, patrick wilson, matthew fox, richard jenkins', '2015', '132', '7.1', '47289', '66.01', '72', '0', 'Adventure']\n",
            "['516', 'easy a', 'comedy,drama,romance', \"a clean-cut high school student relies on the school's rumor mill to advance her social and financial standing.\", 'will gluck', 'emma stone, amanda bynes, penn badgley, dan byrd', '2010', '92', '7.1', '294950', '58.4', '72', '0', 'Comedy']\n",
            "['517', 'exodus: gods and kings', 'action,adventure,drama', 'the defiant leader moses rises up against the egyptian pharaoh ramses, setting 600,000 slaves on a monumental journey of escape from egypt and its terrifying cycle of deadly plagues.', 'ridley scott', 'christian bale, joel edgerton, ben kingsley, sigourney weaver', '2014', '150', '6', '137299', '65.01', '52', '0', 'Action']\n",
            "['518', 'chappie', 'action,crime,drama', 'in the near future, crime is patrolled by a mechanized police force. when one police droid, chappie, is stolen and given new programming, he becomes the first robot with the ability to think and feel for himself.', 'neill blomkamp', 'sharlto copley, dev patel, hugh jackman,sigourney weaver', '2015', '120', '6.9', '188769', '31.57', '41', '0', 'Action']\n",
            "['519', 'the hobbit: the desolation of smaug', 'adventure,fantasy', 'the dwarves, along with bilbo baggins and gandalf the grey, continue their quest to reclaim erebor, their homeland, from smaug. bilbo baggins is in possession of a mysterious and magical ring.', 'peter jackson', 'ian mckellen, martin freeman, richard armitage,ken stott', '2013', '161', '7.9', '513744', '258.36', '66', '1', 'Adventure']\n",
            "['520', 'half of a yellow sun', 'drama,romance', 'sisters olanna and kainene return home to 1960s nigeria, where they soon diverge on different paths. as civil war breaks out, political events loom larger than their differences as they join the fight to establish an independent republic.', 'biyi bandele', 'chiwetel ejiofor, thandie newton, anika noni rose,joseph mawle', '2013', '111', '6.2', '1356', '0.05', '51', '0', 'Drama']\n",
            "['521', 'anthropoid', 'biography,history,thriller', \"based on the extraordinary true story of operation anthropoid, the wwii mission to assassinate ss general reinhard heydrich, the main architect behind the final solution and the reich's third in command after hitler and himmler.\", 'sean ellis', 'jamie dornan, cillian murphy, brian caspe, karel hermánek jr.', '2016', '120', '7.2', '24100', '2.96', '59', '0', 'Biography']\n",
            "['522', 'the counselor', 'crime,drama,thriller', 'a lawyer finds himself in over his head when he gets involved in drug trafficking.', 'ridley scott', 'michael fassbender, penélope cruz, cameron diaz,javier bardem', '2013', '117', '5.3', '84927', '16.97', '48', '0', 'Crime']\n",
            "['523', 'viking', 'action,drama,history', 'kievan rus, late 10th century. after the death of his father, the young viking prince vladimir of novgorod is forced into exile across the frozen sea.', 'andrey kravchuk', 'anton adasinsky, aleksandr armer, vilen babichev, rostislav bershauer', '2016', '133', '4.7', '1830', '23.05', '57', '0', 'Action']\n",
            "['525', 'trust', 'crime,drama,thriller', 'a teenage girl is targeted by an online sexual predator.', 'david schwimmer', 'clive owen, catherine keener, liana liberato,jason clarke', '2010', '106', '7', '36043', '0.06', '60', '0', 'Crime']\n",
            "['526', 'birth of the dragon', 'action,biography,drama', 'young, up-and-coming martial artist, bruce lee, challenges legendary kung fu master wong jack man to a no-holds-barred fight in northern california.', 'george nolfi', 'billy magnussen, terry chen, teresa navarro,vanessa ross', '2016', '103', '3.9', '552', '93.05', '61', '0', 'Action']\n",
            "['528', 'the green inferno', 'adventure,horror', 'a group of student activists travels to the amazon to save the rain forest and soon discover that they are not alone, and that no good deed goes unpunished.', 'eli roth', 'lorenza izzo, ariel levy, aaron burns, kirby bliss blanton', '2013', '100', '5.4', '26461', '7.19', '38', '0', 'Adventure']\n",
            "['529', 'godzilla', 'action,adventure,sci-fi', 'the world is beset by the appearance of monstrous creatures, but one of them may be the only one who can save humanity.', 'gareth edwards', 'aaron taylor-johnson, elizabeth olsen, bryan cranston, ken watanabe', '2014', '123', '6.4', '318058', '200.66', '62', '0', 'Action']\n",
            "['530', 'the bourne legacy', 'action,adventure,mystery', \"an expansion of the universe from robert ludlum's novels, centered on a new hero whose stakes have been triggered by the events of the previous three films.\", 'tony gilroy', 'jeremy renner, rachel weisz, edward norton, scott glenn', '2012', '135', '6.7', '245374', '113.17', '61', '0', 'Action']\n",
            "['531', 'a good year', 'comedy,drama,romance', \"a british investment broker inherits his uncle's chateau and vineyard in provence, where he spent much of his childhood. he discovers a new laid-back lifestyle as he tries to renovate the estate to be sold.\", 'ridley scott', 'russell crowe, abbie cornish, albert finney, marion cotillard', '2006', '117', '6.9', '74674', '7.46', '47', '0', 'Comedy']\n",
            "['532', 'friend request', 'horror,thriller', 'when a college student unfriends a mysterious girl online, she finds herself fighting a demonic presence that wants to make her lonely by killing her closest friends.', 'simon verhoeven', 'alycia debnam-carey, william moseley, connor paolo, brit morgan', '2016', '92', '5.4', '12758', '64.03', '59', '0', 'Horror']\n",
            "['534', 'lucy', 'action,sci-fi,thriller', 'a woman, accidentally caught in a dark deal, turns the tables on her captors and transforms into a merciless warrior evolved beyond human logic.', 'luc besson', 'scarlett johansson, morgan freeman, min-sik choi,amr waked', '2014', '89', '6.4', '352698', '126.55', '61', '0', 'Action']\n",
            "['535', 'a quiet passion', 'biography,drama', 'the story of american poet emily dickinson from her early days as a young schoolgirl to her later years as a reclusive, unrecognized artist.', 'terence davies', 'cynthia nixon, jennifer ehle, duncan duff, keith carradine', '2016', '125', '7.2', '1024', '1.08', '77', '0', 'Biography']\n",
            "['536', 'need for speed', 'action,crime,drama', 'fresh from prison, a street racer who was framed by a wealthy business associate joins a cross country race with revenge in mind. his ex-partner, learning of the plan, places a massive bounty on his head as the race begins.', 'scott waugh', 'aaron paul, dominic cooper, imogen poots, scott mescudi', '2014', '132', '6.5', '143389', '43.57', '39', '0', 'Action']\n",
            "['537', 'jack reacher', 'action,crime,mystery', 'a homicide investigator digs deeper into a case involving a trained military sniper who shot five random victims.', 'christopher mcquarrie', 'tom cruise, rosamund pike, richard jenkins, werner herzog', '2012', '130', '7', '250811', '58.68', '50', '0', 'Action']\n",
            "['538', 'the do-over', 'action,adventure,comedy', \"two down-on-their-luck guys decide to fake their own deaths and start over with new identities, only to find the people they're pretending to be are in even deeper trouble.\", 'steven brill', 'adam sandler, david spade, paula patton, kathryn hahn', '2016', '108', '5.7', '24761', '0.54', '22', '0', 'Action']\n",
            "['541', 'the ghost writer', 'mystery,thriller', 'a ghostwriter hired to complete the memoirs of a former british prime minister uncovers secrets that put his own life in jeopardy.', 'roman polanski', 'ewan mcgregor, pierce brosnan, olivia williams,jon bernthal', '2010', '128', '7.2', '137964', '15.52', '77', '0', 'Mystery']\n",
            "['542', 'limitless', 'mystery,sci-fi,thriller', 'with the help of a mysterious pill that enables the user to access 100 percent of his brain abilities, a struggling writer becomes a financial wizard, but it also puts him in a new world with lots of dangers.', 'neil burger', 'bradley cooper, anna friel, abbie cornish, robert de niro', '2011', '105', '7.4', '444417', '79.24', '59', '0', 'Mystery']\n",
            "['546', 'midnight special', 'drama,mystery,sci-fi', \"a father and son go on the run, pursued by the government and a cult drawn to the child's special powers.\", 'jeff nichols', 'michael shannon, joel edgerton, kirsten dunst, adam driver', '2016', '112', '6.7', '54787', '3.71', '76', '0', 'Drama']\n",
            "['547', \"don't think twice\", 'comedy,drama', 'when a member of a popular new york city improv troupe gets a huge break, the rest of the group - all best friends - start to realize that not everyone is going to make it after all.', 'mike birbiglia', 'keegan-michael key, gillian jacobs, mike birbiglia,chris gethard', '2016', '92', '6.8', '10485', '4.42', '83', '0', 'Comedy']\n",
            "['548', 'alice in wonderland', 'adventure,family,fantasy', \"nineteen-year-old alice returns to the magical world from her childhood adventure, where she reunites with her old friends and learns of her true destiny: to end the red queen's reign of terror.\", 'tim burton', 'mia wasikowska, johnny depp, helena bonham carter,anne hathaway', '2010', '108', '6.5', '324898', '334.19', '53', '0', 'Adventure']\n",
            "['549', 'chuck', 'biography,drama,sport', 'a drama inspired by the life of heavyweight boxer chuck wepner.', 'philippe falardeau', 'elisabeth moss, naomi watts, ron perlman, liev schreiber', '2016', '98', '6.8', '391', '0.11', '68', '0', 'Biography']\n",
            "['551', 'the break-up', 'comedy,drama,romance', \"in a bid to keep their luxurious condo from their significant other, a couple's break-up proceeds to get uglier and nastier by the moment.\", 'peyton reed', 'jennifer aniston, vince vaughn, jon favreau, joey lauren adams', '2006', '106', '5.8', '106381', '118.68', '45', '0', 'Comedy']\n",
            "['552', 'loving', 'biography,drama,romance', \"the story of richard and mildred loving, a couple whose arrest for interracial marriage in 1960s virginia began a legal battle that would end with the supreme court's historic 1967 decision.\", 'jeff nichols', 'ruth negga, joel edgerton, will dalton, dean mumford', '2016', '123', '7.1', '17141', '7.7', '79', '0', 'Biography']\n",
            "['553', 'fantastic four', 'action,adventure,sci-fi', 'four young outsiders teleport to an alternate and dangerous universe which alters their physical form in shocking ways. the four must learn to harness their new abilities and work together to save earth from a former friend turned enemy.', 'josh trank', 'miles teller, kate mara, michael b. jordan, jamie bell', '2015', '100', '4.3', '121847', '56.11', '27', '0', 'Action']\n",
            "['556', 'the boy next door', 'mystery,thriller', 'a woman, separated from her unfaithful husband, falls for a younger man who has moved in next door, but their torrid affair soon takes a dangerous turn.', 'rob cohen', 'jennifer lopez, ryan guzman, kristin chenoweth, john corbett', '2015', '91', '4.6', '30180', '35.39', '30', '0', 'Mystery']\n",
            "['557', 'the gift', 'mystery,thriller', \"a young married couple's lives are thrown into a harrowing tailspin when an acquaintance from the husband's past brings mysterious gifts and a horrifying secret to light after more than 20 years.\", 'joel edgerton', 'jason bateman, rebecca hall, joel edgerton, allison tolman', '2015', '108', '7.1', '96688', '43.77', '77', '0', 'Mystery']\n",
            "['558', 'dracula untold', 'action,drama,fantasy', 'as his kingdom is being threatened by the turks, young prince vlad tepes must become a monster feared by his own people in order to obtain the power needed to protect his own family, and the families of his kingdom.', 'gary shore', 'luke evans, dominic cooper, sarah gadon, art parkinson', '2014', '92', '6.3', '148504', '55.94', '40', '0', 'Action']\n",
            "['559', 'in the heart of the sea', 'action,adventure,biography', \"a recounting of a new england whaling ship's sinking by a giant whale in 1820, an experience that later inspired the great novel moby-dick.\", 'ron howard', 'chris hemsworth, cillian murphy, brendan gleeson,ben whishaw', '2015', '122', '6.9', '90372', '24.99', '47', '0', 'Action']\n",
            "['560', 'idiocracy', 'adventure,comedy,sci-fi', 'private joe bauers, the definition of \"average american\", is selected by the pentagon to be the guinea pig for a top-secret hibernation program. forgotten, he awakes five centuries in the future. he discovers a society so incredibly dumbed down that he\\'s easily the most intelligent person alive.', 'mike judge', 'luke wilson, maya rudolph, dax shepard, terry crews', '2006', '84', '6.6', '115355', '0.44', '66', '0', 'Adventure']\n",
            "['561', 'the expendables', 'action,adventure,thriller', 'a cia operative hires a team of mercenaries to eliminate a latin dictator and a renegade cia agent.', 'sylvester stallone', 'sylvester stallone, jason statham, jet li, dolph lundgren', '2010', '103', '6.5', '283282', '102.98', '45', '0', 'Action']\n",
            "['562', 'evil dead', 'fantasy,horror', 'five friends head to a remote cabin, where the discovery of a book of the dead leads them to unwittingly summon up demons living in the nearby woods.', 'fede alvarez', 'jane levy, shiloh fernandez, jessica lucas, lou taylor pucci', '2013', '91', '6.5', '133113', '54.24', '57', '0', 'Fantasy']\n",
            "['563', 'sinister', 'horror,mystery', 'washed-up true-crime writer ellison oswalt finds a box of super 8 home movies that suggest the murder he is currently researching is the work of a serial killer whose work dates back to the 1960s.', 'scott derrickson', 'ethan hawke, juliet rylance, james ransone,fred dalton thompson', '2012', '110', '6.8', '171169', '48.06', '53', '0', 'Horror']\n",
            "['564', 'wreck-it ralph', 'animation,adventure,comedy', 'a video game villain wants to be a hero and sets out to fulfill his dream, but his quest brings havoc to the whole arcade where he lives.', 'rich moore', 'john c. reilly, jack mcbrayer, jane lynch, sarah silverman', '2012', '101', '7.8', '290559', '189.41', '72', '1', 'Animation']\n",
            "['565', 'snow white and the huntsman', 'action,adventure,drama', 'in a twist to the fairy tale, the huntsman ordered to take snow white into the woods to be killed winds up becoming her protector and mentor in a quest to vanquish the evil queen.', 'rupert sanders', 'kristen stewart, chris hemsworth, charlize theron, sam claflin', '2012', '127', '6.1', '239772', '155.11', '57', '0', 'Action']\n",
            "['566', 'pan', 'adventure,family,fantasy', '12-year-old orphan peter is spirited away to the magical world of neverland, where he finds both fun and danger, and ultimately discovers his destiny -- to become the hero who will be forever known as peter pan.', 'joe wright', 'levi miller, hugh jackman, garrett hedlund, rooney mara', '2015', '111', '5.8', '47804', '34.96', '36', '0', 'Adventure']\n",
            "['567', 'transformers: dark of the moon', 'action,adventure,sci-fi', 'the autobots learn of a cybertronian spacecraft hidden on the moon, and race against the decepticons to reach it and to learn its secrets.', 'michael bay', 'shia labeouf, rosie huntington-whiteley, tyrese gibson, josh duhamel', '2011', '154', '6.3', '338369', '352.36', '42', '0', 'Action']\n",
            "['568', 'juno', 'comedy,drama', 'faced with an unplanned pregnancy, an offbeat young woman makes an unusual decision regarding her unborn child.', 'jason reitman', 'ellen page, michael cera, jennifer garner, jason bateman', '2007', '96', '7.5', '432461', '143.49', '81', '1', 'Comedy']\n",
            "['569', 'a hologram for the king', 'comedy,drama', \"a failed american sales rep looks to recoup his losses by traveling to saudi arabia and selling his company's product to a wealthy monarch.\", 'tom tykwer', 'tom hanks, sarita choudhury, ben whishaw,alexander black', '2016', '98', '6.1', '26521', '4.2', '58', '0', 'Comedy']\n",
            "['570', 'money monster', 'crime,drama,thriller', 'financial tv host lee gates and his producer patty are put in an extreme situation when an irate investor takes over their studio.', 'jodie foster', \"george clooney, julia roberts, jack o'connell,dominic west\", '2016', '98', '6.5', '68654', '41.01', '55', '0', 'Crime']\n",
            "['571', 'the other woman', 'comedy,romance', \"after discovering her boyfriend is married, carly soon meets the wife he's been betraying. and when yet another love affair is discovered, all three women team up to plot revenge on the three-timing s.o.b.\", 'nick cassavetes', 'cameron diaz, leslie mann, kate upton, nikolaj coster-waldau', '2014', '109', '6', '110825', '83.91', '39', '0', 'Comedy']\n",
            "['572', 'enchanted', 'animation,comedy,family', 'a young maiden in a land called andalasia, who is prepared to be wed, is sent away to new york city by an evil queen, where she falls in love with a lawyer.', 'kevin lima', 'amy adams, susan sarandon, james marsden, patrick dempsey', '2007', '107', '7.1', '150353', '127.71', '75', '0', 'Animation']\n",
            "['573', 'the intern', 'comedy,drama', \"70-year-old widower ben whittaker has discovered that retirement isn't all it's cracked up to be. seizing an opportunity to get back in the game, he becomes a senior intern at an online fashion site, founded and run by jules ostin.\", 'nancy meyers', 'robert de niro, anne hathaway, rene russo,anders holm', '2015', '121', '7.1', '159582', '75.27', '51', '0', 'Comedy']\n",
            "['574', 'little miss sunshine', 'comedy,drama', 'a family determined to get their young daughter into the finals of a beauty pageant take a cross-country trip in their vw bus.', 'jonathan dayton', 'steve carell, toni collette, greg kinnear, abigail breslin', '2006', '101', '7.8', '374044', '59.89', '80', '0', 'Comedy']\n",
            "['575', 'bleed for this', 'biography,drama,sport', \"the inspirational story of world champion boxer vinny pazienza who, after a near fatal car crash which left him not knowing if he'd ever walk again, made one of sport's most incredible comebacks.\", 'ben younger', 'miles teller, aaron eckhart, katey sagal, ciarán hinds', '2016', '117', '6.8', '11900', '4.85', '62', '0', 'Biography']\n",
            "['576', 'clash of the titans', 'action,adventure,fantasy', 'perseus demigod, son of zeus, battles the minions of the underworld to stop them from conquering heaven and earth.', 'louis leterrier', 'sam worthington, liam neeson, ralph fiennes,jason flemyng', '2010', '106', '5.8', '238206', '163.19', '39', '0', 'Action']\n",
            "['577', 'the finest hours', 'action,drama,history', 'the coast guard makes a daring rescue attempt off the coast of cape cod after a pair of oil tankers are destroyed during a blizzard in 1952.', 'craig gillespie', 'chris pine, casey affleck, ben foster, eric bana', '2016', '117', '6.8', '44425', '27.55', '58', '0', 'Action']\n",
            "['578', 'tron', 'action,adventure,sci-fi', \"the son of a virtual world designer goes looking for his father and ends up inside the digital world that his father designed. he meets his father's corrupted creation and a unique ally who was born inside the digital world.\", 'joseph kosinski', 'jeff bridges, garrett hedlund, olivia wilde, bruce boxleitner', '2010', '125', '6.8', '273959', '172.05', '49', '0', 'Action']\n",
            "['579', 'the hunger games: catching fire', 'action,adventure,mystery', 'katniss everdeen and peeta mellark become targets of the capitol after their victory in the 74th hunger games sparks a rebellion in the districts of panem.', 'francis lawrence', 'jennifer lawrence, josh hutcherson, liam hemsworth, philip seymour hoffman', '2013', '146', '7.6', '525646', '424.65', '76', '1', 'Action']\n",
            "['580', 'all good things', 'crime,drama,mystery', 'mr. david marks was suspected but never tried for killing his wife katie who disappeared in 1982, but the truth is eventually revealed.', 'andrew jarecki', 'ryan gosling, kirsten dunst, frank langella, lily rabe', '2010', '101', '6.3', '44158', '0.58', '57', '0', 'Crime']\n",
            "['581', 'kickboxer: vengeance', 'action', 'a kick boxer is out to avenge his brother.', 'john stockwell', 'dave bautista, alain moussi, gina carano, jean-claude van damme', '2016', '90', '4.9', '6809', '131.56', '37', '0', 'Action']\n",
            "['583', 'sex tape', 'comedy,romance', 'a married couple wake up to discover that the sex tape they made the evening before has gone missing, leading to a frantic search for its whereabouts.', 'jake kasdan', 'jason segel, cameron diaz, rob corddry, ellie kemper', '2014', '94', '5.1', '89885', '38.54', '36', '0', 'Comedy']\n",
            "['584', \"what to expect when you're expecting\", 'comedy,drama,romance', 'follows the lives of five interconnected couples as they experience the thrills and surprises of having a baby, and realize that no matter what you plan for, life does not always deliver what is expected.', 'kirk jones', 'cameron diaz, matthew morrison, j. todd smith, dennis quaid', '2012', '110', '5.7', '60059', '41.1', '41', '0', 'Comedy']\n",
            "['585', 'moneyball', 'biography,drama,sport', \"oakland a's general manager billy beane's successful attempt to assemble a baseball team on a lean budget by employing computer-generated analysis to acquire new players.\", 'bennett miller', 'brad pitt, robin wright, jonah hill, philip seymour hoffman', '2011', '133', '7.6', '297395', '75.61', '87', '0', 'Biography']\n",
            "['586', 'ghost rider', 'action,fantasy,thriller', 'stunt motorcyclist johnny blaze gives up his soul to become a hellblazing vigilante, to fight against power hungry blackheart, the son of the devil himself.', 'mark steven johnson', 'nicolas cage, eva mendes, sam elliott, matt long', '2007', '114', '5.2', '190673', '115.8', '35', '0', 'Action']\n",
            "['587', 'unbroken', 'biography,drama,sport', \"after a near-fatal plane crash in wwii, olympian louis zamperini spends a harrowing 47 days in a raft with two fellow crewmen before he's caught by the japanese navy and sent to a prisoner-of-war camp.\", 'angelina jolie', \"jack o'connell, miyavi, domhnall gleeson, garrett hedlund\", '2014', '137', '7.2', '114006', '115.6', '59', '0', 'Biography']\n",
            "['588', 'immortals', 'action,drama,fantasy', 'theseus is a mortal man chosen by zeus to lead the fight against the ruthless king hyperion, who is on a rampage across greece to obtain a weapon that can destroy humanity.', 'tarsem singh', 'henry cavill, mickey rourke, john hurt, stephen dorff', '2011', '110', '6', '142900', '83.5', '46', '0', 'Action']\n",
            "['589', 'sunshine', 'adventure,sci-fi,thriller', 'a team of international astronauts are sent on a dangerous mission to reignite the dying sun with a nuclear fission bomb in 2057.', 'danny boyle', 'cillian murphy, rose byrne, chris evans, michelle yeoh', '2007', '107', '7.3', '199860', '3.68', '64', '0', 'Adventure']\n",
            "['590', 'brave', 'animation,adventure,comedy', 'determined to make her own path in life, princess merida defies a custom that brings chaos to her kingdom. granted one wish, merida must rely on her bravery and her archery skills to undo a beastly curse.', 'mark andrews', 'kelly macdonald,billy connolly, emma thompson, julie walters', '2012', '93', '7.2', '293941', '237.28', '69', '1', 'Animation']\n",
            "['591', 'män som hatar kvinnor', 'drama,mystery,thriller', 'a journalist is aided in his search for a woman who has been missing -- or dead -- for forty years by a young female hacker.', 'niels arden oplev', 'michael nyqvist, noomi rapace, ewa fröling,lena endre', '2009', '152', '7.8', '182074', '10.1', '76', '0', 'Drama']\n",
            "['592', 'adoration', 'drama,romance', \"a pair of childhood friends and neighbors fall for each other's sons.\", 'anne fontaine', 'naomi watts, robin wright, xavier samuel, james frecheville', '2013', '112', '6.2', '25208', '0.32', '37', '0', 'Drama']\n",
            "['593', 'the drop', 'crime,drama,mystery', \"bob saginowski finds himself at the center of a robbery gone awry and entwined in an investigation that digs deep into the neighborhood's past where friends, families, and foes all work together to make a living - no matter the cost.\", 'michaël r. roskam', 'tom hardy, noomi rapace, james gandolfini,matthias schoenaerts', '2014', '106', '7.1', '116118', '10.72', '69', '0', 'Crime']\n",
            "['594', \"she's the man\", 'comedy,romance,sport', \"when her brother decides to ditch for a couple weeks, viola heads over to his elite boarding school, disguised as him, and proceeds to fall for one of his soccer teammates, and soon learns she's not the only one with romantic troubles.\", 'andy fickman', 'amanda bynes, laura ramsey, channing tatum,vinnie jones', '2006', '105', '6.4', '122864', '2.34', '45', '0', 'Comedy']\n",
            "['595', \"daddy's home\", 'comedy,family', 'brad whitaker is a radio host trying to get his stepchildren to love him and call him dad. but his plans turn upside down when their biological father, dusty mayron, returns.', 'sean anders', 'will ferrell, mark wahlberg, linda cardellini, thomas haden church', '2015', '96', '6.1', '68306', '150.32', '42', '0', 'Comedy']\n",
            "['596', 'let me in', 'drama,horror,mystery', 'a bullied young boy befriends a young female vampire who lives in secrecy with her guardian.', 'matt reeves', 'kodi smit-mcphee, chloë grace moretz, richard jenkins, cara buono', '2010', '116', '7.2', '97141', '12.13', '79', '0', 'Drama']\n",
            "['597', 'never back down', 'action,drama,sport', 'a frustrated and conflicted teenager arrives at a new high school to discover an underground fight club and meet a classmate who begins to coerce him into fighting.', 'jeff wadlow', 'sean faris, djimon hounsou, amber heard, cam gigandet', '2008', '110', '6.6', '84083', '24.85', '39', '0', 'Action']\n",
            "['598', 'grimsby', 'action,adventure,comedy', 'a new assignment forces a top spy to team up with his football hooligan brother.', 'louis leterrier', 'sacha baron cohen, mark strong, rebel wilson,freddie crowder', '2016', '83', '6.2', '63408', '6.86', '44', '0', 'Action']\n",
            "['599', 'moon', 'drama,mystery,sci-fi', \"astronaut sam bell has a quintessentially personal encounter toward the end of his three-year stint on the moon, where he, working alongside his computer, gerty, sends back to earth parcels of a resource that has helped diminish our planet's power problems.\", 'duncan jones', 'sam rockwell, kevin spacey, dominique mcelligott,rosie shaw', '2009', '97', '7.9', '277123', '5.01', '67', '0', 'Drama']\n",
            "['600', 'megamind', 'animation,action,comedy', 'the supervillain megamind finally defeats his nemesis, the superhero metro man. but without a hero, he loses all purpose and must find new meaning to his life.', 'tom mcgrath', 'will ferrell, jonah hill, brad pitt, tina fey', '2010', '95', '7.3', '183926', '148.34', '63', '0', 'Animation']\n",
            "['601', 'gangster squad', 'action,crime,drama', \"it's 1949 los angeles, the city is run by gangsters and a malicious mobster, mickey cohen. determined to end the corruption, john o'mara assembles a team of cops, ready to take down the ruthless leader and restore peace to the city.\", 'ruben fleischer', 'sean penn, ryan gosling, emma stone, giovanni ribisi', '2013', '113', '6.7', '181432', '46', '40', '0', 'Action']\n",
            "['602', 'blood father', 'action,crime,drama', 'an ex-con reunites with his estranged wayward 17-year old daughter to protect her from drug dealers who are trying to kill her.', 'jean-françois richet', 'mel gibson, erin moriarty, diego luna, michael parks', '2016', '88', '6.4', '40357', '93.95', '66', '0', 'Action']\n",
            "['604', 'kung fu panda 3', 'animation,action,adventure', 'continuing his \"legendary adventures of awesomeness\", po must face two hugely epic, but different threats: one supernatural and the other a little closer to his home.', 'alessandro carloni', 'jack black, bryan cranston, dustin hoffman, angelina jolie', '2016', '95', '7.2', '89791', '143.52', '66', '0', 'Animation']\n",
            "['605', 'the rise of the krays', 'crime,drama', 'two brothers unleash a psychotic reign of terror on their journey to build an empire of unprecedented power in the british mafia.', 'zackary adler', 'matt vael, simon cotton, kevin leslie, olivia moyles', '2015', '110', '5.1', '1630', '6.53', '90', '0', 'Crime']\n",
            "['608', 'horrible bosses', 'comedy,crime', 'three friends conspire to murder their awful bosses when they realize they are standing in the way of their happiness.', 'seth gordon', 'jason bateman, charlie day, jason sudeikis, steve wiebe', '2011', '98', '6.9', '368556', '117.53', '57', '1', 'Comedy']\n",
            "['609', 'mommy', 'drama', 'a widowed single mother, raising her violent son alone, finds new hope when a mysterious neighbor inserts herself into their household.', 'xavier dolan', 'anne dorval, antoine-olivier pilon, suzanne clément,patrick huard', '2014', '139', '8.1', '33560', '3.49', '74', '0', 'Drama']\n",
            "['610', 'hellboy ii: the golden army', 'action,adventure,fantasy', 'the mythical world starts a rebellion against humanity in order to rule the earth, so hellboy and his team must save the world from the rebellious creatures.', 'guillermo del toro', 'ron perlman, selma blair, doug jones, john alexander', '2008', '120', '7', '216932', '75.75', '78', '0', 'Action']\n",
            "['611', 'beautiful creatures', 'drama,fantasy,romance', 'ethan longs to escape his small southern town. he meets a mysterious new girl, lena. together, they uncover dark secrets about their respective families, their history and their town.', 'richard lagravenese', 'alice englert, viola davis, emma thompson,alden ehrenreich', '2013', '124', '6.2', '71822', '19.45', '52', '0', 'Drama']\n",
            "['612', 'toni erdmann', 'comedy,drama', \"a practical joking father tries to reconnect with his hard working daughter by creating an outrageous alter ego and posing as her ceo's life coach.\", 'maren ade', 'sandra hüller, peter simonischek, michael wittenborn,thomas loibl', '2016', '162', '7.6', '24387', '1.48', '93', '0', 'Comedy']\n",
            "['613', 'the lovely bones', 'drama,fantasy,thriller', 'centers on a young girl who has been murdered and watches over her family - and her killer - from purgatory. she must weigh her desire for vengeance against her desire for her family to heal.', 'peter jackson', 'rachel weisz, mark wahlberg, saoirse ronan, susan sarandon', '2009', '135', '6.7', '130702', '43.98', '42', '0', 'Drama']\n",
            "['614', 'the assassination of jesse james by the coward robert ford', 'biography,crime,drama', \"robert ford, who's idolized jesse james since childhood, tries hard to join the reforming gang of the missouri outlaw, but gradually becomes resentful of the bandit leader.\", 'andrew dominik', 'brad pitt, casey affleck, sam shepard, mary-louise parker', '2007', '160', '7.5', '143564', '3.9', '68', '0', 'Biography']\n",
            "['615', 'don jon', 'comedy,drama,romance', 'a new jersey guy dedicated to his family, friends, and church, develops unrealistic expectations from watching porn and works to find happiness and intimacy with his potential true love.', 'joseph gordon-levitt', 'joseph gordon-levitt, scarlett johansson,julianne moore, tony danza', '2013', '90', '6.6', '199973', '24.48', '66', '0', 'Comedy']\n",
            "['616', 'bastille day', 'action,crime,drama', 'a young con artist and an unruly cia agent embark on an anti-terrorist mission in france.', 'james watkins', 'idris elba, richard madden, charlotte le bon, kelly reilly', '2016', '92', '6.3', '21089', '0.04', '48', '0', 'Action']\n",
            "['617', \"2307: winter's dream\", 'sci-fi', 'in 2307, a future soldier is sent on a mission to hunt down the leader of the humanoid rebellion.', 'joey curtis', 'paul sidhu, branden coles, arielle holmes, kelcey watson', '2016', '101', '4', '277', '20.76', '53', '0', 'Sci-Fi']\n",
            "['619', 'mr. right', 'action,comedy,romance', 'a girl falls for the \"perfect\" guy, who happens to have a very fatal flaw: he\\'s a hitman on the run from the crime cartels who employ him.', 'paco cabezas', 'anna kendrick, sam rockwell, tim roth, james ransone', '2015', '95', '6.3', '30053', '0.03', '52', '0', 'Action']\n",
            "['620', 'the secret life of walter mitty', 'adventure,comedy,drama', 'when his job along with that of his co-worker are threatened, walter takes action in the real world embarking on a global journey that turns into an adventure more extraordinary than anything he could have ever imagined.', 'ben stiller', 'ben stiller, kristen wiig, jon daly, kathryn hahn', '2013', '114', '7.3', '249877', '58.23', '54', '0', 'Adventure']\n",
            "['621', 'dope', 'comedy,crime,drama', \"life changes for malcolm, a geek who's surviving life in a tough neighborhood, after a chance invitation to an underground party leads him and his friends into a los angeles adventure.\", 'rick famuyiwa', 'shameik moore, tony revolori, kiersey clemons,kimberly elise', '2015', '103', '7.3', '66400', '17.47', '72', '0', 'Comedy']\n",
            "['622', 'underworld awakening', 'action,fantasy,horror', 'when human forces discover the existence of the vampire and lycan clans, a war to eradicate both species commences. the vampire warrior selene leads the battle against humankind.', 'måns mårlind', 'kate beckinsale, michael ealy, india eisley, stephen rea', '2012', '88', '6.4', '127157', '62.32', '39', '0', 'Action']\n",
            "['623', 'antichrist', 'drama,horror', 'a grieving couple retreat to their cabin in the woods, hoping to repair their broken hearts and troubled marriage. but nature takes its course and things go from bad to worse.', 'lars von trier', 'willem dafoe, charlotte gainsbourg, storm acheche sahlstrøm', '2009', '108', '6.6', '94069', '0.4', '49', '0', 'Drama']\n",
            "['624', 'friday the 13th', 'horror', 'a group of young adults discover a boarded up camp crystal lake, where they soon encounter jason voorhees and his deadly intentions.', 'marcus nispel', 'jared padalecki, amanda righetti, derek mears,danielle panabaker', '2009', '97', '5.6', '78631', '65', '34', '0', 'Horror']\n",
            "['625', 'taken 3', 'action,thriller', 'ex-government operative bryan mills is accused of a ruthless murder he never committed or witnessed. as he is tracked and pursued, mills brings out his particular set of skills to find the true killer and clear his name.', 'olivier megaton', 'liam neeson, forest whitaker, maggie grace,famke janssen', '2014', '109', '6', '144715', '89.25', '26', '0', 'Action']\n",
            "['626', 'total recall', 'action,adventure,mystery', 'a factory worker, douglas quaid, begins to suspect that he is a spy after visiting rekall - a company that provides its clients with implanted fake memories of a life they would like to have led - goes wrong and he finds himself on the run.', 'len wiseman', 'colin farrell, bokeem woodbine, bryan cranston,kate beckinsale', '2012', '118', '6.3', '210965', '58.88', '43', '0', 'Action']\n",
            "['627', 'x-men: the last stand', 'action,adventure,fantasy', \"when a cure is found to treat mutations, lines are drawn amongst the x-men, led by professor charles xavier, and the brotherhood, a band of powerful mutants organized under xavier's former ally, magneto.\", 'brett ratner', 'patrick stewart, hugh jackman, halle berry, famke janssen', '2006', '104', '6.7', '406540', '234.36', '58', '0', 'Action']\n",
            "['630', 'night at the museum: secret of the tomb', 'adventure,comedy,family', 'larry spans the globe, uniting favorite and new characters while embarking on an epic quest to save the magic before it is gone forever.', 'shawn levy', 'ben stiller, robin williams, owen wilson, dick van dyke', '2014', '98', '6.2', '74886', '113.73', '47', '0', 'Adventure']\n",
            "['631', 'love & other drugs', 'comedy,drama,romance', \"a young woman suffering from parkinson's befriends a drug rep working for pfizer in 1990s pittsburgh.\", 'edward zwick', 'jake gyllenhaal, anne hathaway, judy greer, oliver platt', '2010', '112', '6.7', '151519', '32.36', '55', '0', 'Comedy']\n",
            "['632', 'the interview', 'comedy', 'dave skylark and his producer aaron rapoport run the celebrity tabloid show \"skylark tonight\". when they land an interview with a surprise fan, north korean dictator kim jong-un, they are recruited by the cia to turn their trip to pyongyang into an assassination mission.', 'evan goldberg', 'james franco, seth rogen, randall park, lizzy caplan', '2014', '112', '6.6', '261536', '6.11', '52', '0', 'Comedy']\n",
            "['633', 'the host', 'comedy,drama,horror', \"a monster emerges from seoul's han river and focuses its attention on attacking people. one victim's loving family does what it can to rescue her from its clutches.\", 'bong joon ho', 'kang-ho song, hee-bong byun, hae-il park, doona bae', '2006', '120', '7', '73491', '2.2', '85', '0', 'Comedy']\n",
            "['636', 'knocked up', 'comedy,romance', \"for fun-loving party animal ben stone, the last thing he ever expected was for his one-night stand to show up on his doorstep eight weeks later to tell him she's pregnant with his child.\", 'judd apatow', 'seth rogen, katherine heigl, paul rudd, leslie mann', '2007', '129', '7', '309398', '148.73', '85', '1', 'Comedy']\n",
            "['637', 'source code', 'mystery,romance,sci-fi', \"a soldier wakes up in someone else's body and discovers he's part of an experimental government program to find the bomber of a commuter train. a mission he has only 8 minutes to complete.\", 'duncan jones', 'jake gyllenhaal, michelle monaghan, vera farmiga,jeffrey wright', '2011', '93', '7.5', '404884', '54.7', '74', '0', 'Mystery']\n",
            "['638', 'lawless', 'crime,drama', 'set in depression-era franklin county, virginia, a trio of bootlegging brothers are threatened by a new special deputy and other authorities angling for a cut of their profits.', 'john hillcoat', 'tom hardy, shia labeouf, guy pearce, jason clarke', '2012', '116', '7.3', '195360', '37.4', '58', '0', 'Crime']\n",
            "['639', 'unfriended', 'drama,horror,mystery', 'a group of online chat room friends find themselves haunted by a mysterious, supernatural force using the account of their dead friend.', 'levan gabriadze', 'heather sossaman, matthew bohrer, courtney halverson, shelley hennig', '2014', '83', '5.6', '50402', '31.54', '59', '0', 'Drama']\n",
            "['640', 'american reunion', 'comedy', 'jim, michelle, stifler, and their friends reunite in east great falls, michigan for their high school reunion.', 'jon hurwitz', 'jason biggs, alyson hannigan,seann william scott, chris klein', '2012', '113', '6.7', '178471', '56.72', '49', '0', 'Comedy']\n",
            "['641', 'the pursuit of happyness', 'biography,drama', \"a struggling salesman takes custody of his son as he's poised to begin a life-changing professional career.\", 'gabriele muccino', 'will smith, thandie newton, jaden smith, brian howe', '2006', '117', '8', '361105', '162.59', '64', '1', 'Biography']\n",
            "['642', 'relatos salvajes', 'comedy,drama,thriller', 'six short stories that explore the extremities of human behavior involving people in distress.', 'damián szifron', 'darío grandinetti, maría marull, mónica villa, rita cortese', '2014', '122', '8.1', '110100', '3.08', '77', '0', 'Comedy']\n",
            "['644', 'frantz', 'drama,history,war', \"in the aftermath of wwi, a young german who grieves the death of her fiancé in france meets a mysterious frenchman who visits the fiancé's grave to lay flowers.\", 'françois ozon', 'pierre niney, paula beer, ernst stötzner, marie gruber', '2016', '113', '7.5', '4304', '0.86', '73', '0', 'Drama']\n",
            "['647', 'burnt', 'comedy,drama', 'adam jones (bradley cooper) is a chef who destroyed his career with drugs and diva behavior. he cleans up and returns to london, determined to redeem himself by spearheading a top restaurant that can gain three michelin stars.', 'john wells', 'bradley cooper, sienna miller, daniel brühl, riccardo scamarcio', '2015', '101', '6.6', '76469', '13.65', '42', '0', 'Comedy']\n",
            "['650', 'vampire academy', 'action,comedy,fantasy', 'rose hathaway is a dhampir, half human-half vampire, a guardian of the moroi, peaceful, mortal vampires living discreetly within our world. her calling is to protect the moroi from bloodthirsty, immortal vampires, the strigoi.', 'mark waters', 'zoey deutch, lucy fry, danila kozlovsky, gabriel byrne', '2014', '104', '5.6', '44111', '7.79', '30', '0', 'Action']\n",
            "['651', 'sweeney todd: the demon barber of fleet street', 'drama,horror,musical', 'the infamous story of benjamin barker, a.k.a. sweeney todd, who sets up a barber shop down in london which is the basis for a sinister partnership with his fellow tenant, mrs. lovett. based on the hit broadway musical.', 'tim burton', 'johnny depp, helena bonham carter, alan rickman,timothy spall', '2007', '116', '7.4', '296289', '52.88', '83', '0', 'Drama']\n",
            "['653', 'insidious', 'horror,mystery,thriller', 'a family looks to prevent evil spirits from trapping their comatose child in a realm called the further.', 'james wan', 'patrick wilson, rose byrne, ty simpkins, lin shaye', '2010', '103', '6.8', '219916', '53.99', '52', '0', 'Horror']\n",
            "['654', 'popstar: never stop never stopping', 'comedy,music', 'when it becomes clear that his solo album is a failure, a former boy band member does everything in his power to maintain his celebrity status.', 'akiva schaffer', 'andy samberg, jorma taccone,akiva schaffer, sarah silverman', '2016', '87', '6.7', '30875', '9.39', '68', '0', 'Comedy']\n",
            "['656', 'public enemies', 'biography,crime,drama', 'the feds try to take down notorious american gangsters john dillinger, baby face nelson and pretty boy floyd during a booming crime wave in the 1930s.', 'michael mann', 'christian bale, johnny depp, christian stolte, jason clarke', '2009', '140', '7', '240323', '97.03', '70', '1', 'Biography']\n",
            "['657', 'boyhood', 'drama', 'the life of mason, from early childhood to his arrival at college.', 'richard linklater', 'ellar coltrane, patricia arquette, ethan hawke,elijah smith', '2014', '165', '7.9', '286722', '25.36', '100', '0', 'Drama']\n",
            "['658', 'teenage mutant ninja turtles', 'action,adventure,comedy', 'when a kingpin threatens new york city, a group of mutated turtle warriors must emerge from the shadows to protect their home.', 'jonathan liebesman', 'megan fox, will arnett, william fichtner, noel fisher', '2014', '101', '5.9', '178527', '190.87', '31', '0', 'Action']\n",
            "['659', 'eastern promises', 'crime,drama,mystery', 'a russian teenager living in london who dies during childbirth leaves clues to a midwife in her journal that could tie her child to a rape involving a violent russian mob family.', 'david cronenberg', 'naomi watts, viggo mortensen, armin mueller-stahl, josef altin', '2007', '100', '7.7', '198006', '17.11', '82', '0', 'Crime']\n",
            "['660', 'the daughter', 'drama', 'the story follows a man who returns home to discover a long-buried family secret, and whose attempts to put things right threaten the lives of those he left home years before.', 'simon stone', 'geoffrey rush, nicholas hope, sam neill, ewen leslie', '2015', '96', '6.7', '2798', '0.03', '62', '0', 'Drama']\n",
            "['661', 'pineapple express', 'action,comedy,crime', \"a process server and his marijuana dealer wind up on the run from hitmen and a corrupt police officer after he witnesses his dealer's boss murder a competitor while trying to serve papers on him.\", 'david gordon green', 'seth rogen, james franco, gary cole, danny mcbride', '2008', '111', '7', '267872', '87.34', '64', '1', 'Action']\n",
            "['662', 'the first time', 'comedy,drama,romance', 'a shy senior and a down-to-earth junior fall in love over one weekend.', 'jon kasdan', \"dylan o'brien, britt robertson, victoria justice, james frecheville\", '2012', '95', '6.9', '54027', '0.02', '55', '0', 'Comedy']\n",
            "['663', 'gone baby gone', 'crime,drama,mystery', \"two boston area detectives investigate a little girl's kidnapping, which ultimately turns into a crisis both professionally and personally.\", 'ben affleck', 'morgan freeman, ed harris, casey affleck, michelle monaghan', '2007', '114', '7.7', '206707', '20.3', '72', '0', 'Crime']\n",
            "['664', 'the heat', 'action,comedy,crime', 'an uptight fbi special agent is paired with a foul-mouthed boston cop to take down a ruthless drug lord.', 'paul feig', 'sandra bullock, michael mcdonald, melissa mccarthy,demián bichir', '2013', '117', '6.6', '140151', '159.58', '60', '0', 'Action']\n",
            "['665', \"l'avenir\", 'drama', 'a philosophy teacher soldiers through the death of her mother, getting fired from her job, and dealing with a husband who is cheating on her.', 'mia hansen-løve', 'isabelle huppert, andré marcon, roman kolinka,edith scob', '2016', '102', '7.1', '5796', '0.28', '88', '0', 'Drama']\n",
            "['666', 'anna karenina', 'drama,romance', 'in late-19th-century russian high society, st. petersburg aristocrat anna karenina enters into a life-changing affair with the dashing count alexei vronsky.', 'joe wright', 'keira knightley, jude law, aaron taylor-johnson,matthew macfadyen', '2012', '129', '6.6', '75291', '12.8', '63', '0', 'Drama']\n",
            "['667', 'regression', 'crime,drama,mystery', 'a detective and a psychoanalyst uncover evidence of a satanic cult while investigating the rape of a young woman.', 'alejandro amenábar', 'ethan hawke, david thewlis, emma watson,dale dickey', '2015', '106', '5.7', '26320', '0.05', '32', '0', 'Crime']\n",
            "['668', 'ted 2', 'adventure,comedy,romance', \"newlywed couple ted and tami-lynn want to have a baby, but in order to qualify to be a parent, ted will have to prove he's a person in a court of law.\", 'seth macfarlane', 'mark wahlberg, seth macfarlane, amanda seyfried, jessica barth', '2015', '115', '6.3', '136323', '81.26', '48', '0', 'Adventure']\n",
            "['669', 'pain & gain', 'comedy,crime,drama', 'a trio of bodybuilders in florida get caught up in an extortion ring and a kidnapping scheme that goes terribly wrong.', 'michael bay', 'mark wahlberg, dwayne johnson, anthony mackie,tony shalhoub', '2013', '129', '6.5', '168875', '49.87', '45', '0', 'Comedy']\n",
            "['670', 'blood diamond', 'adventure,drama,thriller', 'a fisherman, a smuggler, and a syndicate of businessmen match wits over the possession of a priceless diamond.', 'edward zwick', 'leonardo dicaprio, djimon hounsou, jennifer connelly, kagiso kuypers', '2006', '143', '8', '422014', '57.37', '64', '0', 'Adventure']\n",
            "['672', 'child 44', 'crime,drama,thriller', 'a disgraced member of the russian military police investigates a series of child murders during the stalin-era soviet union.', 'daniel espinosa', 'tom hardy, gary oldman, noomi rapace, joel kinnaman', '2015', '137', '6.5', '47703', '1.21', '41', '0', 'Crime']\n",
            "['673', 'the hurt locker', 'drama,history,thriller', 'during the iraq war, a sergeant recently assigned to an army bomb squad is put at odds with his squad mates due to his maverick way of handling his work.', 'kathryn bigelow', 'jeremy renner, anthony mackie, brian geraghty,guy pearce', '2008', '131', '7.6', '352023', '15.7', '94', '0', 'Drama']\n",
            "['674', 'green lantern', 'action,adventure,sci-fi', 'reckless test pilot hal jordan is granted an alien ring that bestows him with otherworldly powers that inducts him into an intergalactic police force, the green lantern corps.', 'martin campbell', 'ryan reynolds, blake lively, peter sarsgaard,mark strong', '2011', '114', '5.6', '231907', '116.59', '39', '0', 'Action']\n",
            "['676', 'the mist', 'horror', 'a freak storm unleashes a species of bloodthirsty creatures on a small town, where a small band of citizens hole up in a supermarket and fight for their lives.', 'frank darabont', 'thomas jane, marcia gay harden, laurie holden,andre braugher', '2007', '126', '7.2', '233346', '25.59', '58', '0', 'Horror']\n",
            "['677', 'escape plan', 'action,crime,mystery', \"when a structural-security authority finds himself set up and incarcerated in the world's most secret and secure prison, he has to use his skills to escape with help from the inside.\", 'mikael håfström', \"sylvester stallone, arnold schwarzenegger, 50 cent, vincent d'onofrio\", '2013', '115', '6.7', '188004', '25.12', '49', '0', 'Action']\n",
            "['678', 'love, rosie', 'comedy,romance', \"rosie and alex have been best friends since they were 5, so they couldn't possibly be right for one another...or could they? when it comes to love, life and making the right choices, these two are their own worst enemies.\", 'christian ditter', 'lily collins, sam claflin, christian cooke, jaime winstone', '2014', '102', '7.2', '80415', '0.01', '44', '0', 'Comedy']\n",
            "['679', 'the duff', 'comedy', 'a high school senior instigates a social pecking order revolution after finding out that she has been labeled the duff - designated ugly fat friend - by her prettier, more popular counterparts.', 'ari sandel', 'mae whitman, bella thorne, robbie amell, allison janney', '2015', '101', '6.5', '57874', '34.02', '56', '0', 'Comedy']\n",
            "['680', 'the age of shadows', 'action,drama,thriller', \"japanese agents close in as members of the korean resistance plan an attack in 1920's seoul.\", 'jee-woon kim', 'byung-hun lee, yoo gong, kang-ho song, ji-min han', '2016', '140', '7.2', '2403', '0.54', '78', '0', 'Action']\n",
            "['681', 'the hunger games: mockingjay - part 1', 'action,adventure,sci-fi', 'katniss everdeen is in district 13 after she shatters the games forever. under the leadership of president coin and the advice of her trusted friends, katniss spreads her wings as she fights to save peeta and a nation moved by her courage.', 'francis lawrence', 'jennifer lawrence, josh hutcherson, liam hemsworth, woody harrelson', '2014', '123', '6.7', '331902', '337.1', '64', '0', 'Action']\n",
            "['682', 'we need to talk about kevin', 'drama,mystery,thriller', \"kevin's mother struggles to love her strange child, despite the increasingly vicious things he says and does as he grows up. but kevin is just getting started, and his final act will be beyond anything anyone imagined.\", 'lynne ramsay', 'tilda swinton, john c. reilly, ezra miller, jasper newell', '2011', '112', '7.5', '104953', '1.74', '68', '0', 'Drama']\n",
            "['683', 'love & friendship', 'comedy,drama,romance', \"lady susan vernon takes up temporary residence at her in-laws' estate and, while there, is determined to be a matchmaker for her daughter frederica -- and herself too, naturally.\", 'whit stillman', 'kate beckinsale, chloë sevigny, xavier samuel,emma greenwell', '2016', '90', '6.5', '16164', '14.01', '87', '0', 'Comedy']\n",
            "['684', 'the mortal instruments: city of bones', 'action,fantasy,horror', 'when her mother disappears, clary fray learns that she descends from a line of warriors who protect our world from demons. she joins forces with others like her and heads into a dangerous alternate new york called the shadow world.', 'harald zwart', 'lily collins, jamie campbell bower, robert sheehan,jemima west', '2013', '130', '5.9', '112313', '31.17', '33', '0', 'Action']\n",
            "['685', 'seven pounds', 'drama,romance', 'a man with a fateful secret embarks on an extraordinary journey of redemption by forever changing the lives of seven strangers.', 'gabriele muccino', 'will smith, rosario dawson, woody harrelson,michael ealy', '2008', '123', '7.7', '245144', '69.95', '36', '0', 'Drama']\n",
            "['686', \"the king's speech\", 'biography,drama', 'the story of king george vi of the united kingdom of great britain and northern ireland, his impromptu ascension to the throne and the speech therapist who helped the unsure monarch become worthy of it.', 'tom hooper', 'colin firth, geoffrey rush, helena bonham carter,derek jacobi', '2010', '118', '8', '534388', '138.8', '88', '1', 'Biography']\n",
            "['687', 'hunger', 'biography,drama', 'irish republican bobby sands leads the inmates of a northern irish prison in a hunger strike.', 'steve mcqueen', 'stuart graham, laine megaw, brian milligan, liam mcmahon', '2008', '96', '7.6', '54486', '0.15', '82', '0', 'Biography']\n",
            "['688', 'jumper', 'action,adventure,sci-fi', 'a teenager with teleportation abilities suddenly finds himself in the middle of an ancient war between those like him and their sworn annihilators.', 'doug liman', 'hayden christensen, samuel l. jackson, jamie bell,rachel bilson', '2008', '88', '6.1', '252503', '80.17', '35', '0', 'Action']\n",
            "['689', 'toy story 3', 'animation,adventure,comedy', \"the toys are mistakenly delivered to a day-care center instead of the attic right before andy leaves for college, and it's up to woody to convince the other toys that they weren't abandoned and to return home.\", 'lee unkrich', 'tom hanks, tim allen, joan cusack, ned beatty', '2010', '103', '8.3', '586669', '414.98', '92', '1', 'Animation']\n",
            "['690', 'tinker tailor soldier spy', 'drama,mystery,thriller', 'in the bleak days of the cold war, espionage veteran george smiley is forced from semi-retirement to uncover a soviet agent within mi6.', 'tomas alfredson', 'gary oldman, colin firth, tom hardy, mark strong', '2011', '122', '7.1', '157053', '24.1', '85', '0', 'Drama']\n",
            "['691', 'resident evil: retribution', 'action,horror,sci-fi', 'alice fights alongside a resistance movement to regain her freedom from an umbrella corporation testing facility.', 'paul w.s. anderson', 'milla jovovich, sienna guillory, michelle rodriguez, aryana engineer', '2012', '96', '5.4', '114144', '42.35', '39', '0', 'Action']\n",
            "['692', 'dear zindagi', 'drama,romance', \"kaira is a budding cinematographer in search of a perfect life. her encounter with jug, an unconventional thinker, helps her gain a new perspective on life. she discovers that happiness is all about finding comfort in life's imperfections.\", 'gauri shinde', 'alia bhatt, shah rukh khan, kunal kapoor, priyanka moodley', '2016', '151', '7.8', '23540', '1.4', '56', '0', 'Drama']\n",
            "['694', 'pompeii', 'action,adventure,drama', 'a slave-turned-gladiator finds himself in a race against time to save his true love, who has been betrothed to a corrupt roman senator. as mount vesuvius erupts, he must fight to save his beloved as pompeii crumbles around him.', 'paul w.s. anderson', 'kit harington, emily browning, kiefer sutherland, adewale akinnuoye-agbaje', '2014', '105', '5.5', '90188', '23.22', '39', '0', 'Action']\n",
            "['695', 'life of pi', 'adventure,drama,fantasy', 'a young man who survives a disaster at sea is hurtled into an epic journey of adventure and discovery. while cast away, he forms an unexpected connection with another survivor: a fearsome bengal tiger.', 'ang lee', 'suraj sharma, irrfan khan, adil hussain, tabu', '2012', '127', '7.9', '471109', '124.98', '79', '1', 'Adventure']\n",
            "['698', 'i origins', 'drama,romance,sci-fi', 'a molecular biologist and his laboratory partner uncover evidence that may fundamentally change society as we know it.', 'mike cahill', 'michael pitt, steven yeun, astrid bergès-frisbey, brit marling', '2014', '106', '7.3', '86271', '0.33', '57', '0', 'Drama']\n",
            "['699', 'live free or die hard', 'action,adventure,thriller', 'john mcclane and a young hacker join forces to take down master cyber-terrorist thomas gabriel in washington d.c.', 'len wiseman', 'bruce willis, justin long, timothy olyphant, maggie q', '2007', '128', '7.2', '347567', '134.52', '69', '1', 'Action']\n",
            "['702', 'ted', 'comedy,fantasy', 'john bennett, a man whose childhood wish of bringing his teddy bear to life came true, now must decide between keeping the relationship with the bear or his girlfriend, lori.', 'seth macfarlane', 'mark wahlberg, mila kunis, seth macfarlane, joel mchale', '2012', '106', '7', '494641', '218.63', '62', '1', 'Comedy']\n",
            "['703', 'red', 'action,comedy,crime', 'when his peaceful life is threatened by a high-tech assassin, former black-ops agent frank moses reassembles his old team in a last ditch effort to survive and uncover his assailants.', 'robert schwentke', 'bruce willis, helen mirren, morgan freeman,mary-louise parker', '2010', '111', '7.1', '250012', '90.36', '60', '1', 'Action']\n",
            "['704', 'australia', 'adventure,drama,romance', 'set in northern australia before world war ii, an english aristocrat who inherits a sprawling ranch reluctantly pacts with a stock-man in order to protect her new property from a takeover plot. as the pair drive 2,000 head of cattle over unforgiving landscape, they experience the bombing of darwin, australia, by japanese forces firsthand.', 'baz luhrmann', 'nicole kidman, hugh jackman, shea adams, eddie baroo', '2008', '165', '6.6', '106115', '49.55', '53', '0', 'Adventure']\n",
            "['705', 'faster', 'action,crime,drama', 'an ex-con gets on a series of apparently unrelated killings. he gets tracked by a veteran cop with secrets of his own and an egocentric hit man.', 'george tillman jr.', 'dwayne johnson, billy bob thornton, maggie grace, mauricio lopez', '2010', '98', '6.5', '83788', '23.23', '44', '0', 'Action']\n",
            "['708', 'the hollars', 'comedy,drama,romance', 'a man returns to his small hometown after learning that his mother has fallen ill and is about to undergo surgery.', 'john krasinski', 'sharlto copley, charlie day, richard jenkins, anna kendrick', '2016', '88', '6.5', '5908', '1.02', '53', '0', 'Comedy']\n",
            "['709', 'the judge', 'crime,drama', \"big-city lawyer hank palmer returns to his childhood home where his father, the town's judge, is suspected of murder. hank sets out to discover the truth and, along the way, reconnects with his estranged family.\", 'david dobkin', 'robert downey jr., robert duvall, vera farmiga, billy bob thornton', '2014', '141', '7.4', '146812', '47.11', '48', '0', 'Crime']\n",
            "['710', 'closed circuit', 'crime,drama,mystery', 'a high-profile terrorism case unexpectedly binds together two ex-lovers on the defense team - testing the limits of their loyalties and placing their lives in jeopardy.', 'john crowley', 'eric bana, rebecca hall, jim broadbent, ciarán hinds', '2013', '96', '6.2', '18437', '5.73', '50', '0', 'Crime']\n",
            "['711', 'transformers: revenge of the fallen', 'action,adventure,sci-fi', \"sam witwicky leaves the autobots behind for a normal life. but when his mind is filled with cryptic symbols, the decepticons target him and he is dragged back into the transformers' war.\", 'michael bay', 'shia labeouf, megan fox, josh duhamel, tyrese gibson', '2009', '150', '6', '335757', '402.08', '35', '0', 'Action']\n",
            "['712', 'la tortue rouge', 'animation,fantasy', 'a man is shipwrecked on a deserted island and encounters a red turtle, which changes his life.', 'michael dudok de wit', 'emmanuel garijo, tom hudson, baptiste goy, axel devillers', '2016', '80', '7.6', '11482', '0.92', '86', '0', 'Animation']\n",
            "['713', 'the book of life', 'animation,adventure,comedy', 'manolo, a young man who is torn between fulfilling the expectations of his family and following his heart, embarks on an adventure that spans three fantastic worlds where he must face his greatest fears.', 'jorge r. gutiérrez', 'diego luna, zoe saldana, channing tatum, ron perlman', '2014', '95', '7.3', '50388', '50.15', '67', '0', 'Animation']\n",
            "['714', 'incendies', 'drama,mystery,war', \"twins journey to the middle east to discover their family history, and fulfill their mother's last wishes.\", 'denis villeneuve', 'lubna azabal, mélissa désormeaux-poulin, maxim gaudette, mustafa kamel', '2010', '131', '8.2', '92863', '6.86', '80', '0', 'Drama']\n",
            "['715', 'the heartbreak kid', 'comedy,romance', \"a newly wed man who believes he's just gotten hitched to the perfect woman encounters another lady on his honeymoon.\", 'bobby farrelly', 'ben stiller, michelle monaghan,malin akerman, jerry stiller', '2007', '116', '5.8', '74664', '36.77', '46', '0', 'Comedy']\n",
            "['716', 'happy feet', 'animation,comedy,family', 'into the world of the emperor penguins, who find their soul mates through song, a penguin is born who cannot sing. but he can tap dance something fierce!', 'george miller', 'elijah wood, brittany murphy, hugh jackman, robin williams', '2006', '108', '6.5', '141141', '197.99', '77', '0', 'Animation']\n",
            "['717', 'entourage', 'comedy', \"movie star vincent chase, together with his boys eric, turtle, and johnny, are back - and back in business with super agent-turned-studio head ari gold on a risky project that will serve as vince's directorial debut.\", 'doug ellin', 'adrian grenier, kevin connolly, jerry ferrara, kevin dillon', '2015', '104', '6.6', '64557', '32.36', '38', '0', 'Comedy']\n",
            "['718', 'the strangers', 'horror,mystery,thriller', 'a young couple staying in an isolated vacation home are terrorized by three unknown assailants.', 'bryan bertino', 'scott speedman, liv tyler, gemma ward, alex fisher', '2008', '86', '6.2', '96718', '52.53', '47', '0', 'Horror']\n",
            "['719', 'noah', 'action,adventure,drama', \"a man is chosen by his world's creator to undertake a momentous mission before an apocalyptic flood cleanses the world.\", 'darren aronofsky', 'russell crowe, jennifer connelly, anthony hopkins, emma watson', '2014', '138', '5.8', '209700', '101.16', '68', '0', 'Action']\n",
            "['720', 'neighbors', 'comedy', 'after they are forced to live next to a fraternity house, a couple with a newborn baby do whatever they can to take them down.', 'nicholas stoller', 'seth rogen, rose byrne, zac efron, lisa kudrow', '2014', '97', '6.4', '236500', '150.06', '68', '0', 'Comedy']\n",
            "['721', 'nymphomaniac: vol. ii', 'drama', \"the continuation of joe's sexually dictated life delves into the darker aspects of her adulthood, obsessions and what led to her being in seligman's care.\", 'lars von trier', 'charlotte gainsbourg, stellan skarsgård, willem dafoe, jamie bell', '2013', '123', '6.7', '65824', '0.33', '60', '0', 'Drama']\n",
            "['722', 'wild', 'adventure,biography,drama', \"a chronicle of one woman's 1,100-mile solo hike undertaken as a way to recover from a recent personal tragedy.\", 'jean-marc vallée', 'reese witherspoon, laura dern, gaby hoffmann,michiel huisman', '2014', '115', '7.1', '95553', '37.88', '76', '0', 'Adventure']\n",
            "['723', 'grown ups', 'comedy', 'after their high school basketball coach passes away, five good friends and former teammates reunite for a fourth of july holiday weekend.', 'dennis dugan', 'adam sandler, salma hayek, kevin james, chris rock', '2010', '102', '6', '190385', '162', '30', '0', 'Comedy']\n",
            "['724', 'blair witch', 'horror,thriller', 'after discovering a video showing what he believes to be his vanished sister heather, james and a group of friends head to the forest believed to be inhabited by the blair witch.', 'adam wingard', 'james allen mccune, callie hernandez, corbin reid, brandon scott', '2016', '89', '5.1', '26088', '20.75', '47', '0', 'Horror']\n",
            "['725', 'the karate kid', 'action,drama,family', 'work causes a single mother to move to china with her young son; in his new home, the boy embraces kung fu, taught to him by a master.', 'harald zwart', 'jackie chan, jaden smith, taraji p. henson, wenwen han', '2010', '140', '6.2', '127983', '176.59', '61', '0', 'Action']\n",
            "['726', 'dark shadows', 'comedy,fantasy,horror', 'an imprisoned vampire, barnabas collins, is set free and returns to his ancestral home, where his dysfunctional descendants are in need of his protection.', 'tim burton', 'johnny depp, michelle pfeiffer, eva green, helena bonham carter', '2012', '113', '6.2', '209326', '79.71', '55', '0', 'Comedy']\n",
            "['727', 'friends with benefits', 'comedy,romance', 'a young man and woman decide to take their friendship to the next level without becoming a couple, but soon discover that adding sex only leads to complications.', 'will gluck', 'mila kunis, justin timberlake, patricia clarkson, jenna elfman', '2011', '109', '6.6', '286543', '55.8', '63', '0', 'Comedy']\n",
            "['728', 'the illusionist', 'drama,mystery,romance', 'in turn-of-the-century vienna, a magician uses his abilities to secure the love of a woman far above his social standing.', 'neil burger', 'edward norton, jessica biel, paul giamatti, rufus sewell', '2006', '110', '7.6', '309934', '39.83', '68', '0', 'Drama']\n",
            "['729', 'the a-team', 'action,adventure,comedy', 'a group of iraq war veterans looks to clear their name with the u.s. military, who suspect the four men of committing a crime for which they were framed.', 'joe carnahan', 'liam neeson, bradley cooper, sharlto copley,jessica biel', '2010', '117', '6.8', '219116', '77.21', '47', '0', 'Action']\n",
            "['730', 'the guest', 'thriller', 'a soldier introduces himself to the peterson family, claiming to be a friend of their son who died in action. after the young man is welcomed into their home, a series of accidental deaths seem to be connected to his presence.', 'adam wingard', 'dan stevens, sheila kelley, maika monroe, joel david moore', '2014', '100', '6.7', '71069', '0.32', '76', '0', 'Thriller']\n",
            "['731', 'the internship', 'comedy', 'two salesmen whose careers have been torpedoed by the digital age find their way into a coveted internship at google, where they must compete with a group of young, tech-savvy geniuses for a shot at employment.', 'shawn levy', 'vince vaughn, owen wilson, rose byrne, aasif mandvi', '2013', '119', '6.3', '166342', '44.67', '42', '0', 'Comedy']\n",
            "['732', 'paul', 'adventure,comedy,sci-fi', 'two british comic-book geeks traveling across the u.s. encounter an alien outside area 51.', 'greg mottola', 'simon pegg, nick frost, seth rogen, mia stallard', '2011', '104', '7', '201707', '37.37', '57', '0', 'Adventure']\n",
            "['734', 'the da vinci code', 'mystery,thriller', 'a murder inside the louvre and clues in da vinci paintings lead to the discovery of a religious mystery protected by a secret society for two thousand years -- which could shake the foundations of christianity.', 'ron howard', 'tom hanks, audrey tautou, jean reno, ian mckellen', '2006', '149', '6.6', '338280', '217.54', '46', '0', 'Mystery']\n",
            "['735', 'mr. church', 'comedy,drama', '\"mr. church\" tells the story of a unique friendship that develops when a little girl and her dying mother retain the services of a talented cook - henry joseph church. what begins as a six month arrangement instead spans into fifteen years and creates a family bond that lasts forever.', 'bruce beresford', 'eddie murphy, britt robertson, natascha mcelhone, xavier samuel', '2016', '104', '7.7', '16163', '0.69', '37', '0', 'Comedy']\n",
            "['736', 'hugo', 'adventure,drama,family', 'in paris in 1931, an orphan named hugo cabret who lives in the walls of a train station is wrapped up in a mystery involving his late father and an automaton.', 'martin scorsese', 'asa butterfield, chloë grace moretz, christopher lee, ben kingsley', '2011', '126', '7.5', '259182', '73.82', '83', '0', 'Adventure']\n",
            "['737', \"the blackcoat's daughter\", 'horror,thriller', 'two girls must battle a mysterious evil force when they get left behind at their boarding school over winter break.', 'oz perkins', 'emma roberts, kiernan shipka, lauren holly, lucy boynton', '2015', '93', '5.6', '4155', '0.02', '68', '0', 'Horror']\n",
            "['738', 'body of lies', 'action,drama,romance', 'a cia agent on the ground in jordan hunts down a powerful terrorist leader while being caught between the unclear intentions of his american supervisors and jordan intelligence.', 'ridley scott', 'leonardo dicaprio, russell crowe, mark strong,golshifteh farahani', '2008', '128', '7.1', '182305', '39.38', '57', '0', 'Action']\n",
            "['739', 'knight of cups', 'drama,romance', 'a writer indulging in all that los angeles and las vegas has to offer undertakes a search for love and self via a series of adventures with six different women.', 'terrence malick', 'christian bale, cate blanchett, natalie portman,brian dennehy', '2015', '118', '5.7', '17439', '0.56', '53', '0', 'Drama']\n",
            "['740', 'the mummy: tomb of the dragon emperor', 'action,adventure,fantasy', \"in the far east, alex o'connell, the son of famed mummy fighters rick and evy o'connell, unearths the mummy of the first emperor of qin -- a shape-shifting entity cursed by a witch centuries ago.\", 'rob cohen', 'brendan fraser, jet li, maria bello, michelle yeoh', '2008', '112', '5.2', '124554', '102.18', '31', '0', 'Action']\n",
            "['741', 'the boss', 'comedy', \"a titan of industry is sent to prison after she's caught insider trading. when she emerges ready to rebrand herself as america's latest sweetheart, not everyone she screwed over is so quick to forgive and forget.\", 'ben falcone', 'melissa mccarthy, kristen bell, peter dinklage, ella anderson', '2016', '99', '5.4', '29642', '63.03', '40', '0', 'Comedy']\n",
            "['742', 'hands of stone', 'action,biography,drama', \"the legendary roberto duran and his equally legendary trainer ray arcel change each other's lives.\", 'jonathan jakubowicz', 'edgar ramírez, usher raymond, robert de niro, rubén blades', '2016', '111', '6.6', '8998', '4.71', '54', '0', 'Action']\n",
            "['743', 'el secreto de sus ojos', 'drama,mystery,romance', 'a retired legal counselor writes a novel hoping to find closure for one of his past unresolved homicide cases and for his unreciprocated love with his superior - both of which still haunt him decades later.', 'juan josé campanella', 'ricardo darín, soledad villamil, pablo rago,carla quevedo', '2009', '129', '8.2', '144524', '20.17', '80', '0', 'Drama']\n",
            "['744', 'true grit', 'adventure,drama,western', \"a tough u.s. marshal helps a stubborn teenager track down her father's murderer.\", 'ethan coen', 'jeff bridges, matt damon, hailee steinfeld,josh brolin', '2010', '110', '7.6', '254904', '171.03', '80', '1', 'Adventure']\n",
            "['745', 'we are your friends', 'drama,music,romance', 'caught between a forbidden romance and the expectations of his friends, aspiring dj cole carter attempts to find the path in life that leads to fame and fortune.', 'max joseph', 'zac efron, wes bentley, emily ratajkowski, jonny weston', '2015', '96', '6.2', '25903', '3.59', '46', '0', 'Drama']\n",
            "['746', 'a million ways to die in the west', 'comedy,romance,western', 'as a cowardly farmer begins to fall for the mysterious new woman in town, he must put his new-found courage to the test when her husband, a notorious gun-slinger, announces his arrival.', 'seth macfarlane', 'seth macfarlane, charlize theron, liam neeson,amanda seyfried', '2014', '116', '6.1', '144779', '42.62', '44', '0', 'Comedy']\n",
            "['749', 'ouija: origin of evil', 'horror,thriller', 'in 1967 los angeles, a widowed mother and her 2 daughters add a new stunt to bolster their seance scam business, inviting an evil presence into their home.', 'mike flanagan', 'elizabeth reaser, lulu wilson, annalise basso,henry thomas', '2016', '99', '6.1', '30035', '34.9', '65', '0', 'Horror']\n",
            "['750', 'percy jackson: sea of monsters', 'adventure,family,fantasy', 'in order to restore their dying safe haven, the son of poseidon and his friends embark on a quest to the sea of monsters to find the mythical golden fleece while trying to stop an ancient evil from rising.', 'thor freudenthal', 'logan lerman, alexandra daddario, brandon t. jackson, nathan fillion', '2013', '106', '5.9', '91684', '68.56', '39', '0', 'Adventure']\n",
            "['751', 'fracture', 'crime,drama,mystery', 'an attorney, intent on climbing the career ladder toward success, finds an unlikely opponent in a manipulative criminal he is trying to prosecute.', 'gregory hoblit', 'anthony hopkins, ryan gosling, david strathairn,rosamund pike', '2007', '113', '7.2', '148943', '39', '68', '0', 'Crime']\n",
            "['752', 'oculus', 'horror,mystery', 'a woman tries to exonerate her brother, who was convicted of murder, by proving that the crime was committed by a supernatural phenomenon.', 'mike flanagan', 'karen gillan, brenton thwaites, katee sackhoff,rory cochrane', '2013', '104', '6.5', '92875', '27.69', '61', '0', 'Horror']\n",
            "['753', 'in bruges', 'comedy,crime,drama', 'guilt-stricken after a job gone wrong, hitman ray and his partner await orders from their ruthless boss in bruges, belgium, the last place in the world ray wants to be.', 'martin mcdonagh', 'colin farrell, brendan gleeson, ciarán hinds,elizabeth berrington', '2008', '107', '7.9', '322536', '7.76', '67', '0', 'Comedy']\n",
            "['754', 'this means war', 'action,comedy,romance', 'two top cia operatives wage an epic battle against one another after they discover they are dating the same woman.', 'mcg', 'reese witherspoon, chris pine, tom hardy, til schweiger', '2012', '103', '6.3', '154400', '54.76', '31', '0', 'Action']\n",
            "['760', 'the fighter', 'action,biography,drama', 'a look at the early years of boxer \"irish\" micky ward and his brother who helped train him before going pro in the mid 1980s.', 'david o. russell', 'mark wahlberg, christian bale, amy adams,melissa leo', '2010', '116', '7.8', '290056', '93.57', '79', '1', 'Action']\n",
            "['761', 'august rush', 'drama,music', 'a drama with fairy tale elements, where an orphaned musical prodigy uses his gift as a clue to finding his birth parents.', 'kirsten sheridan', 'freddie highmore, keri russell, jonathan rhys meyers, terrence howard', '2007', '114', '7.5', '91229', '31.66', '38', '0', 'Drama']\n",
            "['762', 'chef', 'comedy,drama', 'a head chef quits his restaurant job and buys a food truck in an effort to reclaim his creative promise, while piecing back together his estranged family.', 'jon favreau', 'jon favreau, robert downey jr., scarlett johansson,dustin hoffman', '2014', '114', '7.3', '151970', '31.24', '68', '0', 'Comedy']\n",
            "['763', 'eye in the sky', 'drama,thriller,war', 'col. katherine powell, a military officer in command of an operation to capture terrorists in kenya, sees her mission escalate when a girl enters the kill zone triggering an international dispute over the implications of modern warfare.', 'gavin hood', 'helen mirren, aaron paul, alan rickman, barkhad abdi', '2015', '102', '7.3', '57826', '18.7', '73', '0', 'Drama']\n",
            "['764', 'eagle eye', 'action,mystery,thriller', 'jerry and rachel are two strangers thrown together by a mysterious phone call from a woman they have never met. threatening their lives and family, she pushes jerry and rachel into a series of increasingly dangerous situations, using the technology of everyday life to track and control their every move.', 'd.j. caruso', 'shia labeouf, michelle monaghan, rosario dawson,michael chiklis', '2008', '118', '6.6', '156158', '101.11', '43', '0', 'Action']\n",
            "['765', 'the purge', 'horror,sci-fi,thriller', 'a wealthy family are held hostage for harboring the target of a murderous syndicate during the purge, a 12-hour period in which any and all crime is legal.', 'james demonaco', 'ethan hawke, lena headey, max burkholder,adelaide kane', '2013', '85', '5.7', '154588', '64.42', '41', '0', 'Horror']\n",
            "['766', 'pk', 'comedy,drama,romance', 'a stranger in the city asks questions no one has asked before. his childlike curiosity will take him on a journey of love, laughter, and letting go.', 'rajkumar hirani', 'aamir khan, anushka sharma, sanjay dutt,boman irani', '2014', '153', '8.2', '103279', '10.57', '51', '0', 'Comedy']\n",
            "['768', 'indiana jones and the kingdom of the crystal skull', 'action,adventure,fantasy', 'famed archaeologist/adventurer dr. henry \"indiana\" jones is called back into action when he becomes entangled in a soviet plot to uncover the secret behind mysterious artifacts known as the crystal skulls.', 'steven spielberg', 'harrison ford, cate blanchett, shia labeouf,karen allen', '2008', '122', '6.2', '351361', '317.01', '65', '0', 'Action']\n",
            "['769', 'paper towns', 'drama,mystery,romance', \"after an all night adventure, quentin's life-long crush, margo, disappears, leaving behind clues that quentin and his friends follow on the journey of a lifetime.\", 'jake schreier', 'nat wolff, cara delevingne, austin abrams, justice smith', '2015', '109', '6.3', '72515', '31.99', '56', '0', 'Drama']\n",
            "['770', 'high-rise', 'drama', 'life for the residents of a tower block begins to run out of control.', 'ben wheatley', 'tom hiddleston, jeremy irons, sienna miller, luke evans', '2015', '119', '5.7', '25928', '0.34', '65', '0', 'Drama']\n",
            "['771', 'quantum of solace', 'action,adventure,thriller', \"james bond descends into mystery as he tries to stop a mysterious organization from eliminating a country's most valuable resource. all the while, he still tries to seek revenge over the death of his love.\", 'marc forster', 'daniel craig, olga kurylenko, mathieu amalric, judi dench', '2008', '106', '6.6', '347798', '168.37', '58', '0', 'Action']\n",
            "['773', 'how to train your dragon', 'animation,action,adventure', 'a hapless young viking who aspires to hunt dragons becomes the unlikely friend of a young dragon himself, and learns there may be more to the creatures than he assumed.', 'dean deblois', 'jay baruchel, gerard butler,christopher mintz-plasse, craig ferguson', '2010', '98', '8.1', '523893', '217.39', '74', '1', 'Animation']\n",
            "['774', 'lady in the water', 'drama,fantasy,mystery', 'apartment building superintendent cleveland heep rescues what he thinks is a young woman from the pool he maintains. when he discovers that she is actually a character from a bedtime story who is trying to make the journey back to her home, he works with his tenants to protect his new friend from the creatures that are determined to keep her in our world.', 'm. night shyamalan', 'paul giamatti, bryce dallas howard, jeffrey wright, bob balaban', '2006', '110', '5.6', '82701', '42.27', '36', '0', 'Drama']\n",
            "['775', 'the fountain', 'drama,sci-fi', 'as a modern-day scientist, tommy is struggling with mortality, desperately searching for the medical breakthrough that will save the life of his cancer-stricken wife, izzi.', 'darren aronofsky', 'hugh jackman, rachel weisz, sean patrick thomas, ellen burstyn', '2006', '96', '7.3', '199193', '10.14', '51', '0', 'Drama']\n",
            "['776', 'cars 2', 'animation,adventure,comedy', 'star race car lightning mcqueen and his pal mater head overseas to compete in the world grand prix race. but the road to the championship becomes rocky as mater gets caught up in an intriguing adventure of his own: international espionage.', 'john lasseter', 'owen wilson, larry the cable guy,michael caine, emily mortimer', '2011', '106', '6.2', '110490', '191.45', '57', '0', 'Animation']\n",
            "['777', '31', 'horror,thriller', 'five carnival workers are kidnapped and held hostage in an abandoned, hell-like compound where they are forced to participate in a violent game, the goal of which is to survive twelve hours against a gang of sadistic clowns.', 'rob zombie', 'malcolm mcdowell, richard brake, jeff daniel phillips,sheri moon zombie', '2016', '102', '5.1', '10871', '0.78', '35', '0', 'Horror']\n",
            "['781', 'unknown', 'action,mystery,thriller', 'a man awakens from a coma, only to discover that someone has taken on his identity and that no one, (not even his wife), believes him. with the help of a young woman, he sets out to prove who he is.', 'jaume collet-serra', 'liam neeson, diane kruger, january jones,aidan quinn', '2011', '113', '6.9', '218679', '61.09', '56', '0', 'Action']\n",
            "['782', 'self/less', 'action,mystery,sci-fi', 'a dying real estate mogul transfers his consciousness into a healthy young body, but soon finds that neither the procedure nor the company that performed it are quite what they seem.', 'tarsem singh', 'ryan reynolds, natalie martinez, matthew goode,ben kingsley', '2015', '117', '6.5', '67196', '12.28', '34', '0', 'Action']\n",
            "['783', 'mr. brooks', 'crime,drama,thriller', 'a psychological thriller about a man who is sometimes controlled by his murder-and-mayhem-loving alter ego.', 'bruce a. evans', 'kevin costner, demi moore, william hurt, dane cook', '2007', '120', '7.3', '128146', '28.48', '45', '0', 'Crime']\n",
            "['785', 'before we go', 'comedy,drama,romance', \"two strangers stuck in manhattan for the night grow into each other's most trusted confidants when an evening of unexpected adventure forces them to confront their fears and take control of their lives.\", 'chris evans', 'chris evans, alice eve, emma fitzpatrick, john cullum', '2014', '95', '6.9', '31370', '0.04', '31', '0', 'Comedy']\n",
            "['786', 'captain phillips', 'biography,drama,thriller', 'the true story of captain richard phillips and the 2009 hijacking by somali pirates of the u.s.-flagged mv maersk alabama, the first american cargo ship to be hijacked in two hundred years.', 'paul greengrass', 'tom hanks, barkhad abdi, barkhad abdirahman,catherine keener', '2013', '134', '7.8', '346154', '107.1', '83', '1', 'Biography']\n",
            "['788', 'max steel', 'action,adventure,family', 'the adventures of teenager max mcgrath and his alien companion, steel, who must harness and combine their tremendous new powers to evolve into the turbo-charged superhero max steel.', 'stewart hendler', 'ben winchell, josh brener, maria bello, andy garcia', '2016', '92', '4.6', '11555', '3.77', '22', '0', 'Action']\n",
            "['789', 'hotel transylvania 2', 'animation,comedy,family', 'dracula and his friends try to bring out the monster in his half human, half vampire grandson in order to keep mavis from leaving the hotel.', 'genndy tartakovsky', 'adam sandler, andy samberg, selena gomez, kevin james', '2015', '89', '6.7', '69157', '169.69', '44', '0', 'Animation']\n",
            "['790', 'hancock', 'action,crime,drama', 'hancock is a superhero whose ill considered behavior regularly causes damage in the millions. he changes when the person he saves helps him improve his public image.', 'peter berg', 'will smith, charlize theron, jason bateman, jae head', '2008', '92', '6.4', '366138', '227.95', '49', '0', 'Action']\n",
            "['791', 'sisters', 'comedy', 'two sisters decide to throw one last house party before their parents sell their family home.', 'jason moore', 'amy poehler, tina fey, maya rudolph, ike barinholtz', '2015', '118', '6', '50241', '87.03', '58', '0', 'Comedy']\n",
            "['792', 'the family', 'comedy,crime,thriller', 'the manzoni family, a notorious mafia clan, is relocated to normandy, france under the witness protection program, where fitting in soon becomes challenging as their old habits die hard.', 'luc besson', \"robert de niro, michelle pfeiffer, dianna agron, john d'leo\", '2013', '111', '6.3', '92868', '36.92', '42', '0', 'Comedy']\n",
            "['793', 'zack and miri make a porno', 'comedy,romance', 'lifelong platonic friends zack and miri look to solve their respective cash-flow problems by making an adult film together. as the cameras roll, however, the duo begin to sense that they may have more feelings for each other than they previously thought.', 'kevin smith', 'seth rogen, elizabeth banks, craig robinson, gerry bednob', '2008', '101', '6.6', '154936', '31.45', '56', '0', 'Comedy']\n",
            "['794', 'ma vie de courgette', 'animation,comedy,drama', 'after losing his mother, a young boy is sent to a foster home with other orphans his age where he begins to learn the meaning of trust and true love.', 'claude barras', 'gaspard schlatter, sixtine murat, paulin jaccoud,michel vuillermoz', '2016', '66', '7.8', '4370', '0.29', '85', '0', 'Animation']\n",
            "['795', 'man on a ledge', 'action,crime,thriller', 'as a police psychologist works to talk down an ex-con who is threatening to jump from a manhattan hotel rooftop, the biggest diamond heist ever committed is in motion.', 'asger leth', 'sam worthington, elizabeth banks, jamie bell, mandy gonzalez', '2012', '102', '6.6', '129252', '18.6', '40', '0', 'Action']\n",
            "['796', 'no strings attached', 'comedy,romance', \"a guy and girl try to keep their relationship strictly physical, but it's not long before they learn that they want something more.\", 'ivan reitman', 'natalie portman, ashton kutcher, kevin kline, cary elwes', '2011', '108', '6.2', '178243', '70.63', '50', '0', 'Comedy']\n",
            "['797', 'rescue dawn', 'adventure,biography,drama', \"a u.s. fighter pilot's epic struggle of survival after being shot down on a mission over laos during the vietnam war.\", 'werner herzog', 'christian bale, steve zahn, jeremy davies, zach grenier', '2006', '120', '7.3', '87887', '5.48', '77', '0', 'Adventure']\n",
            "['798', 'despicable me 2', 'animation,adventure,comedy', \"when gru, the world's most super-bad turned super-dad has been recruited by a team of officials to stop lethal muscle and a host of gru's own, he has to fight back with new gadgetry, cars, and more minion madness.\", 'pierre coffin', 'steve carell, kristen wiig, benjamin bratt, miranda cosgrove', '2013', '98', '7.4', '304837', '368.05', '62', '1', 'Animation']\n",
            "['799', 'a walk among the tombstones', 'crime,drama,mystery', 'private investigator matthew scudder is hired by a drug kingpin to find out who kidnapped and murdered his wife.', 'scott frank', 'liam neeson, dan stevens, david harbour, boyd holbrook', '2014', '114', '6.5', '93883', '25.98', '57', '0', 'Crime']\n",
            "['800', \"the world's end\", 'action,comedy,sci-fi', \"five friends who reunite in an attempt to top their epic pub crawl from twenty years earlier unwittingly become humanity's only hope for survival.\", 'edgar wright', 'simon pegg, nick frost, martin freeman, rosamund pike', '2013', '109', '7', '199813', '26', '81', '0', 'Action']\n",
            "['802', 'seven psychopaths', 'comedy,crime', \"a struggling screenwriter inadvertently becomes entangled in the los angeles criminal underworld after his oddball friends kidnap a gangster's beloved shih tzu.\", 'martin mcdonagh', 'colin farrell, woody harrelson, sam rockwell,christopher walken', '2012', '110', '7.2', '196652', '14.99', '66', '0', 'Comedy']\n",
            "['803', 'beowulf', 'animation,action,adventure', \"the warrior beowulf must fight and defeat the monster grendel who is terrorizing denmark, and later, grendel's mother, who begins killing out of revenge.\", 'robert zemeckis', 'ray winstone, crispin glover, angelina jolie,robin wright', '2007', '115', '6.2', '146566', '82.16', '59', '0', 'Animation']\n",
            "['804', 'jack ryan: shadow recruit', 'action,drama,thriller', 'jack ryan, as a young covert cia analyst, uncovers a russian plot to crash the u.s. economy with a terrorist attack.', 'kenneth branagh', 'chris pine, kevin costner, keira knightley,kenneth branagh', '2014', '105', '6.2', '103681', '50.55', '57', '0', 'Action']\n",
            "['805', '1408', 'fantasy,horror', 'a man who specializes in debunking paranormal occurrences checks into the fabled room 1408 in the dolphin hotel. soon after settling in, he confronts genuine terror.', 'mikael håfström', 'john cusack, samuel l. jackson, mary mccormack, paul birchard', '2007', '104', '6.8', '221073', '71.98', '64', '0', 'Fantasy']\n",
            "['806', 'the gambler', 'crime,drama,thriller', \"lit professor and gambler jim bennett's debt causes him to borrow money from his mother and a loan shark. further complicating his situation is his relationship with one of his students. will bennett risk his life for a second chance?\", 'rupert wyatt', 'mark wahlberg, jessica lange, john goodman, brie larson', '2014', '111', '6', '52537', '33.63', '55', '0', 'Crime']\n",
            "['807', 'prince of persia: the sands of time', 'action,adventure,fantasy', 'a young fugitive prince and princess must stop a villain who unknowingly threatens to destroy the world with a special dagger that enables the magic sand inside to reverse time.', 'mike newell', 'jake gyllenhaal, gemma arterton, ben kingsley,alfred molina', '2010', '116', '6.6', '233148', '90.76', '50', '0', 'Action']\n",
            "['808', 'the spectacular now', 'comedy,drama,romance', 'a hard-partying high school senior\\'s philosophy on life changes when he meets the not-so-typical \"nice girl.\"', 'james ponsoldt', 'miles teller, shailene woodley, kyle chandler,jennifer jason leigh', '2013', '95', '7.1', '115751', '6.85', '82', '0', 'Comedy']\n",
            "['809', 'a united kingdom', 'biography,drama,romance', 'the story of king seretse khama of botswana and how his loving but controversial marriage to a british white woman, ruth williams, put his kingdom into political and diplomatic turmoil.', 'amma asante', 'david oyelowo, rosamund pike, tom felton, jack davenport', '2016', '111', '6.8', '4771', '3.9', '65', '0', 'Biography']\n",
            "['811', 'turbo kid', 'action,adventure,comedy', 'in a post-apocalyptic wasteland in 1997, a comic book fan adopts the persona of his favourite hero to save his enthusiastic friend and fight a tyrannical overlord.', 'françois simard', 'munro chambers, laurence leboeuf, michael ironside, edwin wright', '2015', '93', '6.7', '19309', '0.05', '60', '0', 'Action']\n",
            "['812', 'mama', 'horror,thriller', 'a young couple take in their two nieces only to suspect that a foreboding evil has latched itself to their family.', 'andrés muschietti', 'jessica chastain, nikolaj coster-waldau, megan charpentier, isabelle nélisse', '2013', '100', '6.2', '142560', '71.59', '57', '0', 'Horror']\n",
            "['813', 'orphan', 'horror,mystery,thriller', 'a husband and wife who recently lost their baby adopt a nine year-old girl who is not nearly as innocent as she claims to be.', 'jaume collet-serra', 'vera farmiga, peter sarsgaard, isabelle fuhrman, cch pounder', '2009', '123', '7', '153448', '41.57', '42', '0', 'Horror']\n",
            "['814', 'to rome with love', 'comedy,romance', 'the lives of some visitors and residents of rome and the romances, adventures and predicaments they get into.', 'woody allen', 'woody allen, penélope cruz, jesse eisenberg, ellen page', '2012', '112', '6.3', '72050', '16.68', '54', '0', 'Comedy']\n",
            "['815', 'fantastic mr. fox', 'animation,adventure,comedy', \"an urbane fox cannot resist returning to his farm raiding ways and then must help his community survive the farmers' retaliation.\", 'wes anderson', 'george clooney, meryl streep, bill murray, jason schwartzman', '2009', '87', '7.8', '149779', '21', '83', '0', 'Animation']\n",
            "['816', 'inside man', 'crime,drama,mystery', \"a police detective, a bank robber, and a high-power broker enter high-stakes negotiations after the criminal's brilliant heist spirals into a hostage situation.\", 'spike lee', 'denzel washington, clive owen, jodie foster,christopher plummer', '2006', '129', '7.6', '285441', '88.5', '76', '1', 'Crime']\n",
            "['818', '127 hours', 'adventure,biography,drama', 'an adventurous mountain climber becomes trapped under a boulder while canyoneering alone near moab, utah and resorts to desperate measures in order to survive.', 'danny boyle', 'james franco, amber tamblyn, kate mara, sean bott', '2010', '94', '7.6', '294010', '18.33', '82', '0', 'Adventure']\n",
            "['819', 'annabelle', 'horror,mystery,thriller', 'a couple begins to experience terrifying supernatural occurrences involving a vintage doll shortly after their home is invaded by satanic cultists.', 'john r. leonetti', 'ward horton, annabelle wallis, alfre woodard,tony amendola', '2014', '99', '5.4', '91106', '84.26', '37', '0', 'Horror']\n",
            "['822', 'the imaginarium of doctor parnassus', 'adventure,fantasy,mystery', 'a traveling theater company gives its audience much more than they were expecting.', 'terry gilliam', 'christopher plummer, lily cole, heath ledger,andrew garfield', '2009', '123', '6.8', '130153', '7.69', '65', '0', 'Adventure']\n",
            "['823', 'g.i. joe: the rise of cobra', 'action,adventure,sci-fi', 'an elite military unit comprised of special operatives known as g.i. joe, operating out of the pit, takes on an evil organization led by a notorious arms dealer.', 'stephen sommers', 'dennis quaid, channing tatum, marlon wayans,adewale akinnuoye-agbaje', '2009', '118', '5.8', '180105', '150.17', '32', '0', 'Action']\n",
            "['824', 'christine', 'biography,drama', 'the story of christine chubbuck, a 1970s tv reporter struggling with depression and professional frustrations as she tries to advance her career.', 'antonio campos', 'rebecca hall, michael c. hall, tracy letts, maria dizzia', '2016', '119', '7', '5855', '0.3', '72', '0', 'Biography']\n",
            "['830', 'disaster movie', 'comedy', 'over the course of one evening, an unsuspecting group of twenty-somethings find themselves bombarded by a series of natural disasters and catastrophic events.', 'jason friedberg', 'carmen electra, vanessa lachey,nicole parker, matt lanter', '2008', '87', '1.9', '77207', '14.17', '15', '0', 'Comedy']\n",
            "['831', 'rocky balboa', 'drama,sport', \"thirty years after the ring of the first bell, rocky balboa comes out of retirement and dons his gloves for his final fight; against the reigning heavyweight champ mason 'the line' dixon.\", 'sylvester stallone', 'sylvester stallone, antonio tarver, milo ventimiglia, burt young', '2006', '102', '7.2', '171356', '70.27', '63', '0', 'Drama']\n",
            "['832', 'diary of a wimpy kid: dog days', 'comedy,family', \"school's out. summer vacation is on. however, greg may not have the best summer vacation ever. what could go wrong?\", 'david bowers', 'zachary gordon, robert capron, devon bostick,steve zahn', '2012', '94', '6.4', '16917', '49', '54', '0', 'Comedy']\n",
            "['833', 'jane eyre', 'drama,romance', \"a mousy governess who softens the heart of her employer soon discovers that he's hiding a terrible secret.\", 'cary joji fukunaga', 'mia wasikowska, michael fassbender, jamie bell, su elliot', '2011', '120', '7.4', '67464', '11.23', '76', '0', 'Drama']\n",
            "['834', \"fool's gold\", 'action,adventure,comedy', \"a new clue to the whereabouts of a lost treasure rekindles a married couple's sense of adventure -- and their estranged romance.\", 'andy tennant', 'matthew mcconaughey, kate hudson, donald sutherland, alexis dziena', '2008', '112', '5.7', '62719', '70.22', '29', '0', 'Action']\n",
            "['835', 'the dictator', 'comedy', 'the heroic story of a dictator who risked his life to ensure that democracy would never come to the country he so lovingly oppressed.', 'larry charles', 'sacha baron cohen, anna faris, john c. reilly, ben kingsley', '2012', '83', '6.4', '225394', '59.62', '58', '0', 'Comedy']\n",
            "['836', 'the loft', 'mystery,romance,thriller', 'five married guys conspire to secretly share a penthouse loft in the city--a place where they can carry out hidden affairs and indulge in their deepest fantasies. but the fantasy becomes a nightmare when they discover the dead body of an unknown woman in the loft, and they realize one of the group must be involved.', 'erik van looy', 'karl urban, james marsden, wentworth miller, eric stonestreet', '2014', '108', '6.3', '38804', '5.98', '24', '0', 'Mystery']\n",
            "['837', 'bacalaureat', 'crime,drama', \"a film about compromises and the implications of the parent's role.\", 'cristian mungiu', 'adrian titieni, maria-victoria dragus, lia bugnar,malina manovici', '2016', '128', '7.5', '5531', '0.13', '84', '0', 'Crime']\n",
            "['838', \"you don't mess with the zohan\", 'action,comedy', 'an israeli special forces soldier fakes his death so he can re-emerge in new york city as a hair stylist.', 'dennis dugan', 'adam sandler, john turturro, emmanuelle chriqui,nick swardson', '2008', '113', '5.5', '163144', '100.02', '54', '0', 'Action']\n",
            "['841', 'horrible bosses 2', 'comedy,crime', \"dale, kurt and nick decide to start their own business but things don't go as planned because of a slick investor, prompting the trio to pull off a harebrained and misguided kidnapping scheme.\", 'sean anders', 'jason bateman, jason sudeikis, charlie day, jennifer aniston', '2014', '108', '6.3', '125190', '54.41', '40', '0', 'Comedy']\n",
            "['842', 'a bigger splash', 'drama,thriller', 'the vacation of a famous rock star and a filmmaker in italy is disrupted by the unexpected visit of an old friend and his daughter.', 'luca guadagnino', 'tilda swinton, matthias schoenaerts, ralph fiennes, dakota johnson', '2015', '125', '6.4', '15232', '1.98', '74', '0', 'Drama']\n",
            "['843', 'melancholia', 'drama', 'two sisters find their already strained relationship challenged as a mysterious new planet threatens to collide with earth.', 'lars von trier', 'kirsten dunst, charlotte gainsbourg, kiefer sutherland, alexander skarsgård', '2011', '135', '7.1', '137117', '3.03', '80', '0', 'Drama']\n",
            "['844', 'the princess and the frog', 'animation,adventure,comedy', 'a waitress, desperate to fulfill her dreams as a restaurant owner, is set on a journey to turn a frog prince back into a human being, but she has to face the same problem after she kisses him.', 'ron clements', 'anika noni rose, keith david, oprah winfrey, bruno campos', '2009', '97', '7.1', '95480', '104.37', '73', '0', 'Animation']\n",
            "['845', 'unstoppable', 'action,thriller', 'with an unmanned, half-mile-long freight train barreling toward a city, a veteran engineer and a young conductor race against the clock to prevent a catastrophe.', 'tony scott', 'denzel washington, chris pine, rosario dawson, ethan suplee', '2010', '98', '6.8', '157499', '81.56', '69', '0', 'Action']\n",
            "['846', 'flight', 'drama,thriller', 'an airline pilot saves almost all his passengers on his malfunctioning airliner which eventually crashed, but an investigation into the accident reveals something troubling.', 'robert zemeckis', 'denzel washington, nadine velazquez, don cheadle, john goodman', '2012', '138', '7.3', '276347', '93.75', '76', '1', 'Drama']\n",
            "['847', 'home', 'animation,adventure,comedy', 'an alien on the run from his own people makes friends with a girl. he tries to help her on her quest, but can be an interference.', 'tim johnson', 'jim parsons, rihanna, steve martin, jennifer lopez', '2015', '94', '6.7', '77447', '177.34', '55', '0', 'Animation']\n",
            "['848', 'la migliore offerta', 'crime,drama,mystery', 'in the world of high-end art auctions and antiques, virgil oldman is an elderly and esteemed but eccentric genius art-expert, known and appreciated by the world. oldman is hired by a ... see full summary »', 'giuseppe tornatore', 'geoffrey rush, jim sturgess, sylvia hoeks,donald sutherland', '2013', '131', '7.8', '77986', '0.09', '49', '0', 'Crime']\n",
            "['850', '42', 'biography,drama,sport', 'this movie is about jackie robinson and his journey to becoming a brooklyn dodger and his life during that time.', 'brian helgeland', 'chadwick boseman, t.r. knight, harrison ford,nicole beharie', '2013', '128', '7.5', '69659', '95', '62', '0', 'Biography']\n",
            "['851', '21', 'crime,drama,thriller', '\"21\" is the fact-based story about six mit students who were trained to become experts in card counting and subsequently took vegas casinos for millions in winnings.', 'robert luketic', 'jim sturgess, kate bosworth, kevin spacey, aaron yoo', '2008', '123', '6.8', '198395', '81.16', '48', '0', 'Crime']\n",
            "['852', 'begin again', 'drama,music', 'a chance encounter between a disgraced music-business executive and a young singer-songwriter new to manhattan turns into a promising collaboration between the two talents.', 'john carney', 'keira knightley, mark ruffalo, adam levine, hailee steinfeld', '2013', '104', '7.4', '111875', '16.17', '62', '0', 'Drama']\n",
            "['853', 'out of the furnace', 'crime,drama,thriller', \"when rodney baze mysteriously disappears and law enforcement doesn't follow through fast enough, his older brother, russell, takes matters into his own hands to find justice.\", 'scott cooper', 'christian bale, casey affleck, zoe saldana, woody harrelson', '2013', '116', '6.8', '88829', '11.33', '63', '0', 'Crime']\n",
            "['854', 'vicky cristina barcelona', 'drama,romance', 'two girlfriends on a summer holiday in spain become enamored with the same painter, unaware that his ex-wife, with whom he has a tempestuous relationship, is about to re-enter the picture.', 'woody allen', 'rebecca hall, scarlett johansson, javier bardem,christopher evan welch', '2008', '96', '7.1', '208770', '23.21', '70', '0', 'Drama']\n",
            "['855', 'kung fu panda', 'animation,action,adventure', \"the dragon warrior has to clash against the savage tai lung as china's fate hangs in the balance: however, the dragon warrior mantle is supposedly mistaken to be bestowed upon an obese panda who is a tyro in martial arts.\", 'mark osborne', 'jack black, ian mcshane,angelina jolie, dustin hoffman', '2008', '92', '7.6', '329788', '215.4', '73', '1', 'Animation']\n",
            "['856', 'barbershop: the next cut', 'comedy,drama', \"as their surrounding community has taken a turn for the worse, the crew at calvin's barbershop come together to bring some much needed change to their neighborhood.\", 'malcolm d. lee', 'ice cube, regina hall, anthony anderson, eve', '2016', '111', '5.9', '9993', '54.01', '67', '0', 'Comedy']\n",
            "['857', 'terminator salvation', 'action,adventure,drama', 'in 2018, a mysterious new weapon in the war against the machines, half-human and half-machine, comes to john connor on the eve of a resistance attack on skynet. but whose side is he on, and can he be trusted?', 'mcg', 'christian bale, sam worthington, anton yelchin, moon bloodgood', '2009', '115', '6.6', '297093', '125.32', '49', '0', 'Action']\n",
            "['858', 'freedom writers', 'biography,crime,drama', 'a young teacher inspires her class of at-risk students to learn tolerance, apply themselves, and pursue education beyond high school.', 'richard lagravenese', 'hilary swank, imelda staunton, patrick dempsey, scott glenn', '2007', '123', '7.5', '55648', '36.58', '64', '0', 'Biography']\n",
            "['859', 'the hills have eyes', 'horror', 'a suburban american family is being stalked by a group of psychotic people who live in the desert, far away from civilization.', 'alexandre aja', 'ted levine, kathleen quinlan, dan byrd, emilie de ravin', '2006', '107', '6.4', '136642', '41.78', '52', '0', 'Horror']\n",
            "['860', 'changeling', 'biography,drama,mystery', 'a grief-stricken mother takes on the lapd to her own detriment when it stubbornly tries to pass off an obvious impostor as her missing child, while also refusing to give up hope that she will find him one day.', 'clint eastwood', 'angelina jolie, colm feore, amy ryan, gattlin griffith', '2008', '141', '7.8', '206793', '35.71', '63', '0', 'Biography']\n",
            "['861', 'remember me', 'drama,romance', \"a romantic drama centered on two new lovers: tyler, whose parents have split in the wake of his brother's suicide, and ally, who lives each day to the fullest since witnessing her mother's murder.\", 'allen coulter', 'robert pattinson, emilie de ravin, caitlyn rund,moisés acevedo', '2010', '113', '7.2', '119376', '19.06', '40', '0', 'Drama']\n",
            "['863', 'alexander and the terrible, horrible, no good, very bad day', 'comedy,family', \"alexander's day begins with gum stuck in his hair, followed by more calamities. however, he finds little sympathy from his family and begins to wonder if bad things only happen to him, his mom, dad, brother and sister - who all find themselves living through their own terrible, horrible, no good, very bad day.\", 'miguel arteta', 'steve carell, jennifer garner, ed oxenbould, dylan minnette', '2014', '81', '6.2', '32310', '66.95', '54', '0', 'Comedy']\n",
            "['864', 'locke', 'drama', 'ivan locke, a dedicated family man and successful construction manager, receives a phone call on the eve of the biggest challenge of his career that sets in motion a series of events that threaten his carefully cultivated existence.', 'steven knight', 'tom hardy, olivia colman, ruth wilson, andrew scott', '2013', '85', '7.1', '100890', '1.36', '81', '0', 'Drama']\n",
            "['866', 'horns', 'drama,fantasy,horror', \"in the aftermath of his girlfriend's mysterious death, a young man awakens to find strange horns sprouting from his temples.\", 'alexandre aja', 'daniel radcliffe, juno temple, max minghella, joe anderson', '2013', '120', '6.5', '61060', '0.16', '46', '0', 'Drama']\n",
            "['867', 'indignation', 'drama,romance', 'in 1951, marcus, a working-class jewish student from new jersey, attends a small ohio college, where he struggles with sexual repression and cultural disaffection, amid the ongoing korean war.', 'james schamus', 'logan lerman, sarah gadon, tijuana ricks, sue dahlman', '2016', '110', '6.9', '7402', '3.4', '78', '0', 'Drama']\n",
            "['868', 'the stanford prison experiment', 'biography,drama,history', 'twenty-four male students out of seventy-five were selected to take on randomly assigned roles of prisoners and guards in a mock prison situated in the basement of the stanford psychology building.', 'kyle patrick alvarez', 'ezra miller, tye sheridan, billy crudup, olivia thirlby', '2015', '122', '6.9', '20907', '0.64', '67', '0', 'Biography']\n",
            "['869', 'diary of a wimpy kid: rodrick rules', 'comedy,family', \"back in middle school after summer vacation, greg heffley and his older brother rodrick must deal with their parents' misguided attempts to have them bond.\", 'david bowers', 'zachary gordon, devon bostick, robert capron,rachael harris', '2011', '99', '6.6', '20194', '52.69', '51', '0', 'Comedy']\n",
            "['870', 'mission: impossible iii', 'action,adventure,thriller', 'agent ethan hunt comes into conflict with a dangerous and sadistic arms dealer who threatens his life and his fianceé in response .', 'j.j. abrams', 'tom cruise, michelle monaghan, ving rhames, philip seymour hoffman', '2006', '126', '6.9', '270429', '133.38', '66', '1', 'Action']\n",
            "['871', 'en man som heter ove', 'comedy,drama', \"ove, an ill-tempered, isolated retiree who spends his days enforcing block association rules and visiting his wife's grave, has finally given up on life just as an unlikely friendship develops with his boisterous new neighbors.\", 'hannes holm', 'rolf lassgård, bahar pars, filip berg, ida engvoll', '2015', '116', '7.7', '21569', '3.36', '70', '0', 'Comedy']\n",
            "['872', 'dragonball evolution', 'action,adventure,fantasy', 'the young warrior son goku sets out on a quest, racing against time and the vengeful king piccolo, to collect a set of seven magical orbs that will grant their wielder unlimited power.', 'james wong', 'justin chatwin, james marsters, yun-fat chow, emmy rossum', '2009', '85', '2.7', '59512', '9.35', '45', '0', 'Action']\n",
            "['873', 'red dawn', 'action,thriller', 'a group of teenagers look to save their town from an invasion of north korean soldiers.', 'dan bradley', 'chris hemsworth, isabel lucas, josh hutcherson, josh peck', '2012', '93', '5.4', '64584', '44.8', '31', '0', 'Action']\n",
            "['874', 'one day', 'drama,romance', 'after spending the night together on the night of their college graduation dexter and em are shown each year on the same date to see where they are in their lives. they are sometimes together, sometimes not, on that day.', 'lone scherfig', 'anne hathaway, jim sturgess, patricia clarkson,tom mison', '2011', '107', '7', '113599', '13.77', '48', '0', 'Drama']\n",
            "['875', 'life as we know it', 'comedy,drama,romance', 'two single adults become caregivers to an orphaned girl when their mutual best friends die in an accident.', 'greg berlanti', 'katherine heigl, josh duhamel, josh lucas, alexis clagett', '2010', '114', '6.6', '101301', '53.36', '39', '0', 'Comedy']\n",
            "['876', '28 weeks later', 'drama,horror,sci-fi', 'six months after the rage virus was inflicted on the population of great britain, the us army helps to secure a small area of london for the survivors to repopulate and start again. but not everything goes to plan.', 'juan carlos fresnadillo', 'jeremy renner, rose byrne, robert carlyle, harold perrineau', '2007', '100', '7', '221858', '28.64', '78', '0', 'Drama']\n",
            "['877', 'warm bodies', 'comedy,horror,romance', 'after a highly unusual zombie saves a still-living girl from an attack, the two form a relationship that sets in motion events that might transform the entire lifeless world.', 'jonathan levine', 'nicholas hoult, teresa palmer, john malkovich,analeigh tipton', '2013', '98', '6.9', '193579', '66.36', '59', '0', 'Comedy']\n",
            "['878', 'blue jasmine', 'drama', \"a new york socialite, deeply troubled and in denial, arrives in san francisco to impose upon her sister. she looks a million, but isn't bringing money, peace, or love...\", 'woody allen', 'cate blanchett, alec baldwin, peter sarsgaard, sally hawkins', '2013', '98', '7.3', '160592', '33.4', '78', '0', 'Drama']\n",
            "['879', 'g.i. joe: retaliation', 'action,adventure,sci-fi', 'the g.i. joes are not only fighting their mortal enemy cobra; they are forced to contend with threats from within the government that jeopardize their very existence.', 'jon m. chu', 'dwayne johnson, channing tatum, adrianne palicki,byung-hun lee', '2013', '110', '5.8', '152145', '122.51', '41', '0', 'Action']\n",
            "['880', 'wrath of the titans', 'action,adventure,fantasy', 'perseus braves the treacherous underworld to rescue his father, zeus, captured by his son, ares, and brother hades who unleash the ancient titans upon the world.', 'jonathan liebesman', 'sam worthington, liam neeson, rosamund pike, ralph fiennes', '2012', '99', '5.8', '159230', '83.64', '37', '0', 'Action']\n",
            "['881', 'shin gojira', 'action,adventure,drama', 'japan is plunged into chaos upon the appearance of a giant monster.', 'hideaki anno', 'hiroki hasegawa, yutaka takenouchi,satomi ishihara, ren ôsugi', '2016', '120', '6.9', '8365', '1.91', '68', '0', 'Action']\n",
            "['882', 'saving mr. banks', 'biography,comedy,drama', 'author p.l. travers reflects on her childhood after reluctantly meeting with walt disney, who seeks to adapt her mary poppins books for the big screen.', 'john lee hancock', 'emma thompson, tom hanks, annie rose buckley, colin farrell', '2013', '125', '7.5', '125693', '83.3', '65', '0', 'Biography']\n",
            "['883', 'transcendence', 'drama,mystery,romance', \"a scientist's drive for artificial intelligence, takes on dangerous implications when his consciousness is uploaded into one such program.\", 'wally pfister', 'johnny depp, rebecca hall, morgan freeman, cillian murphy', '2014', '119', '6.3', '184564', '23.01', '42', '0', 'Drama']\n",
            "['884', 'rio', 'animation,adventure,comedy', 'when blu, a domesticated macaw from small-town minnesota, meets the fiercely independent jewel, he takes off on an adventure to rio de janeiro with the bird of his dreams.', 'carlos saldanha', 'jesse eisenberg, anne hathaway, george lopez,karen disher', '2011', '96', '6.9', '173919', '143.62', '63', '0', 'Animation']\n",
            "['885', 'equals', 'drama,romance,sci-fi', 'in an emotionless utopia, two people fall in love when they regain their feelings from a mysterious disease, causing tensions between them and their society.', 'drake doremus', 'nicholas hoult, kristen stewart, vernetta lopez,scott lawrence', '2015', '101', '6.1', '16361', '0.03', '43', '0', 'Drama']\n",
            "['886', 'babel', 'drama', 'tragedy strikes a married couple on vacation in the moroccan desert, touching off an interlocking story involving four different families.', 'alejandro gonzález iñárritu', 'brad pitt, cate blanchett, gael garcía bernal, mohamed akhzam', '2006', '143', '7.5', '253417', '34.3', '69', '0', 'Drama']\n",
            "['887', 'the tree of life', 'drama,fantasy', \"the story of a family in waco, texas in 1956. the eldest son witnesses the loss of innocence and struggles with his parents' conflicting teachings.\", 'terrence malick', 'brad pitt, sean penn, jessica chastain, hunter mccracken', '2011', '139', '6.8', '143517', '13.3', '85', '0', 'Drama']\n",
            "['888', 'the lucky one', 'drama,romance', 'a marine travels to louisiana after serving three tours in iraq and searches for the unknown woman he believes was his good luck charm during the war.', 'scott hicks', 'zac efron, taylor schilling, blythe danner, riley thomas stewart', '2012', '101', '6.5', '82874', '60.44', '39', '0', 'Drama']\n",
            "['889', 'piranha 3d', 'comedy,horror,thriller', \"after a sudden underwater tremor sets free scores of the prehistoric man-eating fish, an unlikely group of strangers must band together to stop themselves from becoming fish food for the area's new razor-toothed residents.\", 'alexandre aja', \"elisabeth shue, jerry o'connell, richard dreyfuss,ving rhames\", '2010', '88', '5.5', '75262', '25', '53', '0', 'Comedy']\n",
            "['890', '50/50', 'comedy,drama,romance', 'inspired by a true story, a comedy centered on a 27-year-old guy who learns of his cancer diagnosis, and his subsequent struggle to beat the disease.', 'jonathan levine', 'joseph gordon-levitt, seth rogen, anna kendrick, bryce dallas howard', '2011', '100', '7.7', '281625', '34.96', '72', '0', 'Comedy']\n",
            "['893', 'real steel', 'action,drama,family', \"in the near future, robot boxing is a top sport. a struggling promoter feels he's found a champion in a discarded robot.\", 'shawn levy', 'hugh jackman, evangeline lilly, dakota goyo,anthony mackie', '2011', '127', '7.1', '264480', '85.46', '56', '1', 'Action']\n",
            "['894', 'sex and the city', 'comedy,drama,romance', 'a new york writer on sex and love is finally getting married to her mr. big. but her three best girlfriends must console her after one of them inadvertently leads mr. big to jilt her.', 'michael patrick king', 'sarah jessica parker, kim cattrall, cynthia nixon, kristin davis', '2008', '145', '5.5', '102547', '152.64', '53', '0', 'Comedy']\n",
            "['895', 'rambo', 'action,thriller,war', 'in thailand, john rambo joins a group of missionaries to venture into war-torn burma, and rescue a group of christian aid workers who were kidnapped by the ruthless local infantry unit.', 'sylvester stallone', 'sylvester stallone, julie benz, matthew marsden, graham mctavish', '2008', '92', '7.1', '187077', '42.72', '46', '0', 'Action']\n",
            "['898', 'the fall', 'adventure,comedy,drama', 'in a hospital on the outskirts of 1920s los angeles, an injured stuntman begins to tell a fellow patient, a little girl with a broken arm, a fantastic story of five mythical heroes. thanks to his fractured state of mind and her vivid imagination, the line between fiction and reality blurs as the tale advances.', 'tarsem singh', 'lee pace, catinca untaru, justine waddell, kim uylenbroek', '2006', '117', '7.9', '93036', '2.28', '64', '0', 'Adventure']\n",
            "['899', 'the ugly truth', 'comedy,romance', 'a romantically challenged morning show producer is reluctantly embroiled in a series of outrageous tests by her chauvinistic correspondent to prove his theories on relationships and help ... see full summary »', 'robert luketic', 'katherine heigl, gerard butler, bree turner, eric winter', '2009', '96', '6.5', '172558', '88.92', '28', '0', 'Comedy']\n",
            "['900', 'bride wars', 'comedy,romance', 'two best friends become rivals when they schedule their respective weddings on the same day.', 'gary winick', 'kate hudson, anne hathaway, candice bergen, bryan greenberg', '2009', '89', '5.5', '83976', '58.72', '24', '0', 'Comedy']\n",
            "['901', 'sleeping with other people', 'comedy,drama,romance', 'a good-natured womanizer and a serial cheater form a platonic relationship that helps reform them in ways, while a mutual attraction sets in.', 'leslye headland', 'jason sudeikis, alison brie, jordan carlos,margarita levieva', '2015', '101', '6.5', '27730', '0.81', '64', '0', 'Comedy']\n",
            "['902', 'snakes on a plane', 'action,adventure,crime', 'an fbi agent takes on a plane full of deadly and venomous snakes, deliberately released to kill a witness being flown from honolulu to los angeles to testify against a mob boss.', 'david r. ellis', 'samuel l. jackson, julianna margulies, nathan phillips, rachel blanchard', '2006', '105', '5.6', '118905', '34.01', '58', '0', 'Action']\n",
            "['903', 'what if', 'comedy,romance', 'wallace, who is burned out from a string of failed relationships, forms an instant bond with chantry, who lives with her longtime boyfriend. together, they puzzle out what it means if your best friend is also the love of your life.', 'michael dowse', 'daniel radcliffe, zoe kazan, megan park, adam driver', '2013', '98', '6.8', '55243', '3.45', '59', '0', 'Comedy']\n",
            "['904', 'how to train your dragon 2', 'animation,action,adventure', 'when hiccup and toothless discover an ice cave that is home to hundreds of new wild dragons and the mysterious dragon rider, the two friends find themselves at the center of a battle to protect the peace.', 'dean deblois', 'jay baruchel, cate blanchett, gerard butler, craig ferguson', '2014', '102', '7.9', '237565', '177', '76', '1', 'Animation']\n",
            "['905', 'robocop', 'action,crime,sci-fi', 'in 2028 detroit, when alex murphy - a loving husband, father and good cop - is critically injured in the line of duty, the multinational conglomerate omnicorp sees their chance for a part-man, part-robot police officer.', 'josé padilha', 'joel kinnaman, gary oldman, michael keaton, abbie cornish', '2014', '117', '6.2', '190833', '58.61', '52', '0', 'Action']\n",
            "['907', 'hello, my name is doris', 'comedy,drama,romance', 'a self-help seminar inspires a sixty-something woman to romantically pursue her younger co-worker.', 'michael showalter', 'sally field, max greenfield, tyne daly, wendi mclendon-covey', '2015', '95', '6.7', '12361', '14.44', '63', '0', 'Comedy']\n",
            "['908', \"ocean's thirteen\", 'crime,thriller', 'danny ocean rounds up the boys for a third heist, after casino owner willy bank double-crosses one of the original eleven, reuben tishkoff.', 'steven soderbergh', 'george clooney, brad pitt, matt damon,michael mantell', '2007', '122', '6.9', '269581', '117.14', '62', '1', 'Crime']\n",
            "['909', 'slither', 'comedy,horror,sci-fi', 'a small town is taken over by an alien plague, turning residents into zombies and all forms of mutant monsters.', 'james gunn', 'nathan fillion, elizabeth banks, michael rooker, don thompson', '2006', '95', '6.5', '64351', '7.77', '69', '0', 'Comedy']\n",
            "['910', 'contagion', 'drama,thriller', 'healthcare professionals, government officials and everyday people find themselves in the midst of a worldwide epidemic as the cdc works to find a cure.', 'steven soderbergh', 'matt damon, kate winslet, jude law, gwyneth paltrow', '2011', '106', '6.6', '187004', '75.64', '70', '0', 'Drama']\n",
            "['911', 'il racconto dei racconti - tale of tales', 'drama,fantasy,horror', 'from the bitter quest of the queen of longtrellis, to two mysterious sisters who provoke the passion of a king, to the king of highhills obsessed with a giant flea, these tales are inspired by the fairytales by giambattista basile.', 'matteo garrone', 'salma hayek, vincent cassel, toby jones, john c. reilly', '2015', '133', '6.4', '17565', '0.08', '72', '0', 'Drama']\n",
            "['913', 'bridge to terabithia', 'adventure,drama,family', \"a preteen's life turns upside down when he befriends the new girl in school and they imagine a whole new fantasy world to escape reality.\", 'gabor csupo', 'josh hutcherson, annasophia robb, zooey deschanel, robert patrick', '2007', '96', '7.2', '117297', '82.23', '74', '0', 'Adventure']\n",
            "['914', 'coherence', 'mystery,sci-fi,thriller', 'strange things begin to happen when a group of friends gather for a dinner party on an evening when a comet is passing overhead.', 'james ward byrkit', 'emily baldoni, maury sterling, nicholas brendon, elizabeth gracen', '2013', '89', '7.2', '66265', '0.07', '65', '0', 'Mystery']\n",
            "['915', 'notorious', 'biography,crime,drama', 'the life and death story of notorious b.i.g. (a.k.a. christopher wallace), who came straight out of brooklyn to take the world of rap music by storm.', 'george tillman jr.', 'jamal woolard, anthony mackie, derek luke,momo dione', '2009', '122', '6.7', '33007', '36.84', '60', '0', 'Biography']\n",
            "['916', 'goksung', 'drama,fantasy,horror', 'a stranger arrives in a little village and soon after a mysterious sickness starts spreading. a policeman is drawn into the incident and is forced to solve the mystery in order to save his daughter.', 'hong-jin na', 'jun kunimura, jung-min hwang, do-won kwak, woo-hee chun', '2016', '156', '7.5', '17962', '0.79', '81', '0', 'Drama']\n",
            "['917', 'the expendables 2', 'action,adventure,thriller', 'mr. church reunites the expendables for what should be an easy paycheck, but when one of their men is murdered on the job, their quest for revenge puts them deep in enemy territory and up against an unexpected threat.', 'simon west', 'sylvester stallone, liam hemsworth, randy couture,jean-claude van damme', '2012', '103', '6.6', '257395', '85.02', '51', '0', 'Action']\n",
            "['919', 'perfume: the story of a murderer', 'crime,drama,fantasy', \"jean-baptiste grenouille, born with a superior olfactory sense, creates the world's finest perfume. his work, however, takes a dark turn as he searches for the ultimate scent.\", 'tom tykwer', 'ben whishaw, dustin hoffman, alan rickman,francesc albiol', '2006', '147', '7.5', '199387', '2.21', '56', '0', 'Crime']\n",
            "['920', 'the golden compass', 'adventure,family,fantasy', 'in a parallel universe, young lyra belacqua journeys to the far north to save her best friend and other kidnapped children from terrible experiments by a mysterious organization.', 'chris weitz', 'nicole kidman, daniel craig, dakota blue richards, ben walker', '2007', '113', '6.1', '155078', '70.08', '51', '0', 'Adventure']\n",
            "['921', 'centurion', 'action,adventure,drama', 'a splinter group of roman soldiers fight for their lives behind enemy lines after their legion is decimated in a devastating guerrilla attack.', 'neil marshall', 'michael fassbender, dominic west, olga kurylenko,andreas wisniewski', '2010', '97', '6.4', '67801', '0.12', '62', '0', 'Action']\n",
            "['922', 'scouts guide to the zombie apocalypse', 'action,comedy,horror', 'three scouts, on the eve of their last camp-out, discover the true meaning of friendship when they attempt to save their town from a zombie outbreak.', 'christopher landon', 'tye sheridan, logan miller, joey morgan,sarah dumont', '2015', '93', '6.3', '31651', '3.64', '32', '0', 'Action']\n",
            "['923', '17 again', 'comedy,drama,family', \"mike o'donnell is ungrateful for how his life turned out. he gets a chance to rewrite his life when he tried to save a janitor near a bridge and jumped after him into a time vortex.\", 'burr steers', 'zac efron, matthew perry, leslie mann, thomas lennon', '2009', '102', '6.4', '152808', '64.15', '48', '0', 'Comedy']\n",
            "['924', 'no escape', 'action,thriller', 'in their new overseas home, an american family soon finds themselves caught in the middle of a coup, and they frantically look for a safe escape from an environment where foreigners are being immediately executed.', 'john erick dowdle', 'lake bell, pierce brosnan, owen wilson,chatchawai kamonsakpitak', '2015', '103', '6.8', '57921', '27.29', '38', '0', 'Action']\n",
            "['925', 'superman returns', 'action,adventure,sci-fi', 'superman reappears after a long absence, but is challenged by an old foe who uses kryptonian technology for world domination.', 'bryan singer', 'brandon routh, kevin spacey, kate bosworth, james marsden', '2006', '154', '6.1', '246797', '200.07', '72', '0', 'Action']\n",
            "['926', 'the twilight saga: breaking dawn - part 1', 'adventure,drama,fantasy', 'the quileutes close in on expecting parents edward and bella, whose unborn child poses a threat to the wolf pack and the towns people of forks.', 'bill condon', 'kristen stewart, robert pattinson, taylor lautner, gil birmingham', '2011', '117', '4.9', '190244', '281.28', '45', '0', 'Adventure']\n",
            "['927', 'precious', 'drama', \"in new york city's harlem circa 1987, an overweight, abused, illiterate teen who is pregnant with her second child is invited to enroll in an alternative school in hopes that her life can head in a new direction.\", 'lee daniels', \"gabourey sidibe, mo'nique, paula patton, mariah carey\", '2009', '110', '7.3', '91623', '47.54', '79', '0', 'Drama']\n",
            "['928', 'the sea of trees', 'drama', 'a suicidal american befriends a japanese man lost in a forest near mt. fuji and the two search for a way out.', 'gus van sant', 'matthew mcconaughey, naomi watts, ken watanabe,ryoko seta', '2015', '110', '5.9', '7475', '0.02', '23', '0', 'Drama']\n",
            "['931', 'footloose', 'comedy,drama,music', 'city teenager ren maccormack moves to a small town where rock music and dancing have been banned, and his rebellious spirit shakes up the populace.', 'craig brewer', 'kenny wormald, julianne hough, dennis quaid,andie macdowell', '2011', '113', '5.9', '39380', '51.78', '58', '0', 'Comedy']\n",
            "['932', 'if i stay', 'drama,fantasy,music', 'life changes in an instant for young mia hall after a car accident puts her in a coma. during an out-of-body experience, she must decide whether to wake up and live a life far different than she had imagined. the choice is hers if she can go on.', 'r.j. cutler', 'chloë grace moretz, mireille enos, jamie blackley,joshua leonard', '2014', '107', '6.8', '92170', '50.46', '46', '0', 'Drama']\n",
            "['935', 'the love witch', 'comedy,horror', 'a modern-day witch uses spells and magic to get men to fall in love with her.', 'anna biller', 'samantha robinson, jeffrey vincent parise, laura waddell, gian keys', '2016', '120', '6.2', '4669', '0.22', '82', '0', 'Comedy']\n",
            "['936', 'talladega nights: the ballad of ricky bobby', 'action,comedy,sport', \"#1 nascar driver ricky bobby stays atop the heap thanks to a pact with his best friend and teammate, cal naughton, jr. but when a french formula one driver, makes his way up the ladder, ricky bobby's talent and devotion are put to the test.\", 'adam mckay', 'will ferrell, john c. reilly, sacha baron cohen, gary cole', '2006', '108', '6.6', '137502', '148.21', '66', '0', 'Action']\n",
            "['937', 'the human centipede (first sequence)', 'horror', \"a mad scientist kidnaps and mutilates a trio of tourists in order to reassemble them into a human centipede, created by stitching their mouths to each others' rectums.\", 'tom six', 'dieter laser, ashley c. williams, ashlynn yennie, akihiro kitamura', '2009', '92', '4.4', '60655', '0.18', '33', '0', 'Horror']\n",
            "['938', 'super', 'comedy,drama', 'after his wife falls under the influence of a drug dealer, an everyday guy transforms himself into crimson bolt, a superhero with the best intentions, but lacking in heroic skills.', 'james gunn', 'rainn wilson, ellen page, liv tyler, kevin bacon', '2010', '96', '6.8', '64535', '0.32', '50', '0', 'Comedy']\n",
            "['941', 'the midnight meat train', 'horror,mystery', \"a photographer's obsessive pursuit of dark subject matter leads him into the path of a serial killer who stalks late night commuters, ultimately butchering them in the most gruesome ways imaginable.\", 'ryûhei kitamura', 'vinnie jones, bradley cooper, leslie bibb, brooke shields', '2008', '98', '6.1', '50255', '0.07', '58', '0', 'Horror']\n",
            "['942', 'the twilight saga: eclipse', 'adventure,drama,fantasy', 'as a string of mysterious killings grips seattle, bella, whose high school graduation is fast approaching, is forced to choose between her love for vampire edward and her friendship with werewolf jacob.', 'david slade', 'kristen stewart, robert pattinson, taylor lautner,xavier samuel', '2010', '124', '4.9', '192740', '300.52', '58', '0', 'Adventure']\n",
            "['944', \"what's your number?\", 'comedy,romance', \"a woman looks back at the past nineteen men she's had relationships with in her life and wonders if one of them might be her one true love.\", 'mark mylod', 'anna faris, chris evans, ari graynor, blythe danner', '2011', '106', '6.1', '62095', '13.99', '35', '0', 'Comedy']\n",
            "['945', 'riddick', 'action,sci-fi,thriller', \"left for dead on a sun-scorched planet, riddick finds himself up against an alien race of predators. activating an emergency beacon alerts two ships: one carrying a new breed of mercenary, the other captained by a man from riddick's past.\", 'david twohy', 'vin diesel, karl urban, katee sackhoff, jordi mollà', '2013', '119', '6.4', '132098', '42', '49', '0', 'Action']\n",
            "['948', 'king cobra', 'crime,drama', 'this ripped-from-the-headlines drama covers the early rise of gay porn headliner sean paul lockhart a.k.a. brent corrigan, before his falling out with the producer who made him famous. when... see full summary »', 'justin kelly', 'garrett clayton, christian slater, molly ringwald,james kelley', '2016', '91', '5.6', '3990', '0.03', '48', '0', 'Crime']\n",
            "['949', 'after earth', 'action,adventure,sci-fi', \"a crash landing leaves kitai raige and his father cypher stranded on earth, a millennium after events forced humanity's escape. with cypher injured, kitai must embark on a perilous journey to signal for help.\", 'm. night shyamalan', 'jaden smith, david denman, will smith,sophie okonedo', '2013', '100', '4.9', '166512', '60.52', '33', '0', 'Action']\n",
            "['950', 'kicks', 'adventure', \"brandon is a 15 year old whose dream is a pair of fresh air jordans. soon after he gets his hands on them, they're stolen by a local hood, causing brandon and his two friends to go on a dangerous mission through oakland to retrieve them.\", 'justin tipping', 'jahking guillory, christopher jordan wallace,christopher meyer, kofi siriboe', '2016', '80', '6.1', '2417', '0.15', '69', '0', 'Adventure']\n",
            "['951', 'me and earl and the dying girl', 'comedy,drama', 'high schooler greg, who spends most of his time making parodies of classic movies with his co-worker earl, finds his outlook forever altered after befriending a classmate who has just been diagnosed with cancer.', 'alfonso gomez-rejon', 'thomas mann, rj cyler, olivia cooke, nick offerman', '2015', '105', '7.8', '92076', '6.74', '74', '0', 'Comedy']\n",
            "['952', 'the descendants', 'comedy,drama', 'a land baron tries to reconnect with his two daughters after his wife is seriously injured in a boating accident.', 'alexander payne', 'george clooney, shailene woodley, amara miller, nick krause', '2011', '115', '7.3', '211348', '82.62', '84', '0', 'Comedy']\n",
            "['953', 'sex and the city 2', 'comedy,drama,romance', \"while wrestling with the pressures of life, love, and work in manhattan, carrie, miranda, and charlotte join samantha for a trip to abu dhabi (united arab emirates), where samantha's ex is filming a new movie.\", 'michael patrick king', 'sarah jessica parker, kim cattrall, kristin davis, cynthia nixon', '2010', '146', '4.3', '62403', '95.33', '27', '0', 'Comedy']\n",
            "['954', 'the kings of summer', 'adventure,comedy,drama', 'three teenage friends, in the ultimate act of independence, decide to spend their summer building a house in the woods and living off the land.', 'jordan vogt-roberts', 'nick robinson, gabriel basso, moises arias,nick offerman', '2013', '95', '7.2', '65653', '1.29', '61', '0', 'Adventure']\n",
            "['955', 'death race', 'action,sci-fi,thriller', \"ex-con jensen ames is forced by the warden of a notorious prison to compete in our post-industrial world's most popular sport: a car race in which inmates must brutalize and kill one another on the road to victory.\", 'paul w.s. anderson', 'jason statham, joan allen, tyrese gibson, ian mcshane', '2008', '105', '6.4', '173731', '36.06', '43', '0', 'Action']\n",
            "['956', 'that awkward moment', 'comedy,romance', 'three best friends find themselves where we\\'ve all been - at that confusing moment in every dating relationship when you have to decide \"so...where is this going?\"', 'tom gormican', 'zac efron, michael b. jordan, miles teller, imogen poots', '2014', '94', '6.2', '81823', '26.05', '36', '0', 'Comedy']\n",
            "['957', 'legion', 'action,fantasy,horror', \"when a group of strangers at a dusty roadside diner come under attack by demonic forces, their only chance for survival lies with an archangel named michael, who informs a pregnant waitress that her unborn child is humanity's last hope.\", 'scott stewart', 'paul bettany, dennis quaid, charles s. dutton, lucas black', '2010', '100', '5.2', '84158', '40.17', '32', '0', 'Action']\n",
            "['958', 'end of watch', 'crime,drama,thriller', 'shot documentary-style, this film follows the daily grind of two young police officers in la who are partners and friends, and what happens when they meet criminal forces greater than themselves.', 'david ayer', 'jake gyllenhaal, michael peña, anna kendrick, america ferrera', '2012', '109', '7.7', '192190', '40.98', '68', '0', 'Crime']\n",
            "['959', '3 days to kill', 'action,drama,thriller', 'a dying cia agent trying to reconnect with his estranged daughter is offered an experimental drug that could save his life in exchange for one last assignment.', 'mcg', 'kevin costner, hailee steinfeld, connie nielsen, amber heard', '2014', '117', '6.2', '73567', '30.69', '40', '0', 'Action']\n",
            "['960', 'lucky number slevin', 'crime,drama,mystery', \"a case of mistaken identity lands slevin into the middle of a war being plotted by two of the city's most rival crime bosses: the rabbi and the boss. slevin is under constant surveillance by relentless detective brikowski as well as the infamous assassin goodkat and finds himself having to hatch his own ingenious plot to get them before they get him.\", 'paul mcguigan', 'josh hartnett, ben kingsley, morgan freeman, lucy liu', '2006', '110', '7.8', '271940', '22.49', '53', '0', 'Crime']\n",
            "['961', 'trance', 'crime,drama,mystery', 'an art auctioneer who has become mixed up with a group of criminals partners with a hypnotherapist in order to recover a lost painting.', 'danny boyle', 'james mcavoy, rosario dawson, vincent cassel,danny sapani', '2013', '101', '7', '97141', '2.32', '61', '0', 'Crime']\n",
            "['962', 'into the forest', 'drama,sci-fi,thriller', 'after a massive power outage, two sisters learn to survive on their own in their isolated woodland home.', 'patricia rozema', 'ellen page, evan rachel wood, max minghella,callum keith rennie', '2015', '101', '5.9', '10220', '0.01', '59', '0', 'Drama']\n",
            "['963', 'the other boleyn girl', 'biography,drama,history', 'two sisters contend for the affection of king henry viii.', 'justin chadwick', 'natalie portman, scarlett johansson, eric bana,jim sturgess', '2008', '115', '6.7', '88260', '26.81', '50', '0', 'Biography']\n",
            "['964', 'i spit on your grave', 'crime,horror,thriller', 'a writer who is brutalized during her cabin retreat seeks revenge on her attackers, who left her for dead.', 'steven r. monroe', 'sarah butler, jeff branson, andrew howard,daniel franzese', '2010', '108', '6.3', '60133', '0.09', '27', '0', 'Crime']\n",
            "['971', 'texas chainsaw 3d', 'horror,thriller', 'a young woman travels to texas to collect an inheritance; little does she know that an encounter with a chainsaw-wielding killer is part of the reward.', 'john luessenhop', 'alexandra daddario, tania raymonde, scott eastwood, trey songz', '2013', '92', '4.8', '37060', '34.33', '62', '0', 'Horror']\n",
            "['973', 'rock of ages', 'comedy,drama,musical', 'a small town girl and a city boy meet on the sunset strip, while pursuing their hollywood dreams.', 'adam shankman', 'julianne hough, diego boneta, tom cruise, alec baldwin', '2012', '123', '5.9', '64513', '38.51', '47', '0', 'Comedy']\n",
            "['974', 'scream 4', 'horror,mystery', 'ten years have passed, and sidney prescott, who has put herself back together thanks in part to her writing, is visited by the ghostface killer.', 'wes craven', 'neve campbell, courteney cox, david arquette, lucy hale', '2011', '111', '6.2', '108544', '38.18', '52', '0', 'Horror']\n",
            "['975', 'queen of katwe', 'biography,drama,sport', 'a ugandan girl sees her world rapidly change after being introduced to the game of chess.', 'mira nair', \"madina nalwanga, david oyelowo, lupita nyong'o, martin kabanza\", '2016', '124', '7.4', '6753', '8.81', '73', '0', 'Biography']\n",
            "['976', 'my big fat greek wedding 2', 'comedy,family,romance', 'a portokalos family secret brings the beloved characters back together for an even bigger and greeker wedding.', 'kirk jones', 'nia vardalos, john corbett, michael constantine, lainie kazan', '2016', '94', '6', '20966', '59.57', '37', '0', 'Comedy']\n",
            "['980', 'the skin i live in', 'drama,thriller', 'a brilliant plastic surgeon, haunted by past tragedies, creates a type of synthetic skin that withstands any kind of damage. his guinea pig: a mysterious and volatile woman who holds the key to his obsession.', 'pedro almodóvar', 'antonio banderas, elena anaya, jan cornet,marisa paredes', '2011', '120', '7.6', '108772', '3.19', '70', '0', 'Drama']\n",
            "['981', 'miracles from heaven', 'biography,drama,family', 'a young girl suffering from a rare digestive disorder finds herself miraculously cured after surviving a terrible accident.', 'patricia riggen', 'jennifer garner, kylie rogers, martin henderson,brighton sharbino', '2016', '109', '7', '12048', '61.69', '44', '0', 'Biography']\n",
            "['982', 'annie', 'comedy,drama,family', 'a foster kid, who lives with her mean foster mom, sees her life change when business tycoon and new york mayoral candidate will stacks makes a thinly-veiled campaign move and takes her in.', 'will gluck', 'quvenzhané wallis, cameron diaz, jamie foxx, rose byrne', '2014', '118', '5.3', '27312', '85.91', '33', '0', 'Comedy']\n",
            "['983', 'across the universe', 'drama,fantasy,musical', 'the music of the beatles and the vietnam war form the backdrop for the romance between an upper-class american girl and a poor liverpudlian artist.', 'julie taymor', 'evan rachel wood, jim sturgess, joe anderson, dana fuchs', '2007', '133', '7.4', '95172', '24.34', '56', '0', 'Drama']\n",
            "['984', \"let's be cops\", 'comedy', 'two struggling pals dress as police officers for a costume party and become neighborhood sensations. but when these newly-minted \"heroes\" get tangled in a real life web of mobsters and dirty detectives, they must put their fake badges on the line.', 'luke greenfield', 'jake johnson, damon wayans jr., rob riggle, nina dobrev', '2014', '104', '6.5', '112729', '82.39', '30', '0', 'Comedy']\n",
            "['985', 'max', 'adventure,family', \"a malinois dog that helped american marines in afghanistan returns to the united states and is adopted by his handler's family after suffering a traumatic experience.\", 'boaz yakin', 'thomas haden church, josh wiggins, luke kleintank,lauren graham', '2015', '111', '6.8', '21405', '42.65', '47', '0', 'Adventure']\n",
            "['986', 'your highness', 'adventure,comedy,fantasy', \"when prince fabious's bride is kidnapped, he goes on a quest to rescue her... accompanied by his lazy useless brother thadeous.\", 'david gordon green', 'danny mcbride, natalie portman, james franco, rasmus hardiker', '2011', '102', '5.6', '87904', '21.56', '31', '0', 'Adventure']\n",
            "['987', 'final destination 5', 'horror,thriller', \"survivors of a suspension-bridge collapse learn there's no way you can cheat death.\", 'steven quale', \"nicholas d'agosto, emma bell, arlen escarpeta, miles fisher\", '2011', '92', '5.9', '88000', '42.58', '50', '0', 'Horror']\n",
            "['988', 'endless love', 'drama,romance', 'the story of a privileged girl and a charismatic boy whose instant desire sparks a love affair made only more reckless by parents trying to keep them apart.', 'shana feste', 'gabriella wilde, alex pettyfer, bruce greenwood,robert patrick', '2014', '104', '6.3', '33688', '23.39', '30', '0', 'Drama']\n",
            "['991', 'underworld: rise of the lycans', 'action,adventure,fantasy', 'an origins story centered on the centuries-old feud between the race of aristocratic vampires and their onetime slaves, the lycans.', 'patrick tatopoulos', 'rhona mitra, michael sheen, bill nighy, steven mackintosh', '2009', '92', '6.6', '129708', '45.8', '44', '0', 'Action']\n",
            "['992', 'taare zameen par', 'drama,family,music', 'an eight-year-old boy is thought to be a lazy trouble-maker, until the new art teacher has the patience and compassion to discover the real problem behind his struggles in school.', 'aamir khan', 'darsheel safary, aamir khan, tanay chheda, sachet engineer', '2007', '165', '8.5', '102697', '1.2', '42', '0', 'Drama']\n",
            "['994', 'resident evil: afterlife', 'action,adventure,horror', 'while still out to destroy the evil umbrella corporation, alice joins a group of survivors living in a prison surrounded by the infected who also want to relocate to the mysterious but supposedly unharmed safe haven known only as arcadia.', 'paul w.s. anderson', 'milla jovovich, ali larter, wentworth miller,kim coates', '2010', '97', '5.9', '140900', '60.13', '37', '0', 'Action']\n",
            "['995', 'project x', 'comedy', '3 high school seniors throw a birthday party to make a name for themselves. as the night progresses, things spiral out of control as word of the party spreads.', 'nima nourizadeh', 'thomas mann, oliver cooper, jonathan daniel brown, dax flame', '2012', '88', '6.7', '164088', '54.72', '48', '0', 'Comedy']\n",
            "['997', 'hostel: part ii', 'horror', 'three american college students studying abroad are lured to a slovakian hostel, and discover the grim reality behind it.', 'eli roth', 'lauren german, heather matarazzo, bijou phillips, roger bart', '2007', '94', '5.5', '73152', '17.54', '46', '0', 'Horror']\n",
            "['998', 'step up 2: the streets', 'drama,music,romance', 'romantic sparks occur between two dance students from different backgrounds at the maryland school of the arts.', 'jon m. chu', 'robert hoffman, briana evigan, cassie ventura, adam g. sevani', '2008', '98', '6.2', '70699', '58.01', '50', '0', 'Drama']\n",
            "['1000', 'nine lives', 'comedy,family,fantasy', \"a stuffy businessman finds himself trapped inside the body of his family's cat.\", 'barry sonnenfeld', 'kevin spacey, jennifer garner, robbie amell,cheryl hines', '2016', '87', '5.3', '12435', '19.64', '11', '0', 'Comedy']\n",
            "['', '', '', '', '', '', '', '', '6.814319809', '193230.2518', '84.56455847', '', '', 'nan']\n"
          ],
          "name": "stdout"
        }
      ]
    },
    {
      "cell_type": "code",
      "metadata": {
        "colab": {
          "resources": {
            "http://localhost:8080/nbextensions/google.colab/files.js": {
              "data": "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",
              "ok": true,
              "headers": [
                [
                  "content-type",
                  "application/javascript"
                ]
              ],
              "status": 200,
              "status_text": ""
            }
          },
          "base_uri": "https://localhost:8080/",
          "height": 73
        },
        "id": "w1Eq1Rh7K1k0",
        "outputId": "8029fc2f-c3b7-4b20-e249-cfc09d5371c2"
      },
      "source": [
        "from google.colab import files\n",
        "uploaded = files.upload()"
      ],
      "execution_count": null,
      "outputs": [
        {
          "output_type": "display_data",
          "data": {
            "text/html": [
              "\n",
              "     <input type=\"file\" id=\"files-f4219ddd-65cf-4bfb-ad46-eb56dc460655\" name=\"files[]\" multiple disabled\n",
              "        style=\"border:none\" />\n",
              "     <output id=\"result-f4219ddd-65cf-4bfb-ad46-eb56dc460655\">\n",
              "      Upload widget is only available when the cell has been executed in the\n",
              "      current browser session. Please rerun this cell to enable.\n",
              "      </output>\n",
              "      <script src=\"/nbextensions/google.colab/files.js\"></script> "
            ],
            "text/plain": [
              "<IPython.core.display.HTML object>"
            ]
          },
          "metadata": {
            "tags": []
          }
        },
        {
          "output_type": "stream",
          "text": [
            "Saving New_Data.csv to New_Data.csv\n"
          ],
          "name": "stdout"
        }
      ]
    },
    {
      "cell_type": "code",
      "metadata": {
        "colab": {
          "base_uri": "https://localhost:8080/",
          "height": 346
        },
        "id": "GWGw4xKqLE7L",
        "outputId": "367b8b53-0790-468a-9389-f1f203aa5afd"
      },
      "source": [
        "df1 = pd.read_csv(io.BytesIO(uploaded['New_Data.csv']))\n",
        "df1.head()"
      ],
      "execution_count": null,
      "outputs": [
        {
          "output_type": "execute_result",
          "data": {
            "text/html": [
              "<div>\n",
              "<style scoped>\n",
              "    .dataframe tbody tr th:only-of-type {\n",
              "        vertical-align: middle;\n",
              "    }\n",
              "\n",
              "    .dataframe tbody tr th {\n",
              "        vertical-align: top;\n",
              "    }\n",
              "\n",
              "    .dataframe thead th {\n",
              "        text-align: right;\n",
              "    }\n",
              "</style>\n",
              "<table border=\"1\" class=\"dataframe\">\n",
              "  <thead>\n",
              "    <tr style=\"text-align: right;\">\n",
              "      <th></th>\n",
              "      <th>Rank</th>\n",
              "      <th>Title</th>\n",
              "      <th>Genre</th>\n",
              "      <th>Description</th>\n",
              "      <th>Actor1</th>\n",
              "      <th>Actor2</th>\n",
              "      <th>Actor3</th>\n",
              "      <th>Actor4</th>\n",
              "      <th>Director</th>\n",
              "      <th>Genre2</th>\n",
              "      <th>Year</th>\n",
              "      <th>Runtime (Minutes)</th>\n",
              "      <th>Rating</th>\n",
              "      <th>Votes</th>\n",
              "      <th>Revenue (Millions)</th>\n",
              "      <th>Metascore</th>\n",
              "      <th>Success</th>\n",
              "    </tr>\n",
              "  </thead>\n",
              "  <tbody>\n",
              "    <tr>\n",
              "      <th>0</th>\n",
              "      <td>1.0</td>\n",
              "      <td>guardians of the galaxy</td>\n",
              "      <td>action,adventure,sci-fi</td>\n",
              "      <td>a group of intergalactic criminals are forced ...</td>\n",
              "      <td>chris pratt</td>\n",
              "      <td>vin diesel</td>\n",
              "      <td>bradley cooper</td>\n",
              "      <td>zoe saldana</td>\n",
              "      <td>james gunn</td>\n",
              "      <td>Action</td>\n",
              "      <td>2014.0</td>\n",
              "      <td>121.0</td>\n",
              "      <td>8.1</td>\n",
              "      <td>757074.0</td>\n",
              "      <td>333.13</td>\n",
              "      <td>76.0</td>\n",
              "      <td>1.0</td>\n",
              "    </tr>\n",
              "    <tr>\n",
              "      <th>1</th>\n",
              "      <td>2.0</td>\n",
              "      <td>prometheus</td>\n",
              "      <td>adventure,mystery,sci-fi</td>\n",
              "      <td>following clues to the origin of mankind, a te...</td>\n",
              "      <td>noomi rapace</td>\n",
              "      <td>logan marshall-green</td>\n",
              "      <td>michael fassbender</td>\n",
              "      <td>charlize theron</td>\n",
              "      <td>ridley scott</td>\n",
              "      <td>Adventure</td>\n",
              "      <td>2012.0</td>\n",
              "      <td>124.0</td>\n",
              "      <td>7.0</td>\n",
              "      <td>485820.0</td>\n",
              "      <td>126.46</td>\n",
              "      <td>65.0</td>\n",
              "      <td>1.0</td>\n",
              "    </tr>\n",
              "    <tr>\n",
              "      <th>2</th>\n",
              "      <td>3.0</td>\n",
              "      <td>split</td>\n",
              "      <td>horror,thriller</td>\n",
              "      <td>three girls are kidnapped by a man with a diag...</td>\n",
              "      <td>james mcavoy</td>\n",
              "      <td>anya taylor-joy</td>\n",
              "      <td>haley lu richardson</td>\n",
              "      <td>jessica sula</td>\n",
              "      <td>m. night shyamalan</td>\n",
              "      <td>Horror</td>\n",
              "      <td>2016.0</td>\n",
              "      <td>117.0</td>\n",
              "      <td>7.3</td>\n",
              "      <td>157606.0</td>\n",
              "      <td>138.12</td>\n",
              "      <td>62.0</td>\n",
              "      <td>0.0</td>\n",
              "    </tr>\n",
              "    <tr>\n",
              "      <th>3</th>\n",
              "      <td>4.0</td>\n",
              "      <td>sing</td>\n",
              "      <td>animation,comedy,family</td>\n",
              "      <td>in a city of humanoid animals, a hustling thea...</td>\n",
              "      <td>matthew mcconaughey</td>\n",
              "      <td>reese witherspoon</td>\n",
              "      <td>seth macfarlane</td>\n",
              "      <td>scarlett johansson</td>\n",
              "      <td>christophe lourdelet</td>\n",
              "      <td>Animation</td>\n",
              "      <td>2016.0</td>\n",
              "      <td>108.0</td>\n",
              "      <td>7.2</td>\n",
              "      <td>60545.0</td>\n",
              "      <td>270.32</td>\n",
              "      <td>59.0</td>\n",
              "      <td>0.0</td>\n",
              "    </tr>\n",
              "    <tr>\n",
              "      <th>4</th>\n",
              "      <td>5.0</td>\n",
              "      <td>suicide squad</td>\n",
              "      <td>action,adventure,fantasy</td>\n",
              "      <td>a secret government agency recruits some of th...</td>\n",
              "      <td>will smith</td>\n",
              "      <td>jared leto</td>\n",
              "      <td>margot robbie</td>\n",
              "      <td>viola davis</td>\n",
              "      <td>david ayer</td>\n",
              "      <td>Action</td>\n",
              "      <td>2016.0</td>\n",
              "      <td>123.0</td>\n",
              "      <td>6.2</td>\n",
              "      <td>393727.0</td>\n",
              "      <td>325.02</td>\n",
              "      <td>40.0</td>\n",
              "      <td>0.0</td>\n",
              "    </tr>\n",
              "  </tbody>\n",
              "</table>\n",
              "</div>"
            ],
            "text/plain": [
              "   Rank                    Title  ... Metascore Success\n",
              "0   1.0  guardians of the galaxy  ...      76.0     1.0\n",
              "1   2.0               prometheus  ...      65.0     1.0\n",
              "2   3.0                    split  ...      62.0     0.0\n",
              "3   4.0                     sing  ...      59.0     0.0\n",
              "4   5.0            suicide squad  ...      40.0     0.0\n",
              "\n",
              "[5 rows x 17 columns]"
            ]
          },
          "metadata": {
            "tags": []
          },
          "execution_count": 13
        }
      ]
    },
    {
      "cell_type": "code",
      "metadata": {
        "id": "UDSSD2c8c9Gs"
      },
      "source": [
        "df1=df1.dropna(axis=0, how='any')"
      ],
      "execution_count": null,
      "outputs": []
    },
    {
      "cell_type": "code",
      "metadata": {
        "id": "Pa34XL4QuHUy",
        "colab": {
          "base_uri": "https://localhost:8080/"
        },
        "outputId": "4834a970-2039-46de-8b2f-69dace82f551"
      },
      "source": [
        "print(df1['Success'].value_counts())"
      ],
      "execution_count": null,
      "outputs": [
        {
          "output_type": "stream",
          "text": [
            "0.0    688\n",
            "1.0    149\n",
            "Name: Success, dtype: int64\n"
          ],
          "name": "stdout"
        }
      ]
    },
    {
      "cell_type": "code",
      "metadata": {
        "id": "zoiyDGP6Jl6Y",
        "colab": {
          "base_uri": "https://localhost:8080/"
        },
        "outputId": "e08d10bb-8f64-4191-aae2-d222c0b824f2"
      },
      "source": [
        "X = df1.iloc[:, :-1].values # attributes to determine dependent variable / Class\n",
        "print(X)"
      ],
      "execution_count": null,
      "outputs": [
        {
          "output_type": "stream",
          "text": [
            "[[1.0 'guardians of the galaxy' 'action,adventure,sci-fi' ... 757074.0\n",
            "  333.13 76.0]\n",
            " [2.0 'prometheus' 'adventure,mystery,sci-fi' ... 485820.0 126.46 65.0]\n",
            " [3.0 'split' 'horror,thriller' ... 157606.0 138.12 62.0]\n",
            " ...\n",
            " [997.0 'hostel: part ii' 'horror' ... 73152.0 17.54 46.0]\n",
            " [998.0 'step up 2: the streets' 'drama,music,romance' ... 70699.0 58.01\n",
            "  50.0]\n",
            " [1000.0 'nine lives' 'comedy,family,fantasy' ... 12435.0 19.64 11.0]]\n"
          ],
          "name": "stdout"
        }
      ]
    },
    {
      "cell_type": "code",
      "metadata": {
        "id": "UO_9R3g9JwNy",
        "colab": {
          "base_uri": "https://localhost:8080/"
        },
        "outputId": "797559f1-2464-4b2f-ea90-b7e535708a60"
      },
      "source": [
        "Y = df1.iloc[:, -1].values # dependent variable / Class\n",
        "print(Y)"
      ],
      "execution_count": null,
      "outputs": [
        {
          "output_type": "stream",
          "text": [
            "[1. 1. 0. 0. 0. 0. 1. 0. 0. 1. 0. 1. 0. 0. 0. 0. 0. 0. 1. 0. 0. 0. 0. 0.\n",
            " 0. 0. 0. 1. 1. 0. 1. 1. 1. 0. 0. 0. 0. 0. 0. 0. 0. 1. 0. 0. 0. 1. 0. 0.\n",
            " 0. 0. 0. 0. 0. 0. 0. 1. 0. 1. 0. 0. 0. 0. 0. 1. 1. 1. 1. 1. 0. 1. 0. 1.\n",
            " 1. 1. 1. 0. 1. 0. 0. 0. 0. 1. 0. 1. 0. 0. 0. 0. 1. 0. 1. 1. 0. 0. 0. 0.\n",
            " 0. 0. 0. 1. 1. 0. 0. 0. 0. 0. 0. 0. 1. 1. 0. 0. 0. 1. 0. 0. 0. 0. 1. 0.\n",
            " 0. 1. 1. 1. 0. 0. 0. 1. 0. 0. 1. 1. 0. 0. 1. 0. 0. 0. 1. 0. 0. 0. 0. 1.\n",
            " 0. 1. 0. 0. 0. 0. 0. 0. 0. 0. 1. 0. 1. 1. 0. 1. 0. 0. 0. 0. 0. 0. 0. 0.\n",
            " 0. 0. 0. 0. 1. 0. 1. 0. 1. 0. 0. 1. 0. 1. 0. 0. 0. 0. 0. 1. 1. 0. 1. 0.\n",
            " 0. 0. 1. 0. 1. 1. 0. 0. 0. 1. 0. 0. 0. 1. 0. 0. 0. 0. 0. 0. 1. 1. 0. 0.\n",
            " 0. 1. 0. 0. 0. 0. 0. 0. 0. 0. 1. 1. 0. 1. 0. 0. 0. 1. 0. 0. 0. 0. 0. 0.\n",
            " 0. 1. 1. 1. 0. 1. 1. 0. 0. 1. 1. 1. 0. 0. 0. 0. 0. 0. 0. 0. 0. 1. 0. 0.\n",
            " 0. 0. 0. 1. 1. 0. 0. 0. 0. 0. 0. 0. 1. 0. 0. 1. 1. 0. 0. 0. 1. 0. 0. 0.\n",
            " 0. 1. 0. 0. 0. 0. 0. 0. 1. 0. 1. 0. 1. 1. 0. 0. 0. 0. 0. 0. 0. 0. 1. 0.\n",
            " 0. 0. 0. 0. 0. 0. 0. 0. 0. 1. 0. 1. 0. 0. 1. 0. 1. 0. 0. 0. 0. 0. 0. 0.\n",
            " 0. 0. 0. 0. 0. 0. 0. 1. 0. 0. 0. 0. 0. 0. 0. 0. 0. 0. 0. 0. 0. 0. 1. 0.\n",
            " 0. 1. 1. 0. 0. 1. 0. 1. 0. 0. 1. 0. 0. 0. 0. 0. 0. 1. 0. 1. 0. 0. 1. 1.\n",
            " 0. 0. 0. 0. 0. 0. 0. 0. 0. 1. 0. 1. 0. 0. 0. 0. 0. 0. 0. 0. 0. 1. 0. 0.\n",
            " 0. 1. 0. 0. 1. 0. 1. 0. 0. 1. 1. 0. 0. 0. 0. 0. 0. 0. 0. 0. 1. 0. 1. 0.\n",
            " 0. 0. 1. 0. 1. 0. 1. 0. 0. 0. 0. 0. 0. 1. 0. 0. 0. 0. 0. 0. 0. 1. 0. 0.\n",
            " 0. 0. 0. 0. 0. 0. 0. 0. 0. 0. 0. 0. 0. 0. 0. 0. 0. 0. 0. 0. 0. 0. 0. 0.\n",
            " 0. 0. 0. 0. 0. 0. 0. 1. 0. 0. 0. 1. 0. 0. 0. 0. 0. 0. 0. 0. 0. 0. 1. 0.\n",
            " 0. 0. 0. 0. 0. 0. 0. 0. 1. 0. 0. 0. 0. 0. 0. 0. 0. 0. 0. 0. 0. 0. 0. 1.\n",
            " 0. 0. 0. 0. 0. 0. 0. 0. 0. 0. 0. 0. 0. 0. 0. 0. 0. 0. 0. 0. 0. 1. 0. 0.\n",
            " 0. 0. 1. 0. 0. 0. 0. 0. 0. 0. 1. 0. 0. 0. 0. 1. 0. 0. 0. 0. 0. 0. 0. 0.\n",
            " 0. 0. 0. 0. 0. 0. 0. 0. 0. 0. 0. 0. 0. 0. 1. 0. 0. 1. 0. 0. 0. 0. 1. 0.\n",
            " 1. 1. 1. 0. 0. 0. 0. 0. 0. 0. 0. 0. 0. 0. 0. 0. 0. 0. 0. 0. 0. 0. 0. 0.\n",
            " 0. 0. 0. 0. 0. 0. 0. 0. 0. 0. 0. 0. 0. 0. 0. 0. 1. 0. 0. 0. 0. 0. 0. 0.\n",
            " 0. 1. 0. 0. 0. 0. 0. 0. 0. 0. 0. 0. 1. 0. 0. 0. 0. 0. 0. 0. 0. 1. 0. 0.\n",
            " 0. 0. 0. 0. 0. 0. 0. 0. 1. 0. 0. 0. 0. 0. 0. 0. 0. 0. 0. 0. 0. 0. 0. 0.\n",
            " 1. 0. 0. 0. 0. 0. 0. 0. 0. 0. 0. 0. 0. 0. 0. 0. 0. 0. 0. 0. 1. 0. 0. 0.\n",
            " 0. 0. 0. 0. 1. 0. 0. 0. 0. 0. 0. 0. 0. 0. 0. 0. 0. 1. 0. 0. 0. 0. 0. 0.\n",
            " 0. 0. 0. 0. 0. 0. 0. 0. 0. 0. 0. 0. 0. 0. 1. 0. 0. 0. 0. 0. 0. 0. 0. 1.\n",
            " 0. 0. 1. 0. 0. 0. 0. 0. 0. 0. 0. 0. 0. 0. 0. 0. 0. 0. 0. 0. 0. 0. 0. 0.\n",
            " 0. 0. 0. 0. 0. 0. 0. 0. 0. 0. 0. 0. 0. 0. 0. 0. 0. 0. 0. 0. 0. 0. 0. 0.\n",
            " 0. 0. 0. 0. 0. 0. 0. 0. 0. 0. 0. 0. 0. 0. 0. 0. 0. 0. 0. 0. 0.]\n"
          ],
          "name": "stdout"
        }
      ]
    },
    {
      "cell_type": "code",
      "metadata": {
        "colab": {
          "base_uri": "https://localhost:8080/",
          "height": 329
        },
        "id": "ulGvn8Y0Qjuu",
        "outputId": "ed59923f-e926-433c-bbd4-05b556f7caf6"
      },
      "source": [
        "dummy = {\"Genre2\": {\"Action\": 1, \"Adventure\": 2 , \"Animation\": 3 ,\"Biography\": 4, \"Comedy\": 5,\"Drama\":6,\"Horror\":7,\"Crime\":8,\"Family\":9,\"Fantasy\":10,\"History\":11,\"Music\":12,\"Musical\":13,\"Mystery\":14,\"Romance\":15,\"Sci-Fi\":16,\"Sport\":17,\"Thriller\":18,\"War\":19,\"Western\":20}}\n",
        "df1.replace(dummy, inplace=True)\n",
        "df1.head()"
      ],
      "execution_count": null,
      "outputs": [
        {
          "output_type": "execute_result",
          "data": {
            "text/html": [
              "<div>\n",
              "<style scoped>\n",
              "    .dataframe tbody tr th:only-of-type {\n",
              "        vertical-align: middle;\n",
              "    }\n",
              "\n",
              "    .dataframe tbody tr th {\n",
              "        vertical-align: top;\n",
              "    }\n",
              "\n",
              "    .dataframe thead th {\n",
              "        text-align: right;\n",
              "    }\n",
              "</style>\n",
              "<table border=\"1\" class=\"dataframe\">\n",
              "  <thead>\n",
              "    <tr style=\"text-align: right;\">\n",
              "      <th></th>\n",
              "      <th>Rank</th>\n",
              "      <th>Title</th>\n",
              "      <th>Genre</th>\n",
              "      <th>Description</th>\n",
              "      <th>Actor1</th>\n",
              "      <th>Actor2</th>\n",
              "      <th>Actor3</th>\n",
              "      <th>Actor4</th>\n",
              "      <th>Director</th>\n",
              "      <th>Genre2</th>\n",
              "      <th>Year</th>\n",
              "      <th>Runtime (Minutes)</th>\n",
              "      <th>Rating</th>\n",
              "      <th>Votes</th>\n",
              "      <th>Revenue (Millions)</th>\n",
              "      <th>Metascore</th>\n",
              "      <th>Success</th>\n",
              "    </tr>\n",
              "  </thead>\n",
              "  <tbody>\n",
              "    <tr>\n",
              "      <th>0</th>\n",
              "      <td>1.0</td>\n",
              "      <td>guardians of the galaxy</td>\n",
              "      <td>action,adventure,sci-fi</td>\n",
              "      <td>a group of intergalactic criminals are forced ...</td>\n",
              "      <td>chris pratt</td>\n",
              "      <td>vin diesel</td>\n",
              "      <td>bradley cooper</td>\n",
              "      <td>zoe saldana</td>\n",
              "      <td>james gunn</td>\n",
              "      <td>1</td>\n",
              "      <td>2014.0</td>\n",
              "      <td>121.0</td>\n",
              "      <td>8.1</td>\n",
              "      <td>757074.0</td>\n",
              "      <td>333.13</td>\n",
              "      <td>76.0</td>\n",
              "      <td>1.0</td>\n",
              "    </tr>\n",
              "    <tr>\n",
              "      <th>1</th>\n",
              "      <td>2.0</td>\n",
              "      <td>prometheus</td>\n",
              "      <td>adventure,mystery,sci-fi</td>\n",
              "      <td>following clues to the origin of mankind, a te...</td>\n",
              "      <td>noomi rapace</td>\n",
              "      <td>logan marshall-green</td>\n",
              "      <td>michael fassbender</td>\n",
              "      <td>charlize theron</td>\n",
              "      <td>ridley scott</td>\n",
              "      <td>2</td>\n",
              "      <td>2012.0</td>\n",
              "      <td>124.0</td>\n",
              "      <td>7.0</td>\n",
              "      <td>485820.0</td>\n",
              "      <td>126.46</td>\n",
              "      <td>65.0</td>\n",
              "      <td>1.0</td>\n",
              "    </tr>\n",
              "    <tr>\n",
              "      <th>2</th>\n",
              "      <td>3.0</td>\n",
              "      <td>split</td>\n",
              "      <td>horror,thriller</td>\n",
              "      <td>three girls are kidnapped by a man with a diag...</td>\n",
              "      <td>james mcavoy</td>\n",
              "      <td>anya taylor-joy</td>\n",
              "      <td>haley lu richardson</td>\n",
              "      <td>jessica sula</td>\n",
              "      <td>m. night shyamalan</td>\n",
              "      <td>7</td>\n",
              "      <td>2016.0</td>\n",
              "      <td>117.0</td>\n",
              "      <td>7.3</td>\n",
              "      <td>157606.0</td>\n",
              "      <td>138.12</td>\n",
              "      <td>62.0</td>\n",
              "      <td>0.0</td>\n",
              "    </tr>\n",
              "    <tr>\n",
              "      <th>3</th>\n",
              "      <td>4.0</td>\n",
              "      <td>sing</td>\n",
              "      <td>animation,comedy,family</td>\n",
              "      <td>in a city of humanoid animals, a hustling thea...</td>\n",
              "      <td>matthew mcconaughey</td>\n",
              "      <td>reese witherspoon</td>\n",
              "      <td>seth macfarlane</td>\n",
              "      <td>scarlett johansson</td>\n",
              "      <td>christophe lourdelet</td>\n",
              "      <td>3</td>\n",
              "      <td>2016.0</td>\n",
              "      <td>108.0</td>\n",
              "      <td>7.2</td>\n",
              "      <td>60545.0</td>\n",
              "      <td>270.32</td>\n",
              "      <td>59.0</td>\n",
              "      <td>0.0</td>\n",
              "    </tr>\n",
              "    <tr>\n",
              "      <th>4</th>\n",
              "      <td>5.0</td>\n",
              "      <td>suicide squad</td>\n",
              "      <td>action,adventure,fantasy</td>\n",
              "      <td>a secret government agency recruits some of th...</td>\n",
              "      <td>will smith</td>\n",
              "      <td>jared leto</td>\n",
              "      <td>margot robbie</td>\n",
              "      <td>viola davis</td>\n",
              "      <td>david ayer</td>\n",
              "      <td>1</td>\n",
              "      <td>2016.0</td>\n",
              "      <td>123.0</td>\n",
              "      <td>6.2</td>\n",
              "      <td>393727.0</td>\n",
              "      <td>325.02</td>\n",
              "      <td>40.0</td>\n",
              "      <td>0.0</td>\n",
              "    </tr>\n",
              "  </tbody>\n",
              "</table>\n",
              "</div>"
            ],
            "text/plain": [
              "   Rank                    Title  ... Metascore Success\n",
              "0   1.0  guardians of the galaxy  ...      76.0     1.0\n",
              "1   2.0               prometheus  ...      65.0     1.0\n",
              "2   3.0                    split  ...      62.0     0.0\n",
              "3   4.0                     sing  ...      59.0     0.0\n",
              "4   5.0            suicide squad  ...      40.0     0.0\n",
              "\n",
              "[5 rows x 17 columns]"
            ]
          },
          "metadata": {
            "tags": []
          },
          "execution_count": 18
        }
      ]
    },
    {
      "cell_type": "code",
      "metadata": {
        "colab": {
          "base_uri": "https://localhost:8080/"
        },
        "id": "OS0vgHk7fvr7",
        "outputId": "920edb8c-ada8-40c0-b13d-54fbc17b11f5"
      },
      "source": [
        "df1[\"Actor1\"] = df1[\"Actor1\"].astype('category')\n",
        "df1[\"Actor2\"] = df1[\"Actor2\"].astype('category')\n",
        "df1[\"Actor3\"] = df1[\"Actor3\"].astype('category')\n",
        "df1[\"Actor4\"] = df1[\"Actor4\"].astype('category')\n",
        "df1[\"Director\"] = df1[\"Director\"].astype('category')\n",
        "\n",
        "df1.dtypes"
      ],
      "execution_count": null,
      "outputs": [
        {
          "output_type": "execute_result",
          "data": {
            "text/plain": [
              "Rank                   float64\n",
              "Title                   object\n",
              "Genre                   object\n",
              "Description             object\n",
              "Actor1                category\n",
              "Actor2                category\n",
              "Actor3                category\n",
              "Actor4                category\n",
              "Director              category\n",
              "Genre2                   int64\n",
              "Year                   float64\n",
              "Runtime (Minutes)      float64\n",
              "Rating                 float64\n",
              "Votes                  float64\n",
              "Revenue (Millions)     float64\n",
              "Metascore              float64\n",
              "Success                float64\n",
              "dtype: object"
            ]
          },
          "metadata": {
            "tags": []
          },
          "execution_count": 19
        }
      ]
    },
    {
      "cell_type": "code",
      "metadata": {
        "colab": {
          "base_uri": "https://localhost:8080/",
          "height": 552
        },
        "id": "WgsqLXqXgEfz",
        "outputId": "b1b0d2c4-aa0c-4cac-b253-7375ce1cbdf2"
      },
      "source": [
        "df1[\"Actor1_cat\"] = df1[\"Actor1\"].cat.codes\n",
        "df1[\"Actor2_cat\"] = df1[\"Actor2\"].cat.codes\n",
        "df1[\"Actor3_cat\"] = df1[\"Actor3\"].cat.codes\n",
        "df1[\"Actor4_cat\"] = df1[\"Actor4\"].cat.codes\n",
        "df1[\"Director_cat\"] = df1[\"Director\"].cat.codes\n",
        "df1.head()"
      ],
      "execution_count": null,
      "outputs": [
        {
          "output_type": "execute_result",
          "data": {
            "text/html": [
              "<div>\n",
              "<style scoped>\n",
              "    .dataframe tbody tr th:only-of-type {\n",
              "        vertical-align: middle;\n",
              "    }\n",
              "\n",
              "    .dataframe tbody tr th {\n",
              "        vertical-align: top;\n",
              "    }\n",
              "\n",
              "    .dataframe thead th {\n",
              "        text-align: right;\n",
              "    }\n",
              "</style>\n",
              "<table border=\"1\" class=\"dataframe\">\n",
              "  <thead>\n",
              "    <tr style=\"text-align: right;\">\n",
              "      <th></th>\n",
              "      <th>Rank</th>\n",
              "      <th>Title</th>\n",
              "      <th>Genre</th>\n",
              "      <th>Description</th>\n",
              "      <th>Actor1</th>\n",
              "      <th>Actor2</th>\n",
              "      <th>Actor3</th>\n",
              "      <th>Actor4</th>\n",
              "      <th>Director</th>\n",
              "      <th>Genre2</th>\n",
              "      <th>Year</th>\n",
              "      <th>Runtime (Minutes)</th>\n",
              "      <th>Rating</th>\n",
              "      <th>Votes</th>\n",
              "      <th>Revenue (Millions)</th>\n",
              "      <th>Metascore</th>\n",
              "      <th>Success</th>\n",
              "      <th>Actor1_cat</th>\n",
              "      <th>Actor2_cat</th>\n",
              "      <th>Actor3_cat</th>\n",
              "      <th>Actor4_cat</th>\n",
              "      <th>Director_cat</th>\n",
              "    </tr>\n",
              "  </thead>\n",
              "  <tbody>\n",
              "    <tr>\n",
              "      <th>0</th>\n",
              "      <td>1.0</td>\n",
              "      <td>guardians of the galaxy</td>\n",
              "      <td>action,adventure,sci-fi</td>\n",
              "      <td>a group of intergalactic criminals are forced ...</td>\n",
              "      <td>chris pratt</td>\n",
              "      <td>vin diesel</td>\n",
              "      <td>bradley cooper</td>\n",
              "      <td>zoe saldana</td>\n",
              "      <td>james gunn</td>\n",
              "      <td>1</td>\n",
              "      <td>2014.0</td>\n",
              "      <td>121.0</td>\n",
              "      <td>8.1</td>\n",
              "      <td>757074.0</td>\n",
              "      <td>333.13</td>\n",
              "      <td>76.0</td>\n",
              "      <td>1.0</td>\n",
              "      <td>75</td>\n",
              "      <td>555</td>\n",
              "      <td>82</td>\n",
              "      <td>516</td>\n",
              "      <td>208</td>\n",
              "    </tr>\n",
              "    <tr>\n",
              "      <th>1</th>\n",
              "      <td>2.0</td>\n",
              "      <td>prometheus</td>\n",
              "      <td>adventure,mystery,sci-fi</td>\n",
              "      <td>following clues to the origin of mankind, a te...</td>\n",
              "      <td>noomi rapace</td>\n",
              "      <td>logan marshall-green</td>\n",
              "      <td>michael fassbender</td>\n",
              "      <td>charlize theron</td>\n",
              "      <td>ridley scott</td>\n",
              "      <td>2</td>\n",
              "      <td>2012.0</td>\n",
              "      <td>124.0</td>\n",
              "      <td>7.0</td>\n",
              "      <td>485820.0</td>\n",
              "      <td>126.46</td>\n",
              "      <td>65.0</td>\n",
              "      <td>1.0</td>\n",
              "      <td>323</td>\n",
              "      <td>343</td>\n",
              "      <td>420</td>\n",
              "      <td>90</td>\n",
              "      <td>417</td>\n",
              "    </tr>\n",
              "    <tr>\n",
              "      <th>2</th>\n",
              "      <td>3.0</td>\n",
              "      <td>split</td>\n",
              "      <td>horror,thriller</td>\n",
              "      <td>three girls are kidnapped by a man with a diag...</td>\n",
              "      <td>james mcavoy</td>\n",
              "      <td>anya taylor-joy</td>\n",
              "      <td>haley lu richardson</td>\n",
              "      <td>jessica sula</td>\n",
              "      <td>m. night shyamalan</td>\n",
              "      <td>7</td>\n",
              "      <td>2016.0</td>\n",
              "      <td>117.0</td>\n",
              "      <td>7.3</td>\n",
              "      <td>157606.0</td>\n",
              "      <td>138.12</td>\n",
              "      <td>62.0</td>\n",
              "      <td>0.0</td>\n",
              "      <td>183</td>\n",
              "      <td>43</td>\n",
              "      <td>227</td>\n",
              "      <td>245</td>\n",
              "      <td>317</td>\n",
              "    </tr>\n",
              "    <tr>\n",
              "      <th>3</th>\n",
              "      <td>4.0</td>\n",
              "      <td>sing</td>\n",
              "      <td>animation,comedy,family</td>\n",
              "      <td>in a city of humanoid animals, a hustling thea...</td>\n",
              "      <td>matthew mcconaughey</td>\n",
              "      <td>reese witherspoon</td>\n",
              "      <td>seth macfarlane</td>\n",
              "      <td>scarlett johansson</td>\n",
              "      <td>christophe lourdelet</td>\n",
              "      <td>3</td>\n",
              "      <td>2016.0</td>\n",
              "      <td>108.0</td>\n",
              "      <td>7.2</td>\n",
              "      <td>60545.0</td>\n",
              "      <td>270.32</td>\n",
              "      <td>59.0</td>\n",
              "      <td>0.0</td>\n",
              "      <td>288</td>\n",
              "      <td>577</td>\n",
              "      <td>548</td>\n",
              "      <td>449</td>\n",
              "      <td>85</td>\n",
              "    </tr>\n",
              "    <tr>\n",
              "      <th>4</th>\n",
              "      <td>5.0</td>\n",
              "      <td>suicide squad</td>\n",
              "      <td>action,adventure,fantasy</td>\n",
              "      <td>a secret government agency recruits some of th...</td>\n",
              "      <td>will smith</td>\n",
              "      <td>jared leto</td>\n",
              "      <td>margot robbie</td>\n",
              "      <td>viola davis</td>\n",
              "      <td>david ayer</td>\n",
              "      <td>1</td>\n",
              "      <td>2016.0</td>\n",
              "      <td>123.0</td>\n",
              "      <td>6.2</td>\n",
              "      <td>393727.0</td>\n",
              "      <td>325.02</td>\n",
              "      <td>40.0</td>\n",
              "      <td>0.0</td>\n",
              "      <td>422</td>\n",
              "      <td>230</td>\n",
              "      <td>389</td>\n",
              "      <td>502</td>\n",
              "      <td>109</td>\n",
              "    </tr>\n",
              "  </tbody>\n",
              "</table>\n",
              "</div>"
            ],
            "text/plain": [
              "   Rank                    Title  ... Actor4_cat Director_cat\n",
              "0   1.0  guardians of the galaxy  ...        516          208\n",
              "1   2.0               prometheus  ...         90          417\n",
              "2   3.0                    split  ...        245          317\n",
              "3   4.0                     sing  ...        449           85\n",
              "4   5.0            suicide squad  ...        502          109\n",
              "\n",
              "[5 rows x 22 columns]"
            ]
          },
          "metadata": {
            "tags": []
          },
          "execution_count": 20
        }
      ]
    },
    {
      "cell_type": "code",
      "metadata": {
        "id": "IsQmkUVojKtR"
      },
      "source": [
        "df1= df1[['Rank','Title','Genre','Description','Director','Actor1','Actor2','Actor3','Actor4','Actor1_cat','Actor2_cat','Actor3_cat','Actor4_cat','Director_cat' ,'Genre2', 'Year', 'Runtime (Minutes)',\n",
        "       'Rating', 'Votes', 'Revenue (Millions)', 'Metascore','Success']]"
      ],
      "execution_count": null,
      "outputs": []
    },
    {
      "cell_type": "code",
      "metadata": {
        "colab": {
          "base_uri": "https://localhost:8080/",
          "height": 552
        },
        "id": "5JKEacipj6Fp",
        "outputId": "ec092790-72ea-4549-912f-d23290f685b1"
      },
      "source": [
        "df1.head()"
      ],
      "execution_count": null,
      "outputs": [
        {
          "output_type": "execute_result",
          "data": {
            "text/html": [
              "<div>\n",
              "<style scoped>\n",
              "    .dataframe tbody tr th:only-of-type {\n",
              "        vertical-align: middle;\n",
              "    }\n",
              "\n",
              "    .dataframe tbody tr th {\n",
              "        vertical-align: top;\n",
              "    }\n",
              "\n",
              "    .dataframe thead th {\n",
              "        text-align: right;\n",
              "    }\n",
              "</style>\n",
              "<table border=\"1\" class=\"dataframe\">\n",
              "  <thead>\n",
              "    <tr style=\"text-align: right;\">\n",
              "      <th></th>\n",
              "      <th>Rank</th>\n",
              "      <th>Title</th>\n",
              "      <th>Genre</th>\n",
              "      <th>Description</th>\n",
              "      <th>Director</th>\n",
              "      <th>Actor1</th>\n",
              "      <th>Actor2</th>\n",
              "      <th>Actor3</th>\n",
              "      <th>Actor4</th>\n",
              "      <th>Actor1_cat</th>\n",
              "      <th>Actor2_cat</th>\n",
              "      <th>Actor3_cat</th>\n",
              "      <th>Actor4_cat</th>\n",
              "      <th>Director_cat</th>\n",
              "      <th>Genre2</th>\n",
              "      <th>Year</th>\n",
              "      <th>Runtime (Minutes)</th>\n",
              "      <th>Rating</th>\n",
              "      <th>Votes</th>\n",
              "      <th>Revenue (Millions)</th>\n",
              "      <th>Metascore</th>\n",
              "      <th>Success</th>\n",
              "    </tr>\n",
              "  </thead>\n",
              "  <tbody>\n",
              "    <tr>\n",
              "      <th>0</th>\n",
              "      <td>1.0</td>\n",
              "      <td>guardians of the galaxy</td>\n",
              "      <td>action,adventure,sci-fi</td>\n",
              "      <td>a group of intergalactic criminals are forced ...</td>\n",
              "      <td>james gunn</td>\n",
              "      <td>chris pratt</td>\n",
              "      <td>vin diesel</td>\n",
              "      <td>bradley cooper</td>\n",
              "      <td>zoe saldana</td>\n",
              "      <td>75</td>\n",
              "      <td>555</td>\n",
              "      <td>82</td>\n",
              "      <td>516</td>\n",
              "      <td>208</td>\n",
              "      <td>1</td>\n",
              "      <td>2014.0</td>\n",
              "      <td>121.0</td>\n",
              "      <td>8.1</td>\n",
              "      <td>757074.0</td>\n",
              "      <td>333.13</td>\n",
              "      <td>76.0</td>\n",
              "      <td>1.0</td>\n",
              "    </tr>\n",
              "    <tr>\n",
              "      <th>1</th>\n",
              "      <td>2.0</td>\n",
              "      <td>prometheus</td>\n",
              "      <td>adventure,mystery,sci-fi</td>\n",
              "      <td>following clues to the origin of mankind, a te...</td>\n",
              "      <td>ridley scott</td>\n",
              "      <td>noomi rapace</td>\n",
              "      <td>logan marshall-green</td>\n",
              "      <td>michael fassbender</td>\n",
              "      <td>charlize theron</td>\n",
              "      <td>323</td>\n",
              "      <td>343</td>\n",
              "      <td>420</td>\n",
              "      <td>90</td>\n",
              "      <td>417</td>\n",
              "      <td>2</td>\n",
              "      <td>2012.0</td>\n",
              "      <td>124.0</td>\n",
              "      <td>7.0</td>\n",
              "      <td>485820.0</td>\n",
              "      <td>126.46</td>\n",
              "      <td>65.0</td>\n",
              "      <td>1.0</td>\n",
              "    </tr>\n",
              "    <tr>\n",
              "      <th>2</th>\n",
              "      <td>3.0</td>\n",
              "      <td>split</td>\n",
              "      <td>horror,thriller</td>\n",
              "      <td>three girls are kidnapped by a man with a diag...</td>\n",
              "      <td>m. night shyamalan</td>\n",
              "      <td>james mcavoy</td>\n",
              "      <td>anya taylor-joy</td>\n",
              "      <td>haley lu richardson</td>\n",
              "      <td>jessica sula</td>\n",
              "      <td>183</td>\n",
              "      <td>43</td>\n",
              "      <td>227</td>\n",
              "      <td>245</td>\n",
              "      <td>317</td>\n",
              "      <td>7</td>\n",
              "      <td>2016.0</td>\n",
              "      <td>117.0</td>\n",
              "      <td>7.3</td>\n",
              "      <td>157606.0</td>\n",
              "      <td>138.12</td>\n",
              "      <td>62.0</td>\n",
              "      <td>0.0</td>\n",
              "    </tr>\n",
              "    <tr>\n",
              "      <th>3</th>\n",
              "      <td>4.0</td>\n",
              "      <td>sing</td>\n",
              "      <td>animation,comedy,family</td>\n",
              "      <td>in a city of humanoid animals, a hustling thea...</td>\n",
              "      <td>christophe lourdelet</td>\n",
              "      <td>matthew mcconaughey</td>\n",
              "      <td>reese witherspoon</td>\n",
              "      <td>seth macfarlane</td>\n",
              "      <td>scarlett johansson</td>\n",
              "      <td>288</td>\n",
              "      <td>577</td>\n",
              "      <td>548</td>\n",
              "      <td>449</td>\n",
              "      <td>85</td>\n",
              "      <td>3</td>\n",
              "      <td>2016.0</td>\n",
              "      <td>108.0</td>\n",
              "      <td>7.2</td>\n",
              "      <td>60545.0</td>\n",
              "      <td>270.32</td>\n",
              "      <td>59.0</td>\n",
              "      <td>0.0</td>\n",
              "    </tr>\n",
              "    <tr>\n",
              "      <th>4</th>\n",
              "      <td>5.0</td>\n",
              "      <td>suicide squad</td>\n",
              "      <td>action,adventure,fantasy</td>\n",
              "      <td>a secret government agency recruits some of th...</td>\n",
              "      <td>david ayer</td>\n",
              "      <td>will smith</td>\n",
              "      <td>jared leto</td>\n",
              "      <td>margot robbie</td>\n",
              "      <td>viola davis</td>\n",
              "      <td>422</td>\n",
              "      <td>230</td>\n",
              "      <td>389</td>\n",
              "      <td>502</td>\n",
              "      <td>109</td>\n",
              "      <td>1</td>\n",
              "      <td>2016.0</td>\n",
              "      <td>123.0</td>\n",
              "      <td>6.2</td>\n",
              "      <td>393727.0</td>\n",
              "      <td>325.02</td>\n",
              "      <td>40.0</td>\n",
              "      <td>0.0</td>\n",
              "    </tr>\n",
              "  </tbody>\n",
              "</table>\n",
              "</div>"
            ],
            "text/plain": [
              "   Rank                    Title  ... Metascore Success\n",
              "0   1.0  guardians of the galaxy  ...      76.0     1.0\n",
              "1   2.0               prometheus  ...      65.0     1.0\n",
              "2   3.0                    split  ...      62.0     0.0\n",
              "3   4.0                     sing  ...      59.0     0.0\n",
              "4   5.0            suicide squad  ...      40.0     0.0\n",
              "\n",
              "[5 rows x 22 columns]"
            ]
          },
          "metadata": {
            "tags": []
          },
          "execution_count": 23
        }
      ]
    },
    {
      "cell_type": "code",
      "metadata": {
        "colab": {
          "base_uri": "https://localhost:8080/"
        },
        "id": "tbO4zv4VylwD",
        "outputId": "53cbad39-214c-403b-b10b-0b65735c45e1"
      },
      "source": [
        "print(df1.columns[9:21])"
      ],
      "execution_count": null,
      "outputs": [
        {
          "output_type": "stream",
          "text": [
            "Index(['Actor1_cat', 'Actor2_cat', 'Actor3_cat', 'Actor4_cat', 'Director_cat',\n",
            "       'Genre2', 'Year', 'Runtime (Minutes)', 'Rating', 'Votes',\n",
            "       'Revenue (Millions)', 'Metascore'],\n",
            "      dtype='object')\n"
          ],
          "name": "stdout"
        }
      ]
    },
    {
      "cell_type": "code",
      "metadata": {
        "id": "LjRkn76ntVdz"
      },
      "source": [
        "df1=df1.dropna(axis=0, how='any')"
      ],
      "execution_count": null,
      "outputs": []
    },
    {
      "cell_type": "markdown",
      "metadata": {
        "id": "nZbcRXFW1qsL"
      },
      "source": [
        "Splitting data for training and testing"
      ]
    },
    {
      "cell_type": "code",
      "metadata": {
        "id": "7iYBWgU7J-ot"
      },
      "source": [
        "trainx,testx,trainy,testy=train_test_split(df1[df1.columns[9:21]],df1.iloc[:,-1],test_size=0.25,random_state=0)\n",
        "s=StandardScaler()\n",
        "trainx=s.fit_transform(trainx)\n",
        "testx=s.transform(testx)"
      ],
      "execution_count": null,
      "outputs": []
    },
    {
      "cell_type": "markdown",
      "metadata": {
        "id": "VmQWKBfA7eUU"
      },
      "source": [
        "Model Performance"
      ]
    },
    {
      "cell_type": "markdown",
      "metadata": {
        "id": "NzZpqPFvJWL9"
      },
      "source": [
        "KNN"
      ]
    },
    {
      "cell_type": "code",
      "metadata": {
        "id": "RQBKfHG8KU64"
      },
      "source": [
        "knn = KNeighborsClassifier(n_neighbors=5)\n",
        "Knn_pred = knn.fit(trainx, trainy).predict(testx)"
      ],
      "execution_count": null,
      "outputs": []
    },
    {
      "cell_type": "code",
      "metadata": {
        "id": "JocCE2cGXGNn",
        "colab": {
          "base_uri": "https://localhost:8080/"
        },
        "outputId": "46e1ee8a-6441-4145-ead0-5cd829752095"
      },
      "source": [
        "from sklearn.metrics import confusion_matrix\n",
        "confusion_mat=confusion_matrix(testy,Knn_pred)\n",
        "print('Confusion Matrix is :',confusion_mat)"
      ],
      "execution_count": null,
      "outputs": [
        {
          "output_type": "stream",
          "text": [
            "Confusion Matrix is : [[171   3]\n",
            " [ 13  23]]\n"
          ],
          "name": "stdout"
        }
      ]
    },
    {
      "cell_type": "code",
      "metadata": {
        "colab": {
          "base_uri": "https://localhost:8080/"
        },
        "id": "NIgcBWKyuCB7",
        "outputId": "83cab97f-e3ef-4b8c-9417-178e0581d921"
      },
      "source": [
        "print(\"Train Score:\",knn.score(trainx, trainy))\n",
        "print(\"Test Score:\",knn.score(testx, testy))"
      ],
      "execution_count": null,
      "outputs": [
        {
          "output_type": "stream",
          "text": [
            "Train Score: 0.9393939393939394\n",
            "Test Score: 0.9238095238095239\n"
          ],
          "name": "stdout"
        }
      ]
    },
    {
      "cell_type": "code",
      "metadata": {
        "id": "849Zai4WKZGC",
        "colab": {
          "base_uri": "https://localhost:8080/"
        },
        "outputId": "441dcb07-d00a-46b8-a73f-c46c0aab76ab"
      },
      "source": [
        "accuracy=accuracy_score(testy,Knn_pred)\n",
        "print('Accuracy:',accuracy)"
      ],
      "execution_count": null,
      "outputs": [
        {
          "output_type": "stream",
          "text": [
            "Accuracy: 0.9238095238095239\n"
          ],
          "name": "stdout"
        }
      ]
    },
    {
      "cell_type": "code",
      "metadata": {
        "id": "P2uaGkjGKlbi",
        "colab": {
          "base_uri": "https://localhost:8080/"
        },
        "outputId": "6649defb-7ed2-4fab-880b-616ffd75bc4f"
      },
      "source": [
        "from sklearn.metrics import precision_score\n",
        "precision=precision_score(testy,Knn_pred)\n",
        "print('Precision:',precision)\n"
      ],
      "execution_count": null,
      "outputs": [
        {
          "output_type": "stream",
          "text": [
            "Precision: 0.8846153846153846\n"
          ],
          "name": "stdout"
        }
      ]
    },
    {
      "cell_type": "code",
      "metadata": {
        "id": "10dB_3QJKnxh",
        "colab": {
          "base_uri": "https://localhost:8080/"
        },
        "outputId": "999e1b48-6665-419d-e946-4dce32c0bb45"
      },
      "source": [
        "from sklearn.metrics import recall_score\n",
        "recall=recall_score(testy,Knn_pred)\n",
        "print('Recall: ',recall)"
      ],
      "execution_count": null,
      "outputs": [
        {
          "output_type": "stream",
          "text": [
            "Recall:  0.6388888888888888\n"
          ],
          "name": "stdout"
        }
      ]
    },
    {
      "cell_type": "code",
      "metadata": {
        "id": "gdHYfrZcYR_b",
        "colab": {
          "base_uri": "https://localhost:8080/",
          "height": 295
        },
        "outputId": "748828a8-416d-4ebe-dfc8-0d6752588131"
      },
      "source": [
        "from sklearn.metrics import roc_curve, auc\n",
        "fpr,tpr,thresh=roc_curve(testy, Knn_pred)\n",
        "auc=auc(fpr, tpr)\n",
        "plt.title('ROC')\n",
        "plt.plot(fpr, tpr, 'k',label='AUC = ROC (area=%0.2f)'% auc)\n",
        "plt.legend(loc='lower right')\n",
        "plt.plot([0,1],[0,1],'b--')\n",
        "plt.xlim([-0.1,1.2])\n",
        "plt.ylim([-0.1,1.2])\n",
        "plt.ylabel('True Positive Rate')\n",
        "plt.xlabel('False Positive Rate')\n",
        "plt.show()"
      ],
      "execution_count": null,
      "outputs": [
        {
          "output_type": "display_data",
          "data": {
            "image/png": "[encoded data removed]",
            "text/plain": [
              "<Figure size 432x288 with 1 Axes>"
            ]
          },
          "metadata": {
            "tags": [],
            "needs_background": "light"
          }
        }
      ]
    },
    {
      "cell_type": "markdown",
      "metadata": {
        "id": "oFVGJmfbAB0o"
      },
      "source": [
        "Logistic Regression"
      ]
    },
    {
      "cell_type": "code",
      "metadata": {
        "id": "XK27hZjN-682"
      },
      "source": [
        "from sklearn.linear_model import LogisticRegression\n",
        "Lr=LogisticRegression()\n",
        "Lr_pred=Lr.fit(trainx, trainy).predict(testx)"
      ],
      "execution_count": null,
      "outputs": []
    },
    {
      "cell_type": "code",
      "metadata": {
        "id": "luNNQq6tYuCk",
        "colab": {
          "base_uri": "https://localhost:8080/"
        },
        "outputId": "58ae1e9e-2bd6-4165-c1d5-0ffd87cdc801"
      },
      "source": [
        "from sklearn.metrics import confusion_matrix\n",
        "confusion_mat=confusion_matrix(testy,Lr_pred)\n",
        "print('Confusion Matrix is :',confusion_mat)"
      ],
      "execution_count": null,
      "outputs": [
        {
          "output_type": "stream",
          "text": [
            "Confusion Matrix is : [[167   7]\n",
            " [  8  28]]\n"
          ],
          "name": "stdout"
        }
      ]
    },
    {
      "cell_type": "code",
      "metadata": {
        "colab": {
          "base_uri": "https://localhost:8080/"
        },
        "id": "77eCYvG5uGfY",
        "outputId": "5429dc6d-49c5-4107-92c3-21282fff2e03"
      },
      "source": [
        "print(\"Train Score:\",Lr.score(trainx, trainy))\n",
        "print(\"Test Score:\",Lr.score(testx, testy))"
      ],
      "execution_count": null,
      "outputs": [
        {
          "output_type": "stream",
          "text": [
            "Train Score: 0.937799043062201\n",
            "Test Score: 0.9285714285714286\n"
          ],
          "name": "stdout"
        }
      ]
    },
    {
      "cell_type": "code",
      "metadata": {
        "id": "BoljWbAI_c6k",
        "colab": {
          "base_uri": "https://localhost:8080/"
        },
        "outputId": "ab8a45e4-cab3-4359-f78d-28b427204a93"
      },
      "source": [
        "from sklearn.metrics import accuracy_score\n",
        "accuracy=accuracy_score(testy,Lr_pred)\n",
        "print('Accuracy:',accuracy)"
      ],
      "execution_count": null,
      "outputs": [
        {
          "output_type": "stream",
          "text": [
            "Accuracy: 0.9285714285714286\n"
          ],
          "name": "stdout"
        }
      ]
    },
    {
      "cell_type": "code",
      "metadata": {
        "id": "rrA2LqT1_0hO",
        "colab": {
          "base_uri": "https://localhost:8080/"
        },
        "outputId": "4bd953ca-b455-4521-a70d-e6cb2ca01a0f"
      },
      "source": [
        "from sklearn.metrics import precision_score\n",
        "precision=precision_score(testy,Lr_pred)\n",
        "print('Precision:',precision)"
      ],
      "execution_count": null,
      "outputs": [
        {
          "output_type": "stream",
          "text": [
            "Precision: 0.8\n"
          ],
          "name": "stdout"
        }
      ]
    },
    {
      "cell_type": "code",
      "metadata": {
        "id": "hDiVRppg_rdi",
        "colab": {
          "base_uri": "https://localhost:8080/"
        },
        "outputId": "9b4da395-4217-453c-e0b2-f7e2b2b6e49d"
      },
      "source": [
        "from sklearn.metrics import recall_score\n",
        "recall=recall_score(testy,Lr_pred)\n",
        "print('Recall: ',recall)"
      ],
      "execution_count": null,
      "outputs": [
        {
          "output_type": "stream",
          "text": [
            "Recall:  0.7777777777777778\n"
          ],
          "name": "stdout"
        }
      ]
    },
    {
      "cell_type": "code",
      "metadata": {
        "id": "0udYD7qUY0yZ",
        "colab": {
          "base_uri": "https://localhost:8080/",
          "height": 295
        },
        "outputId": "4102668d-4df4-432d-fa1a-441245ea1a0b"
      },
      "source": [
        "from sklearn.metrics import roc_curve, auc\n",
        "fpr,tpr,thresh=roc_curve(testy, Lr_pred)\n",
        "auc=auc(fpr, tpr)\n",
        "plt.title('ROC')\n",
        "plt.plot(fpr, tpr, 'k',label='AUC = ROC (area=%0.2f)'% auc)\n",
        "plt.legend(loc='lower right')\n",
        "plt.plot([0,1],[0,1],'b--')\n",
        "plt.xlim([-0.1,1.2])\n",
        "plt.ylim([-0.1,1.2])\n",
        "plt.ylabel('True Positive Rate')\n",
        "plt.xlabel('False Positive Rate')\n",
        "plt.show()"
      ],
      "execution_count": null,
      "outputs": [
        {
          "output_type": "display_data",
          "data": {
            "image/png": "[encoded data removed]",
            "text/plain": [
              "<Figure size 432x288 with 1 Axes>"
            ]
          },
          "metadata": {
            "tags": [],
            "needs_background": "light"
          }
        }
      ]
    },
    {
      "cell_type": "markdown",
      "metadata": {
        "id": "LnxMumSsDuHv"
      },
      "source": [
        "SVM"
      ]
    },
    {
      "cell_type": "code",
      "metadata": {
        "id": "C1qJkZ-IAq2i"
      },
      "source": [
        "from sklearn import svm\n",
        "s=svm.SVC()\n",
        "svm_pred=s.fit(trainx,trainy).predict(testx)"
      ],
      "execution_count": null,
      "outputs": []
    },
    {
      "cell_type": "code",
      "metadata": {
        "id": "fShgy5jlZTxX",
        "colab": {
          "base_uri": "https://localhost:8080/"
        },
        "outputId": "1703e807-69d7-43d2-c101-1d0ff827d752"
      },
      "source": [
        "confusion_mat=confusion_matrix(testy,svm_pred)\n",
        "print('Confusion Matrix is :',confusion_mat)"
      ],
      "execution_count": null,
      "outputs": [
        {
          "output_type": "stream",
          "text": [
            "Confusion Matrix is : [[172   2]\n",
            " [  9  27]]\n"
          ],
          "name": "stdout"
        }
      ]
    },
    {
      "cell_type": "code",
      "metadata": {
        "id": "jUlGAiyXBJ5g",
        "colab": {
          "base_uri": "https://localhost:8080/"
        },
        "outputId": "ac0671b0-f9f9-455c-84c6-a881c67fdbc4"
      },
      "source": [
        "from sklearn.metrics import accuracy_score\n",
        "accuracy=accuracy_score(testy,svm_pred)\n",
        "print('Accuracy:',accuracy)"
      ],
      "execution_count": null,
      "outputs": [
        {
          "output_type": "stream",
          "text": [
            "Accuracy: 0.9476190476190476\n"
          ],
          "name": "stdout"
        }
      ]
    },
    {
      "cell_type": "code",
      "metadata": {
        "id": "EFzKzH3OA9F8",
        "colab": {
          "base_uri": "https://localhost:8080/"
        },
        "outputId": "cdf912c5-0067-49bd-f536-1584619984d6"
      },
      "source": [
        "from sklearn.metrics import precision_score\n",
        "precision=precision_score(testy,svm_pred)\n",
        "print('Precision:',precision)"
      ],
      "execution_count": null,
      "outputs": [
        {
          "output_type": "stream",
          "text": [
            "Precision: 0.9310344827586207\n"
          ],
          "name": "stdout"
        }
      ]
    },
    {
      "cell_type": "code",
      "metadata": {
        "id": "VPmXfXjeBDOI",
        "colab": {
          "base_uri": "https://localhost:8080/"
        },
        "outputId": "98238619-8ba6-4f52-8c7e-032039abe84e"
      },
      "source": [
        "from sklearn.metrics import recall_score\n",
        "recall=recall_score(testy,svm_pred)\n",
        "print('Recall: ',recall)"
      ],
      "execution_count": null,
      "outputs": [
        {
          "output_type": "stream",
          "text": [
            "Recall:  0.75\n"
          ],
          "name": "stdout"
        }
      ]
    },
    {
      "cell_type": "code",
      "metadata": {
        "id": "8Fr5stxzZ1q8",
        "colab": {
          "base_uri": "https://localhost:8080/",
          "height": 295
        },
        "outputId": "8d21fef9-eaf9-451e-93bb-83a8b0b1ca63"
      },
      "source": [
        "from sklearn.metrics import roc_curve, auc\n",
        "fpr,tpr,thresh=roc_curve(testy, svm_pred)\n",
        "auc=auc(fpr, tpr)\n",
        "plt.title('ROC')\n",
        "plt.plot(fpr, tpr, 'k',label='AUC = ROC (area=%0.2f)'% auc)\n",
        "plt.legend(loc='lower right')\n",
        "plt.plot([0,1],[0,1],'b--')\n",
        "plt.xlim([-0.1,1.2])\n",
        "plt.ylim([-0.1,1.2])\n",
        "plt.ylabel('True Positive Rate')\n",
        "plt.xlabel('False Positive Rate')\n",
        "plt.show()"
      ],
      "execution_count": null,
      "outputs": [
        {
          "output_type": "display_data",
          "data": {
            "image/png": "[encoded data removed]",
            "text/plain": [
              "<Figure size 432x288 with 1 Axes>"
            ]
          },
          "metadata": {
            "tags": [],
            "needs_background": "light"
          }
        }
      ]
    },
    {
      "cell_type": "markdown",
      "metadata": {
        "id": "RQbxxS_2DmVH"
      },
      "source": [
        "Naive Bayes"
      ]
    },
    {
      "cell_type": "code",
      "metadata": {
        "id": "BUx2XZL1BaVh"
      },
      "source": [
        "from sklearn.naive_bayes import GaussianNB\n",
        "naive=GaussianNB()\n",
        "NB_pred=naive.fit(trainx,trainy).predict(testx)"
      ],
      "execution_count": null,
      "outputs": []
    },
    {
      "cell_type": "code",
      "metadata": {
        "id": "Vkh0-e0-aC06",
        "colab": {
          "base_uri": "https://localhost:8080/"
        },
        "outputId": "8324294c-5f34-492c-8ce9-98d7d8d20aff"
      },
      "source": [
        "confusion_mat=confusion_matrix(testy,NB_pred)\n",
        "print('Confusion Matrix is :',confusion_mat)"
      ],
      "execution_count": null,
      "outputs": [
        {
          "output_type": "stream",
          "text": [
            "Confusion Matrix is : [[158  16]\n",
            " [  7  29]]\n"
          ],
          "name": "stdout"
        }
      ]
    },
    {
      "cell_type": "code",
      "metadata": {
        "colab": {
          "base_uri": "https://localhost:8080/"
        },
        "id": "1OYW2ajJugWi",
        "outputId": "585047c1-5496-4169-fe01-2a7546ea6062"
      },
      "source": [
        "print(\"Train Score:\",naive.score(trainx, trainy))\n",
        "print(\"Test Score:\",naive.score(testx, testy))"
      ],
      "execution_count": null,
      "outputs": [
        {
          "output_type": "stream",
          "text": [
            "Train Score: 0.9186602870813397\n",
            "Test Score: 0.8904761904761904\n"
          ],
          "name": "stdout"
        }
      ]
    },
    {
      "cell_type": "code",
      "metadata": {
        "id": "J6pvJW2hBqrt",
        "colab": {
          "base_uri": "https://localhost:8080/"
        },
        "outputId": "11b16731-ab0a-4091-a2e8-8b670e8eeb92"
      },
      "source": [
        "from sklearn.metrics import accuracy_score\n",
        "accuracy=accuracy_score(testy,NB_pred)\n",
        "print('Accuracy:',accuracy)"
      ],
      "execution_count": null,
      "outputs": [
        {
          "output_type": "stream",
          "text": [
            "Accuracy: 0.8904761904761904\n"
          ],
          "name": "stdout"
        }
      ]
    },
    {
      "cell_type": "code",
      "metadata": {
        "id": "OH3L7ZgiBzBj",
        "colab": {
          "base_uri": "https://localhost:8080/"
        },
        "outputId": "8eef08f6-365c-4ace-97ac-d75dcdf34563"
      },
      "source": [
        "from sklearn.metrics import precision_score\n",
        "precision=precision_score(testy,NB_pred)\n",
        "print('Precision:',precision)"
      ],
      "execution_count": null,
      "outputs": [
        {
          "output_type": "stream",
          "text": [
            "Precision: 0.6444444444444445\n"
          ],
          "name": "stdout"
        }
      ]
    },
    {
      "cell_type": "code",
      "metadata": {
        "id": "_oY6NWj1B2p2",
        "colab": {
          "base_uri": "https://localhost:8080/"
        },
        "outputId": "5af7150b-a042-4ec3-e733-b04b0bcffff7"
      },
      "source": [
        "from sklearn.metrics import recall_score\n",
        "recall=recall_score(testy,NB_pred)\n",
        "print('Recall: ',recall)"
      ],
      "execution_count": null,
      "outputs": [
        {
          "output_type": "stream",
          "text": [
            "Recall:  0.8055555555555556\n"
          ],
          "name": "stdout"
        }
      ]
    },
    {
      "cell_type": "code",
      "metadata": {
        "id": "PEzTqsVCaJE7",
        "colab": {
          "base_uri": "https://localhost:8080/",
          "height": 295
        },
        "outputId": "371184c0-2409-4c0a-96ba-5c3ec5144428"
      },
      "source": [
        "from sklearn.metrics import roc_curve, auc\n",
        "fpr,tpr,thresh=roc_curve(testy, NB_pred)\n",
        "auc=auc(fpr, tpr)\n",
        "plt.title('ROC')\n",
        "plt.plot(fpr, tpr, 'k',label='AUC = ROC (area=%0.2f)'% auc)\n",
        "plt.legend(loc='lower right')\n",
        "plt.plot([0,1],[0,1],'b--')\n",
        "plt.xlim([-0.1,1.2])\n",
        "plt.ylim([-0.1,1.2])\n",
        "plt.ylabel('True Positive Rate')\n",
        "plt.xlabel('False Positive Rate')\n",
        "plt.show()"
      ],
      "execution_count": null,
      "outputs": [
        {
          "output_type": "display_data",
          "data": {
            "image/png": "[encoded data removed]",
            "text/plain": [
              "<Figure size 432x288 with 1 Axes>"
            ]
          },
          "metadata": {
            "tags": [],
            "needs_background": "light"
          }
        }
      ]
    },
    {
      "cell_type": "markdown",
      "metadata": {
        "id": "XXH4hjBO25QT"
      },
      "source": [
        "Success Prediction"
      ]
    },
    {
      "cell_type": "code",
      "metadata": {
        "id": "TkQRHjHH14ks"
      },
      "source": [
        "import pickle\n",
        "pickle.dump(Lr,open('movies.pkl','wb'))\n",
        "model=pickle.load(open('movies.pkl','rb'))\n"
      ],
      "execution_count": null,
      "outputs": []
    },
    {
      "cell_type": "code",
      "metadata": {
        "colab": {
          "base_uri": "https://localhost:8080/"
        },
        "id": "f5QVo1fo8Dcr",
        "outputId": "a1861946-466d-47e8-8cd4-e191b805e43e"
      },
      "source": [
        "print(\"Success or failure ? ->\",model.predict([[75,43,389,245,85,7,2020, 121, 7.6, 157666, 270, 78]]))"
      ],
      "execution_count": null,
      "outputs": [
        {
          "output_type": "stream",
          "text": [
            "Success or failure ? -> [1.]\n"
          ],
          "name": "stdout"
        }
      ]
    },
    {
      "cell_type": "code",
      "metadata": {
        "colab": {
          "base_uri": "https://localhost:8080/"
        },
        "id": "yGtZqntg73yt",
        "outputId": "e11ba2d3-678f-4b31-f4eb-89fd8c80d283"
      },
      "source": [
        "print(\"Success or failure ? ->\",model.predict([[183,43,227,245,317,7,2016, 117, 4.3, 157, 138, 6]]))"
      ],
      "execution_count": null,
      "outputs": [
        {
          "output_type": "stream",
          "text": [
            "Success or failure ? -> [0.]\n"
          ],
          "name": "stdout"
        }
      ]
    }
  ]
}